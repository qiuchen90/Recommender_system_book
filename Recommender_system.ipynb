{
 "cells": [
  {
   "cell_type": "code",
   "execution_count": 2,
   "metadata": {
    "collapsed": true
   },
   "outputs": [],
   "source": [
    "class recommender_system(object):\n",
    "    def __init__(self):\n",
    "        self.prediction = None\n",
    "    def readfile(filename):\n",
    "        filecontents = filename.readlines()\n",
    "        contents=[]\n",
    "        for line in filecontents:\n",
    "            foo = line.strip('\\n')\n",
    "            contents.append([int(n) for n in foo.split(',')])\n",
    "        data=np.asarray(contents)\n",
    "        return data\n",
    "    def MSE(self,R,d):\n",
    "        # Replace the nan values by zero\n",
    "        index=np.isnan(R)\n",
    "        Rnew = R.copy()\n",
    "        row, col = Rnew.shape\n",
    "        Rnew[index]=0\n",
    "        U,s,V = LA.svd(Rnew, full_matrices=False)\n",
    "        s[d:]=0\n",
    "        out = np.dot(U, np.dot(np.diag(s), V))\n",
    "        Rnew[index]=out[index]\n",
    "        self.prediction = out\n",
    "        MSE=np.linalg.norm(out-Rnew)**2\n",
    "        return MSE/(col*row-sum(sum(index)))\n",
    "    def MLF(self, R, d, Lambda):\n",
    "        row, col= R.shape\n",
    "        U =  np.random.rand(row, d)\n",
    "        V = np.random.rand(d, col)\n",
    "        Rnew = R.copy()\n",
    "        for i in range(10):\n",
    "            current = np.dot(U, V)\n",
    "            U=self.updateU(Rnew,V,Lambda)\n",
    "            V=self.updateV(Rnew,U,Lambda)\n",
    "        out = np.dot(U,V)\n",
    "        self.prediction = out\n",
    "        MSE=self.rmse(out, Rnew)\n",
    "        return MSE/(col*row-sum(sum(index)))\n",
    "    def updateU(self, R,V,Lambda):\n",
    "        U = np.linalg.solve(np.dot(V, V.T)+Lambda*np.eye(len(V)), np.dot(V, R.T))        \n",
    "        return U.T\n",
    "    def updateV(self, R,U,Lambda):\n",
    "        V = np.linalg.solve(np.dot(U.T,U)+Lambda*np.eye(len(U[0])), np.dot(U.T, R))\n",
    "        return V\n",
    "    def rmse(self, prediction, ground_truth):\n",
    "        prediction = prediction[ground_truth.nonzero()].toarray() \n",
    "        ground_truth = ground_truth[ground_truth.nonzero()].toarray()\n",
    "        return sqrt(mean_squared_error(prediction, ground_truth))\n",
    "    def validate_accuracy(self,data):\n",
    "        pred = self.prediction\n",
    "        N = data.shape[0]\n",
    "        n = 0\n",
    "        for row in data:\n",
    "            if (pred[row[0]-1, row[1]-1]>0 and row[2] == 1)\\\n",
    "            or (pred[row[0]-1, row[1]-1]<=0 and row[2] == 0):\n",
    "                n += 1\n",
    "        return float(n)/N"
   ]
  },
  {
   "cell_type": "code",
   "execution_count": null,
   "metadata": {
    "collapsed": true
   },
   "outputs": [],
   "source": []
  }
 ],
 "metadata": {
  "kernelspec": {
   "display_name": "Python 3",
   "language": "python",
   "name": "python3"
  },
  "language_info": {
   "codemirror_mode": {
    "name": "ipython",
    "version": 3
   },
   "file_extension": ".py",
   "mimetype": "text/x-python",
   "name": "python",
   "nbconvert_exporter": "python",
   "pygments_lexer": "ipython3",
   "version": "3.6.2"
  }
 },
 "nbformat": 4,
 "nbformat_minor": 2
}
