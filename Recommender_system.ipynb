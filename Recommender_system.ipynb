{
 "cells": [
  {
   "cell_type": "code",
   "execution_count": 33,
   "metadata": {
    "collapsed": true
   },
   "outputs": [],
   "source": [
    "import numpy as np\n",
    "import pandas as pd\n",
    "import seaborn as sns\n",
    "import matplotlib.pyplot as plt\n",
    "%matplotlib inline"
   ]
  },
  {
   "cell_type": "code",
   "execution_count": 34,
   "metadata": {
    "collapsed": true
   },
   "outputs": [],
   "source": [
    "import json\n",
    "from pandas.io.json import json_normalize"
   ]
  },
  {
   "cell_type": "code",
   "execution_count": 35,
   "metadata": {
    "collapsed": true
   },
   "outputs": [],
   "source": [
    "# Import Users file as dataframe\n",
    "with open('BX-CSV-Dump/book-crossing_users.json') as data_file:\n",
    "    data = data_file.readlines()\n",
    "# remove the trailing \"\\n\" from each line\n",
    "data = map(lambda x: x.rstrip(), data)\n",
    "\n",
    "# each element of 'data' is an individual JSON object.\n",
    "# i want to convert it into an *array* of JSON objects\n",
    "# which, in and of itself, is one large JSON object\n",
    "# basically... add square brackets to the beginning\n",
    "# and end, and have all the individual business JSON objects\n",
    "# separated by a comma\n",
    "data_json_str = \"[\" + ','.join(data) + \"]\"\n",
    "\n",
    "# now, load it into pandas\n",
    "User = pd.read_json(data_json_str)"
   ]
  },
  {
   "cell_type": "code",
   "execution_count": 36,
   "metadata": {
    "collapsed": true
   },
   "outputs": [],
   "source": [
    "# Import Books file as dataframe\n",
    "with open('BX-CSV-Dump/book-crossing_books.json') as data_file:\n",
    "        data = data_file.readlines()\n",
    "# remove the trailing \"\\n\" from each line\n",
    "data = map(lambda x: x.rstrip(), data)\n",
    "\n",
    "# each element of 'data' is an individual JSON object.\n",
    "# i want to convert it into an *array* of JSON objects\n",
    "# which, in and of itself, is one large JSON object\n",
    "# basically... add square brackets to the beginning\n",
    "# and end, and have all the individual business JSON objects\n",
    "# separated by a comma\n",
    "data_json_str = \"[\" + ','.join(data) + \"]\"\n",
    "\n",
    "# now, load it into pandas\n",
    "Books = pd.read_json(data_json_str)"
   ]
  },
  {
   "cell_type": "code",
   "execution_count": 37,
   "metadata": {
    "collapsed": true
   },
   "outputs": [],
   "source": [
    "# Import Ratings file as dataframe\n",
    "# Note that duplicate entries of ratings have already been removed\n",
    "# Also users who do not rate at least one book has been removed\n",
    "# Books not receiving as least one review have been removed from rating matrix\n",
    "# Only Explicit Ratings are loaded and analysed\n",
    "with open('BX-CSV-Dump/book-crossing_explicit_ratings.json') as data_file:\n",
    "        data = data_file.readlines()\n",
    "# remove the trailing \"\\n\" from each line\n",
    "data = map(lambda x: x.rstrip(), data)\n",
    "\n",
    "# each element of 'data' is an individual JSON object.\n",
    "# i want to convert it into an *array* of JSON objects\n",
    "# which, in and of itself, is one large JSON object\n",
    "# basically... add square brackets to the beginning\n",
    "# and end, and have all the individual business JSON objects\n",
    "# separated by a comma\n",
    "data_json_str = \"[\" + ','.join(data) + \"]\"\n",
    "\n",
    "# now, load it into pandas\n",
    "df = pd.read_json(data_json_str)"
   ]
  },
  {
   "cell_type": "code",
   "execution_count": 38,
   "metadata": {},
   "outputs": [
    {
     "name": "stdout",
     "output_type": "stream",
     "text": [
      "      book_id  implicit  rating  user_id\n",
      "0  0155061224       NaN       5   276726\n",
      "1  052165615X       NaN       3   276729\n",
      "2  0521795028       NaN       6   276729\n",
      "3  038550120X       NaN       7   276744\n",
      "4  0060517794       NaN       9   276747\n"
     ]
    }
   ],
   "source": [
    "print(df.head())"
   ]
  },
  {
   "cell_type": "code",
   "execution_count": 39,
   "metadata": {},
   "outputs": [
    {
     "data": {
      "text/html": [
       "<div>\n",
       "<style>\n",
       "    .dataframe thead tr:only-child th {\n",
       "        text-align: right;\n",
       "    }\n",
       "\n",
       "    .dataframe thead th {\n",
       "        text-align: left;\n",
       "    }\n",
       "\n",
       "    .dataframe tbody tr th {\n",
       "        vertical-align: top;\n",
       "    }\n",
       "</style>\n",
       "<table border=\"1\" class=\"dataframe\">\n",
       "  <thead>\n",
       "    <tr style=\"text-align: right;\">\n",
       "      <th></th>\n",
       "      <th>rating</th>\n",
       "    </tr>\n",
       "    <tr>\n",
       "      <th>book_id</th>\n",
       "      <th></th>\n",
       "    </tr>\n",
       "  </thead>\n",
       "  <tbody>\n",
       "    <tr>\n",
       "      <th>0000913154</th>\n",
       "      <td>8.0</td>\n",
       "    </tr>\n",
       "    <tr>\n",
       "      <th>0001046438</th>\n",
       "      <td>9.0</td>\n",
       "    </tr>\n",
       "    <tr>\n",
       "      <th>000104687X</th>\n",
       "      <td>6.0</td>\n",
       "    </tr>\n",
       "    <tr>\n",
       "      <th>0001047213</th>\n",
       "      <td>9.0</td>\n",
       "    </tr>\n",
       "    <tr>\n",
       "      <th>0001047973</th>\n",
       "      <td>9.0</td>\n",
       "    </tr>\n",
       "  </tbody>\n",
       "</table>\n",
       "</div>"
      ],
      "text/plain": [
       "            rating\n",
       "book_id           \n",
       "0000913154     8.0\n",
       "0001046438     9.0\n",
       "000104687X     6.0\n",
       "0001047213     9.0\n",
       "0001047973     9.0"
      ]
     },
     "execution_count": 39,
     "metadata": {},
     "output_type": "execute_result"
    }
   ],
   "source": [
    "# Visualize the dataset\n",
    "sns.set_style('white')\n",
    "ratings = pd.DataFrame(df.groupby('book_id')['rating'].mean())\n",
    "ratings.head()"
   ]
  },
  {
   "cell_type": "code",
   "execution_count": 40,
   "metadata": {},
   "outputs": [
    {
     "data": {
      "text/html": [
       "<div>\n",
       "<style>\n",
       "    .dataframe thead tr:only-child th {\n",
       "        text-align: right;\n",
       "    }\n",
       "\n",
       "    .dataframe thead th {\n",
       "        text-align: left;\n",
       "    }\n",
       "\n",
       "    .dataframe tbody tr th {\n",
       "        vertical-align: top;\n",
       "    }\n",
       "</style>\n",
       "<table border=\"1\" class=\"dataframe\">\n",
       "  <thead>\n",
       "    <tr style=\"text-align: right;\">\n",
       "      <th></th>\n",
       "      <th>rating</th>\n",
       "      <th>num of ratings</th>\n",
       "    </tr>\n",
       "    <tr>\n",
       "      <th>book_id</th>\n",
       "      <th></th>\n",
       "      <th></th>\n",
       "    </tr>\n",
       "  </thead>\n",
       "  <tbody>\n",
       "    <tr>\n",
       "      <th>0000913154</th>\n",
       "      <td>8.0</td>\n",
       "      <td>1</td>\n",
       "    </tr>\n",
       "    <tr>\n",
       "      <th>0001046438</th>\n",
       "      <td>9.0</td>\n",
       "      <td>1</td>\n",
       "    </tr>\n",
       "    <tr>\n",
       "      <th>000104687X</th>\n",
       "      <td>6.0</td>\n",
       "      <td>1</td>\n",
       "    </tr>\n",
       "    <tr>\n",
       "      <th>0001047213</th>\n",
       "      <td>9.0</td>\n",
       "      <td>1</td>\n",
       "    </tr>\n",
       "    <tr>\n",
       "      <th>0001047973</th>\n",
       "      <td>9.0</td>\n",
       "      <td>2</td>\n",
       "    </tr>\n",
       "  </tbody>\n",
       "</table>\n",
       "</div>"
      ],
      "text/plain": [
       "            rating  num of ratings\n",
       "book_id                           \n",
       "0000913154     8.0               1\n",
       "0001046438     9.0               1\n",
       "000104687X     6.0               1\n",
       "0001047213     9.0               1\n",
       "0001047973     9.0               2"
      ]
     },
     "execution_count": 40,
     "metadata": {},
     "output_type": "execute_result"
    }
   ],
   "source": [
    "ratings['num of ratings'] = pd.DataFrame(df.groupby('book_id')['rating'].count())\n",
    "ratings.head()"
   ]
  },
  {
   "cell_type": "code",
   "execution_count": 41,
   "metadata": {},
   "outputs": [
    {
     "data": {
      "text/plain": [
       "<matplotlib.axes._subplots.AxesSubplot at 0x24e0e4a22e8>"
      ]
     },
     "execution_count": 41,
     "metadata": {},
     "output_type": "execute_result"
    },
    {
     "data": {
      "image/png": "[encoded data removed]",
      "text/plain": [
       "<matplotlib.figure.Figure at 0x24e0e4a24e0>"
      ]
     },
     "metadata": {},
     "output_type": "display_data"
    }
   ],
   "source": [
    "plt.figure(figsize=(10,4))\n",
    "ratings['num of ratings'].hist(bins=1000)"
   ]
  },
  {
   "cell_type": "code",
   "execution_count": 42,
   "metadata": {},
   "outputs": [
    {
     "data": {
      "text/plain": [
       "<matplotlib.axes._subplots.AxesSubplot at 0x24e10fd6be0>"
      ]
     },
     "execution_count": 42,
     "metadata": {},
     "output_type": "execute_result"
    },
    {
     "data": {
      "image/png": "[encoded data removed]",
      "text/plain": [
       "<matplotlib.figure.Figure at 0x24e10fd6f28>"
      ]
     },
     "metadata": {},
     "output_type": "display_data"
    }
   ],
   "source": [
    "plt.figure(figsize=(10,4))\n",
    "ratings['rating'].hist(bins=50)"
   ]
  },
  {
   "cell_type": "code",
   "execution_count": 43,
   "metadata": {},
   "outputs": [
    {
     "data": {
      "text/plain": [
       "<seaborn.axisgrid.JointGrid at 0x24e1242c5c0>"
      ]
     },
     "execution_count": 43,
     "metadata": {},
     "output_type": "execute_result"
    },
    {
     "data": {
      "image/png": "[encoded data removed]",
      "text/plain": [
       "<matplotlib.figure.Figure at 0x24e1242cc18>"
      ]
     },
     "metadata": {},
     "output_type": "display_data"
    }
   ],
   "source": [
    "sns.jointplot(x='rating',y='num of ratings',data=ratings,alpha=0.5)"
   ]
  },
  {
   "cell_type": "code",
   "execution_count": 44,
   "metadata": {},
   "outputs": [
    {
     "data": {
      "text/html": [
       "<div>\n",
       "<style>\n",
       "    .dataframe thead tr:only-child th {\n",
       "        text-align: right;\n",
       "    }\n",
       "\n",
       "    .dataframe thead th {\n",
       "        text-align: left;\n",
       "    }\n",
       "\n",
       "    .dataframe tbody tr th {\n",
       "        vertical-align: top;\n",
       "    }\n",
       "</style>\n",
       "<table border=\"1\" class=\"dataframe\">\n",
       "  <thead>\n",
       "    <tr style=\"text-align: right;\">\n",
       "      <th></th>\n",
       "      <th>num of ratings</th>\n",
       "      <th>rating</th>\n",
       "    </tr>\n",
       "    <tr>\n",
       "      <th>user_id</th>\n",
       "      <th></th>\n",
       "      <th></th>\n",
       "    </tr>\n",
       "  </thead>\n",
       "  <tbody>\n",
       "    <tr>\n",
       "      <th>8</th>\n",
       "      <td>7</td>\n",
       "      <td>5.571429</td>\n",
       "    </tr>\n",
       "    <tr>\n",
       "      <th>9</th>\n",
       "      <td>1</td>\n",
       "      <td>6.000000</td>\n",
       "    </tr>\n",
       "    <tr>\n",
       "      <th>12</th>\n",
       "      <td>1</td>\n",
       "      <td>10.000000</td>\n",
       "    </tr>\n",
       "    <tr>\n",
       "      <th>14</th>\n",
       "      <td>3</td>\n",
       "      <td>5.333333</td>\n",
       "    </tr>\n",
       "    <tr>\n",
       "      <th>16</th>\n",
       "      <td>1</td>\n",
       "      <td>9.000000</td>\n",
       "    </tr>\n",
       "  </tbody>\n",
       "</table>\n",
       "</div>"
      ],
      "text/plain": [
       "         num of ratings     rating\n",
       "user_id                           \n",
       "8                     7   5.571429\n",
       "9                     1   6.000000\n",
       "12                    1  10.000000\n",
       "14                    3   5.333333\n",
       "16                    1   9.000000"
      ]
     },
     "execution_count": 44,
     "metadata": {},
     "output_type": "execute_result"
    }
   ],
   "source": [
    "userrating = pd.DataFrame(columns=['num of ratings'])\n",
    "userrating['rating'] = df.groupby('user_id')['rating'].mean()\n",
    "userrating['num of ratings'] = df.groupby('user_id')['rating'].count()\n",
    "userrating.head()"
   ]
  },
  {
   "cell_type": "code",
   "execution_count": 45,
   "metadata": {},
   "outputs": [
    {
     "name": "stdout",
     "output_type": "stream",
     "text": [
      "Num. of Users: 68092\n",
      "Num of Books: 149842\n"
     ]
    }
   ],
   "source": [
    "# Get Number of Users and Number of Books\n",
    "n_users = df.user_id.nunique()\n",
    "n_books = df.book_id.nunique()\n",
    "\n",
    "print('Num. of Users: ' + str(n_users))\n",
    "print('Num of Books: ' + str(n_books))"
   ]
  },
  {
   "cell_type": "code",
   "execution_count": 46,
   "metadata": {},
   "outputs": [
    {
     "name": "stdout",
     "output_type": "stream",
     "text": [
      "The maximum number of ratings from one user is: 6943\n",
      "The minimum number of ratings from one user is: 1\n"
     ]
    },
    {
     "data": {
      "image/png": "[encoded data removed]",
      "text/plain": [
       "<matplotlib.figure.Figure at 0x24e1271afd0>"
      ]
     },
     "metadata": {},
     "output_type": "display_data"
    }
   ],
   "source": [
    "nummax = userrating['num of ratings'].max()\n",
    "nummin = userrating['num of ratings'].min()\n",
    "print('The maximum number of ratings from one user is: ' + str(nummax))\n",
    "print('The minimum number of ratings from one user is: ' + str(nummin))\n",
    "# Visualize users and their ratings\n",
    "f, (ax1, ax2) = plt.subplots(ncols=2, figsize=(10,4))\n",
    "ax1.set_xlabel('num of ratings')\n",
    "ax1.set_ylabel('count')\n",
    "hist1 = ax1.hist(x = userrating['num of ratings'], bins =100)\n",
    "ax2.set_xlabel('num of ratings')\n",
    "ax2.set_ylabel('count')\n",
    "hist2 = ax2.hist(x = userrating['num of ratings'], bins =100, range=(0,20))"
   ]
  },
  {
   "cell_type": "code",
   "execution_count": 47,
   "metadata": {},
   "outputs": [
    {
     "data": {
      "text/plain": [
       "<matplotlib.axes._subplots.AxesSubplot at 0x24e12681ba8>"
      ]
     },
     "execution_count": 47,
     "metadata": {},
     "output_type": "execute_result"
    },
    {
     "data": {
      "image/png": "[encoded data removed]",
      "text/plain": [
       "<matplotlib.figure.Figure at 0x24e12577940>"
      ]
     },
     "metadata": {},
     "output_type": "display_data"
    }
   ],
   "source": [
    "plt.figure(figsize=(10,4))\n",
    "plt.xlabel('rating')\n",
    "plt.ylabel('count')\n",
    "userrating['rating'].hist(bins=50)"
   ]
  },
  {
   "cell_type": "code",
   "execution_count": 48,
   "metadata": {},
   "outputs": [
    {
     "data": {
      "text/plain": [
       "<seaborn.axisgrid.JointGrid at 0x24e0e4a2668>"
      ]
     },
     "execution_count": 48,
     "metadata": {},
     "output_type": "execute_result"
    },
    {
     "data": {
      "image/png": "[encoded data removed]",
      "text/plain": [
       "<matplotlib.figure.Figure at 0x24e0e4a2ef0>"
      ]
     },
     "metadata": {},
     "output_type": "display_data"
    }
   ],
   "source": [
    "sns.jointplot(x='rating',y='num of ratings',data=userrating,alpha=0.5)"
   ]
  },
  {
   "cell_type": "code",
   "execution_count": 49,
   "metadata": {
    "collapsed": true
   },
   "outputs": [],
   "source": [
    "# Drop rating column\n",
    "userrating.drop('rating', axis =1, inplace=True)"
   ]
  },
  {
   "cell_type": "code",
   "execution_count": 50,
   "metadata": {},
   "outputs": [
    {
     "data": {
      "text/html": [
       "<div>\n",
       "<style>\n",
       "    .dataframe thead tr:only-child th {\n",
       "        text-align: right;\n",
       "    }\n",
       "\n",
       "    .dataframe thead th {\n",
       "        text-align: left;\n",
       "    }\n",
       "\n",
       "    .dataframe tbody tr th {\n",
       "        vertical-align: top;\n",
       "    }\n",
       "</style>\n",
       "<table border=\"1\" class=\"dataframe\">\n",
       "  <thead>\n",
       "    <tr style=\"text-align: right;\">\n",
       "      <th></th>\n",
       "      <th>book_id</th>\n",
       "      <th>implicit</th>\n",
       "      <th>rating</th>\n",
       "      <th>user_id</th>\n",
       "      <th>num of ratings</th>\n",
       "    </tr>\n",
       "  </thead>\n",
       "  <tbody>\n",
       "    <tr>\n",
       "      <th>0</th>\n",
       "      <td>0155061224</td>\n",
       "      <td>NaN</td>\n",
       "      <td>5</td>\n",
       "      <td>276726</td>\n",
       "      <td>1</td>\n",
       "    </tr>\n",
       "    <tr>\n",
       "      <th>1</th>\n",
       "      <td>052165615X</td>\n",
       "      <td>NaN</td>\n",
       "      <td>3</td>\n",
       "      <td>276729</td>\n",
       "      <td>2</td>\n",
       "    </tr>\n",
       "    <tr>\n",
       "      <th>2</th>\n",
       "      <td>0521795028</td>\n",
       "      <td>NaN</td>\n",
       "      <td>6</td>\n",
       "      <td>276729</td>\n",
       "      <td>2</td>\n",
       "    </tr>\n",
       "    <tr>\n",
       "      <th>3</th>\n",
       "      <td>038550120X</td>\n",
       "      <td>NaN</td>\n",
       "      <td>7</td>\n",
       "      <td>276744</td>\n",
       "      <td>1</td>\n",
       "    </tr>\n",
       "    <tr>\n",
       "      <th>4</th>\n",
       "      <td>0060517794</td>\n",
       "      <td>NaN</td>\n",
       "      <td>9</td>\n",
       "      <td>276747</td>\n",
       "      <td>5</td>\n",
       "    </tr>\n",
       "  </tbody>\n",
       "</table>\n",
       "</div>"
      ],
      "text/plain": [
       "      book_id  implicit  rating  user_id  num of ratings\n",
       "0  0155061224       NaN       5   276726               1\n",
       "1  052165615X       NaN       3   276729               2\n",
       "2  0521795028       NaN       6   276729               2\n",
       "3  038550120X       NaN       7   276744               1\n",
       "4  0060517794       NaN       9   276747               5"
      ]
     },
     "execution_count": 50,
     "metadata": {},
     "output_type": "execute_result"
    }
   ],
   "source": [
    "# From the histograms, we can see that more than 35,000 users in \n",
    "# total 68092 users only gives one rating \n",
    "# We remove the users who rated less than 3 books\n",
    "userrating['user_id']=userrating.index\n",
    "df = df.merge(userrating, on = 'user_id')\n",
    "df.head()"
   ]
  },
  {
   "cell_type": "code",
   "execution_count": 51,
   "metadata": {},
   "outputs": [
    {
     "data": {
      "text/html": [
       "<div>\n",
       "<style>\n",
       "    .dataframe thead tr:only-child th {\n",
       "        text-align: right;\n",
       "    }\n",
       "\n",
       "    .dataframe thead th {\n",
       "        text-align: left;\n",
       "    }\n",
       "\n",
       "    .dataframe tbody tr th {\n",
       "        vertical-align: top;\n",
       "    }\n",
       "</style>\n",
       "<table border=\"1\" class=\"dataframe\">\n",
       "  <thead>\n",
       "    <tr style=\"text-align: right;\">\n",
       "      <th></th>\n",
       "      <th>book_id</th>\n",
       "      <th>implicit</th>\n",
       "      <th>rating</th>\n",
       "      <th>user_id</th>\n",
       "      <th>num of ratings</th>\n",
       "    </tr>\n",
       "  </thead>\n",
       "  <tbody>\n",
       "    <tr>\n",
       "      <th>4</th>\n",
       "      <td>0060517794</td>\n",
       "      <td>NaN</td>\n",
       "      <td>9</td>\n",
       "      <td>276747</td>\n",
       "      <td>5</td>\n",
       "    </tr>\n",
       "    <tr>\n",
       "      <th>5</th>\n",
       "      <td>0671537458</td>\n",
       "      <td>NaN</td>\n",
       "      <td>9</td>\n",
       "      <td>276747</td>\n",
       "      <td>5</td>\n",
       "    </tr>\n",
       "    <tr>\n",
       "      <th>6</th>\n",
       "      <td>0679776818</td>\n",
       "      <td>NaN</td>\n",
       "      <td>8</td>\n",
       "      <td>276747</td>\n",
       "      <td>5</td>\n",
       "    </tr>\n",
       "    <tr>\n",
       "      <th>7</th>\n",
       "      <td>0943066433</td>\n",
       "      <td>NaN</td>\n",
       "      <td>7</td>\n",
       "      <td>276747</td>\n",
       "      <td>5</td>\n",
       "    </tr>\n",
       "    <tr>\n",
       "      <th>8</th>\n",
       "      <td>1885408226</td>\n",
       "      <td>NaN</td>\n",
       "      <td>7</td>\n",
       "      <td>276747</td>\n",
       "      <td>5</td>\n",
       "    </tr>\n",
       "  </tbody>\n",
       "</table>\n",
       "</div>"
      ],
      "text/plain": [
       "      book_id  implicit  rating  user_id  num of ratings\n",
       "4  0060517794       NaN       9   276747               5\n",
       "5  0671537458       NaN       9   276747               5\n",
       "6  0679776818       NaN       8   276747               5\n",
       "7  0943066433       NaN       7   276747               5\n",
       "8  1885408226       NaN       7   276747               5"
      ]
     },
     "execution_count": 51,
     "metadata": {},
     "output_type": "execute_result"
    }
   ],
   "source": [
    "# Remove users who rated fewer than 3 books\n",
    "df = df[df['num of ratings']>2]\n",
    "df.head()"
   ]
  },
  {
   "cell_type": "code",
   "execution_count": 67,
   "metadata": {},
   "outputs": [
    {
     "data": {
      "text/html": [
       "<div>\n",
       "<style>\n",
       "    .dataframe thead tr:only-child th {\n",
       "        text-align: right;\n",
       "    }\n",
       "\n",
       "    .dataframe thead th {\n",
       "        text-align: left;\n",
       "    }\n",
       "\n",
       "    .dataframe tbody tr th {\n",
       "        vertical-align: top;\n",
       "    }\n",
       "</style>\n",
       "<table border=\"1\" class=\"dataframe\">\n",
       "  <thead>\n",
       "    <tr style=\"text-align: right;\">\n",
       "      <th></th>\n",
       "      <th>book_id</th>\n",
       "      <th>implicit</th>\n",
       "      <th>rating</th>\n",
       "      <th>user_id</th>\n",
       "      <th>num of ratings</th>\n",
       "    </tr>\n",
       "  </thead>\n",
       "  <tbody>\n",
       "    <tr>\n",
       "      <th>323875</th>\n",
       "      <td>0375500510</td>\n",
       "      <td>NaN</td>\n",
       "      <td>7</td>\n",
       "      <td>232131</td>\n",
       "      <td>160</td>\n",
       "    </tr>\n",
       "    <tr>\n",
       "      <th>362919</th>\n",
       "      <td>0316354724</td>\n",
       "      <td>NaN</td>\n",
       "      <td>6</td>\n",
       "      <td>259488</td>\n",
       "      <td>8</td>\n",
       "    </tr>\n",
       "    <tr>\n",
       "      <th>304557</th>\n",
       "      <td>2070370720</td>\n",
       "      <td>NaN</td>\n",
       "      <td>4</td>\n",
       "      <td>217740</td>\n",
       "      <td>223</td>\n",
       "    </tr>\n",
       "    <tr>\n",
       "      <th>154943</th>\n",
       "      <td>1551669404</td>\n",
       "      <td>NaN</td>\n",
       "      <td>5</td>\n",
       "      <td>104334</td>\n",
       "      <td>19</td>\n",
       "    </tr>\n",
       "    <tr>\n",
       "      <th>235114</th>\n",
       "      <td>0451518756</td>\n",
       "      <td>NaN</td>\n",
       "      <td>10</td>\n",
       "      <td>164675</td>\n",
       "      <td>83</td>\n",
       "    </tr>\n",
       "  </tbody>\n",
       "</table>\n",
       "</div>"
      ],
      "text/plain": [
       "           book_id  implicit  rating  user_id  num of ratings\n",
       "323875  0375500510       NaN       7   232131             160\n",
       "362919  0316354724       NaN       6   259488               8\n",
       "304557  2070370720       NaN       4   217740             223\n",
       "154943  1551669404       NaN       5   104334              19\n",
       "235114  0451518756       NaN      10   164675              83"
      ]
     },
     "execution_count": 67,
     "metadata": {},
     "output_type": "execute_result"
    }
   ],
   "source": [
    "# Select a subset of users\n",
    "# To reduce calculation times in this kernel, I select only a subset of users\n",
    "\n",
    "fraction = 0.1\n",
    "size = df['book_id'].count()\n",
    "index = np.random.randint(0, size, int(size*0.2))\n",
    "subdf = df.iloc[index]\n",
    "subdf.head()"
   ]
  },
  {
   "cell_type": "code",
   "execution_count": 68,
   "metadata": {},
   "outputs": [
    {
     "name": "stdout",
     "output_type": "stream",
     "text": [
      "Num. of Users: 14311\n",
      "Num of Books: 38880\n"
     ]
    }
   ],
   "source": [
    "# Get Number of Users and Number of Books in Filtered Data\n",
    "n_users = subdf.user_id.nunique()\n",
    "n_books = subdf.book_id.nunique()\n",
    "\n",
    "print('Num. of Users: ' + str(n_users))\n",
    "print('Num of Books: ' + str(n_books))"
   ]
  },
  {
   "cell_type": "code",
   "execution_count": null,
   "metadata": {
    "collapsed": true
   },
   "outputs": [],
   "source": []
  },
  {
   "cell_type": "code",
   "execution_count": 69,
   "metadata": {},
   "outputs": [
    {
     "name": "stdout",
     "output_type": "stream",
     "text": [
      "The sparsity level of BooksRecomender Dataset is 99.988%\n"
     ]
    }
   ],
   "source": [
    "# Calculate the sparsity for ratings of books dataset\n",
    "sparsity = round(1.0-len(subdf)/float(n_users*n_books), 5)\n",
    "print('The sparsity level of BooksRecomender Dataset is ' + str(sparsity*100) + '%')"
   ]
  },
  {
   "cell_type": "code",
   "execution_count": 70,
   "metadata": {
    "collapsed": true
   },
   "outputs": [],
   "source": [
    "# Map user_id from 1 to n_users\n",
    "user_index = pd.DataFrame(subdf['user_id'].unique(), columns=['user_id'])\n",
    "user_index.sort_values(by='user_id', axis=0, inplace= True)\n",
    "user_index.reset_index(drop=True, inplace=True)\n",
    "user_index['user_index']=user_index.index\n",
    "\n",
    "# Map book_id from 1 to n_books\n",
    "book_index = pd.DataFrame(subdf['book_id'].unique(), columns=['book_id'])\n",
    "book_index.sort_values(by='book_id', axis=0, inplace= True)\n",
    "book_index.reset_index(drop=True, inplace=True)\n",
    "book_index['book_index']=book_index.index"
   ]
  },
  {
   "cell_type": "code",
   "execution_count": 71,
   "metadata": {
    "collapsed": true
   },
   "outputs": [],
   "source": [
    "subdf = subdf.merge(user_index, on ='user_id')\n",
    "subdf = subdf.merge(book_index, on = 'book_id')"
   ]
  },
  {
   "cell_type": "code",
   "execution_count": 72,
   "metadata": {},
   "outputs": [
    {
     "data": {
      "text/html": [
       "<div>\n",
       "<style>\n",
       "    .dataframe thead tr:only-child th {\n",
       "        text-align: right;\n",
       "    }\n",
       "\n",
       "    .dataframe thead th {\n",
       "        text-align: left;\n",
       "    }\n",
       "\n",
       "    .dataframe tbody tr th {\n",
       "        vertical-align: top;\n",
       "    }\n",
       "</style>\n",
       "<table border=\"1\" class=\"dataframe\">\n",
       "  <thead>\n",
       "    <tr style=\"text-align: right;\">\n",
       "      <th></th>\n",
       "      <th>book_id</th>\n",
       "      <th>implicit</th>\n",
       "      <th>rating</th>\n",
       "      <th>user_id</th>\n",
       "      <th>num of ratings</th>\n",
       "      <th>user_index</th>\n",
       "      <th>book_index</th>\n",
       "    </tr>\n",
       "  </thead>\n",
       "  <tbody>\n",
       "    <tr>\n",
       "      <th>0</th>\n",
       "      <td>0375500510</td>\n",
       "      <td>NaN</td>\n",
       "      <td>7</td>\n",
       "      <td>232131</td>\n",
       "      <td>160</td>\n",
       "      <td>11874</td>\n",
       "      <td>9068</td>\n",
       "    </tr>\n",
       "    <tr>\n",
       "      <th>1</th>\n",
       "      <td>0375500510</td>\n",
       "      <td>NaN</td>\n",
       "      <td>8</td>\n",
       "      <td>69078</td>\n",
       "      <td>499</td>\n",
       "      <td>3613</td>\n",
       "      <td>9068</td>\n",
       "    </tr>\n",
       "    <tr>\n",
       "      <th>2</th>\n",
       "      <td>0375500510</td>\n",
       "      <td>NaN</td>\n",
       "      <td>10</td>\n",
       "      <td>209516</td>\n",
       "      <td>189</td>\n",
       "      <td>10752</td>\n",
       "      <td>9068</td>\n",
       "    </tr>\n",
       "    <tr>\n",
       "      <th>3</th>\n",
       "      <td>0375500510</td>\n",
       "      <td>NaN</td>\n",
       "      <td>9</td>\n",
       "      <td>78015</td>\n",
       "      <td>22</td>\n",
       "      <td>4073</td>\n",
       "      <td>9068</td>\n",
       "    </tr>\n",
       "    <tr>\n",
       "      <th>4</th>\n",
       "      <td>0375500510</td>\n",
       "      <td>NaN</td>\n",
       "      <td>8</td>\n",
       "      <td>196077</td>\n",
       "      <td>148</td>\n",
       "      <td>10061</td>\n",
       "      <td>9068</td>\n",
       "    </tr>\n",
       "  </tbody>\n",
       "</table>\n",
       "</div>"
      ],
      "text/plain": [
       "      book_id  implicit  rating  user_id  num of ratings  user_index  \\\n",
       "0  0375500510       NaN       7   232131             160       11874   \n",
       "1  0375500510       NaN       8    69078             499        3613   \n",
       "2  0375500510       NaN      10   209516             189       10752   \n",
       "3  0375500510       NaN       9    78015              22        4073   \n",
       "4  0375500510       NaN       8   196077             148       10061   \n",
       "\n",
       "   book_index  \n",
       "0        9068  \n",
       "1        9068  \n",
       "2        9068  \n",
       "3        9068  \n",
       "4        9068  "
      ]
     },
     "execution_count": 72,
     "metadata": {},
     "output_type": "execute_result"
    }
   ],
   "source": [
    "subdf.head()"
   ]
  },
  {
   "cell_type": "code",
   "execution_count": 73,
   "metadata": {},
   "outputs": [
    {
     "data": {
      "text/html": [
       "<div>\n",
       "<style>\n",
       "    .dataframe thead tr:only-child th {\n",
       "        text-align: right;\n",
       "    }\n",
       "\n",
       "    .dataframe thead th {\n",
       "        text-align: left;\n",
       "    }\n",
       "\n",
       "    .dataframe tbody tr th {\n",
       "        vertical-align: top;\n",
       "    }\n",
       "</style>\n",
       "<table border=\"1\" class=\"dataframe\">\n",
       "  <thead>\n",
       "    <tr style=\"text-align: right;\">\n",
       "      <th></th>\n",
       "      <th>rating</th>\n",
       "      <th>num of ratings</th>\n",
       "      <th>book_id</th>\n",
       "      <th>author</th>\n",
       "      <th>publisher</th>\n",
       "      <th>year</th>\n",
       "    </tr>\n",
       "    <tr>\n",
       "      <th>title</th>\n",
       "      <th></th>\n",
       "      <th></th>\n",
       "      <th></th>\n",
       "      <th></th>\n",
       "      <th></th>\n",
       "      <th></th>\n",
       "    </tr>\n",
       "  </thead>\n",
       "  <tbody>\n",
       "    <tr>\n",
       "      <th>Harry Potter and the Chamber of Secrets Postcard Book</th>\n",
       "      <td>9.869565</td>\n",
       "      <td>23</td>\n",
       "      <td>0439425220</td>\n",
       "      <td>J. K. Rowling</td>\n",
       "      <td>Scholastic</td>\n",
       "      <td>2002</td>\n",
       "    </tr>\n",
       "    <tr>\n",
       "      <th>The Two Towers (The Lord of the Rings, Part 2)</th>\n",
       "      <td>9.720000</td>\n",
       "      <td>25</td>\n",
       "      <td>0618002235</td>\n",
       "      <td>J. R. R. Tolkien</td>\n",
       "      <td>Houghton Mifflin Company</td>\n",
       "      <td>1999</td>\n",
       "    </tr>\n",
       "    <tr>\n",
       "      <th>Calvin and Hobbes</th>\n",
       "      <td>9.583333</td>\n",
       "      <td>24</td>\n",
       "      <td>0836220889</td>\n",
       "      <td>Bill Watterson</td>\n",
       "      <td>Andrews McMeel Publishing</td>\n",
       "      <td>1987</td>\n",
       "    </tr>\n",
       "    <tr>\n",
       "      <th>My Sister's Keeper : A Novel (Picoult, Jodi)</th>\n",
       "      <td>9.545455</td>\n",
       "      <td>22</td>\n",
       "      <td>0743454529</td>\n",
       "      <td>Jodi Picoult</td>\n",
       "      <td>Atria</td>\n",
       "      <td>2004</td>\n",
       "    </tr>\n",
       "    <tr>\n",
       "      <th>84 Charing Cross Road</th>\n",
       "      <td>9.464286</td>\n",
       "      <td>28</td>\n",
       "      <td>0140143505</td>\n",
       "      <td>Helene Hanff</td>\n",
       "      <td>Penguin Books</td>\n",
       "      <td>1990</td>\n",
       "    </tr>\n",
       "    <tr>\n",
       "      <th>The Return of the King (The Lord of the Rings, Part 3)</th>\n",
       "      <td>9.402597</td>\n",
       "      <td>77</td>\n",
       "      <td>0345339738</td>\n",
       "      <td>J.R.R. TOLKIEN</td>\n",
       "      <td>Del Rey</td>\n",
       "      <td>1986</td>\n",
       "    </tr>\n",
       "    <tr>\n",
       "      <th>Where the Sidewalk Ends : Poems and Drawings</th>\n",
       "      <td>9.400000</td>\n",
       "      <td>25</td>\n",
       "      <td>0060256672</td>\n",
       "      <td>Shel Silverstein</td>\n",
       "      <td>HarperCollins</td>\n",
       "      <td>1974</td>\n",
       "    </tr>\n",
       "    <tr>\n",
       "      <th>The Little Prince</th>\n",
       "      <td>9.391304</td>\n",
       "      <td>23</td>\n",
       "      <td>0156012197</td>\n",
       "      <td>Antoine de Saint-ExupÃ©ry</td>\n",
       "      <td>Harvest Books</td>\n",
       "      <td>2000</td>\n",
       "    </tr>\n",
       "    <tr>\n",
       "      <th>Johnny Got His Gun</th>\n",
       "      <td>9.391304</td>\n",
       "      <td>23</td>\n",
       "      <td>0553274325</td>\n",
       "      <td>Dalton Trumbo</td>\n",
       "      <td>Bantam Books</td>\n",
       "      <td>1983</td>\n",
       "    </tr>\n",
       "    <tr>\n",
       "      <th>Roots</th>\n",
       "      <td>9.333333</td>\n",
       "      <td>21</td>\n",
       "      <td>0440174643</td>\n",
       "      <td>ALEX HALEY</td>\n",
       "      <td>Dell</td>\n",
       "      <td>1980</td>\n",
       "    </tr>\n",
       "  </tbody>\n",
       "</table>\n",
       "</div>"
      ],
      "text/plain": [
       "                                                      rating  num of ratings  \\\n",
       "title                                                                          \n",
       "Harry Potter and the Chamber of Secrets Postcar...  9.869565              23   \n",
       "The Two Towers (The Lord of the Rings, Part 2)      9.720000              25   \n",
       "Calvin and Hobbes                                   9.583333              24   \n",
       "My Sister's Keeper : A Novel (Picoult, Jodi)        9.545455              22   \n",
       "84 Charing Cross Road                               9.464286              28   \n",
       "The Return of the King (The Lord of the Rings, ...  9.402597              77   \n",
       "Where the Sidewalk Ends : Poems and Drawings        9.400000              25   \n",
       "The Little Prince                                   9.391304              23   \n",
       "Johnny Got His Gun                                  9.391304              23   \n",
       "Roots                                               9.333333              21   \n",
       "\n",
       "                                                       book_id  \\\n",
       "title                                                            \n",
       "Harry Potter and the Chamber of Secrets Postcar...  0439425220   \n",
       "The Two Towers (The Lord of the Rings, Part 2)      0618002235   \n",
       "Calvin and Hobbes                                   0836220889   \n",
       "My Sister's Keeper : A Novel (Picoult, Jodi)        0743454529   \n",
       "84 Charing Cross Road                               0140143505   \n",
       "The Return of the King (The Lord of the Rings, ...  0345339738   \n",
       "Where the Sidewalk Ends : Poems and Drawings        0060256672   \n",
       "The Little Prince                                   0156012197   \n",
       "Johnny Got His Gun                                  0553274325   \n",
       "Roots                                               0440174643   \n",
       "\n",
       "                                                                       author  \\\n",
       "title                                                                           \n",
       "Harry Potter and the Chamber of Secrets Postcar...              J. K. Rowling   \n",
       "The Two Towers (The Lord of the Rings, Part 2)               J. R. R. Tolkien   \n",
       "Calvin and Hobbes                                              Bill Watterson   \n",
       "My Sister's Keeper : A Novel (Picoult, Jodi)                     Jodi Picoult   \n",
       "84 Charing Cross Road                                            Helene Hanff   \n",
       "The Return of the King (The Lord of the Rings, ...             J.R.R. TOLKIEN   \n",
       "Where the Sidewalk Ends : Poems and Drawings                 Shel Silverstein   \n",
       "The Little Prince                                   Antoine de Saint-ExupÃ©ry   \n",
       "Johnny Got His Gun                                              Dalton Trumbo   \n",
       "Roots                                                              ALEX HALEY   \n",
       "\n",
       "                                                                    publisher  \\\n",
       "title                                                                           \n",
       "Harry Potter and the Chamber of Secrets Postcar...                 Scholastic   \n",
       "The Two Towers (The Lord of the Rings, Part 2)       Houghton Mifflin Company   \n",
       "Calvin and Hobbes                                   Andrews McMeel Publishing   \n",
       "My Sister's Keeper : A Novel (Picoult, Jodi)                            Atria   \n",
       "84 Charing Cross Road                                           Penguin Books   \n",
       "The Return of the King (The Lord of the Rings, ...                    Del Rey   \n",
       "Where the Sidewalk Ends : Poems and Drawings                    HarperCollins   \n",
       "The Little Prince                                               Harvest Books   \n",
       "Johnny Got His Gun                                               Bantam Books   \n",
       "Roots                                                                    Dell   \n",
       "\n",
       "                                                    year  \n",
       "title                                                     \n",
       "Harry Potter and the Chamber of Secrets Postcar...  2002  \n",
       "The Two Towers (The Lord of the Rings, Part 2)      1999  \n",
       "Calvin and Hobbes                                   1987  \n",
       "My Sister's Keeper : A Novel (Picoult, Jodi)        2004  \n",
       "84 Charing Cross Road                               1990  \n",
       "The Return of the King (The Lord of the Rings, ...  1986  \n",
       "Where the Sidewalk Ends : Poems and Drawings        1974  \n",
       "The Little Prince                                   2000  \n",
       "Johnny Got His Gun                                  1983  \n",
       "Roots                                               1980  "
      ]
     },
     "execution_count": 73,
     "metadata": {},
     "output_type": "execute_result"
    }
   ],
   "source": [
    "# Get the top 10 rated books with more than 50 reviews\n",
    "ratings['book_id'] = ratings.index\n",
    "book_ratings = ratings.merge(Books, on='book_id').set_index('title')\n",
    "book_ratings[book_ratings['num of ratings']>20].sort_values('rating', ascending=False).head(10)"
   ]
  },
  {
   "cell_type": "code",
   "execution_count": 74,
   "metadata": {},
   "outputs": [
    {
     "data": {
      "text/html": [
       "<div>\n",
       "<style>\n",
       "    .dataframe thead tr:only-child th {\n",
       "        text-align: right;\n",
       "    }\n",
       "\n",
       "    .dataframe thead th {\n",
       "        text-align: left;\n",
       "    }\n",
       "\n",
       "    .dataframe tbody tr th {\n",
       "        vertical-align: top;\n",
       "    }\n",
       "</style>\n",
       "<table border=\"1\" class=\"dataframe\">\n",
       "  <thead>\n",
       "    <tr style=\"text-align: right;\">\n",
       "      <th></th>\n",
       "      <th>rating</th>\n",
       "      <th>num of ratings</th>\n",
       "      <th>book_id</th>\n",
       "      <th>author</th>\n",
       "      <th>publisher</th>\n",
       "      <th>year</th>\n",
       "    </tr>\n",
       "    <tr>\n",
       "      <th>title</th>\n",
       "      <th></th>\n",
       "      <th></th>\n",
       "      <th></th>\n",
       "      <th></th>\n",
       "      <th></th>\n",
       "      <th></th>\n",
       "    </tr>\n",
       "  </thead>\n",
       "  <tbody>\n",
       "    <tr>\n",
       "      <th>The Lovely Bones: A Novel</th>\n",
       "      <td>8.185290</td>\n",
       "      <td>707</td>\n",
       "      <td>0316666343</td>\n",
       "      <td>Alice Sebold</td>\n",
       "      <td>Little, Brown</td>\n",
       "      <td>2002</td>\n",
       "    </tr>\n",
       "    <tr>\n",
       "      <th>Wild Animus</th>\n",
       "      <td>4.390706</td>\n",
       "      <td>581</td>\n",
       "      <td>0971880107</td>\n",
       "      <td>Rich Shapero</td>\n",
       "      <td>Too Far</td>\n",
       "      <td>2004</td>\n",
       "    </tr>\n",
       "    <tr>\n",
       "      <th>The Da Vinci Code</th>\n",
       "      <td>8.435318</td>\n",
       "      <td>487</td>\n",
       "      <td>0385504209</td>\n",
       "      <td>Dan Brown</td>\n",
       "      <td>Doubleday</td>\n",
       "      <td>2003</td>\n",
       "    </tr>\n",
       "    <tr>\n",
       "      <th>The Red Tent (Bestselling Backlist)</th>\n",
       "      <td>8.182768</td>\n",
       "      <td>383</td>\n",
       "      <td>0312195516</td>\n",
       "      <td>Anita Diamant</td>\n",
       "      <td>Picador USA</td>\n",
       "      <td>1998</td>\n",
       "    </tr>\n",
       "    <tr>\n",
       "      <th>Divine Secrets of the Ya-Ya Sisterhood: A Novel</th>\n",
       "      <td>7.887500</td>\n",
       "      <td>320</td>\n",
       "      <td>0060928336</td>\n",
       "      <td>Rebecca Wells</td>\n",
       "      <td>Perennial</td>\n",
       "      <td>1997</td>\n",
       "    </tr>\n",
       "    <tr>\n",
       "      <th>Harry Potter and the Sorcerer's Stone (Harry Potter (Paperback))</th>\n",
       "      <td>8.939297</td>\n",
       "      <td>313</td>\n",
       "      <td>059035342X</td>\n",
       "      <td>J. K. Rowling</td>\n",
       "      <td>Arthur A. Levine Books</td>\n",
       "      <td>1999</td>\n",
       "    </tr>\n",
       "    <tr>\n",
       "      <th>The Secret Life of Bees</th>\n",
       "      <td>8.452769</td>\n",
       "      <td>307</td>\n",
       "      <td>0142001740</td>\n",
       "      <td>Sue Monk Kidd</td>\n",
       "      <td>Penguin Books</td>\n",
       "      <td>2003</td>\n",
       "    </tr>\n",
       "    <tr>\n",
       "      <th>Where the Heart Is (Oprah's Book Club (Paperback))</th>\n",
       "      <td>8.142373</td>\n",
       "      <td>295</td>\n",
       "      <td>0446672211</td>\n",
       "      <td>Billie Letts</td>\n",
       "      <td>Warner Books</td>\n",
       "      <td>1998</td>\n",
       "    </tr>\n",
       "    <tr>\n",
       "      <th>A Painted House</th>\n",
       "      <td>7.338078</td>\n",
       "      <td>281</td>\n",
       "      <td>044023722X</td>\n",
       "      <td>John Grisham</td>\n",
       "      <td>Dell Publishing Company</td>\n",
       "      <td>2001</td>\n",
       "    </tr>\n",
       "    <tr>\n",
       "      <th>Girl with a Pearl Earring</th>\n",
       "      <td>7.982014</td>\n",
       "      <td>278</td>\n",
       "      <td>0452282152</td>\n",
       "      <td>Tracy Chevalier</td>\n",
       "      <td>Plume Books</td>\n",
       "      <td>2001</td>\n",
       "    </tr>\n",
       "  </tbody>\n",
       "</table>\n",
       "</div>"
      ],
      "text/plain": [
       "                                                      rating  num of ratings  \\\n",
       "title                                                                          \n",
       "The Lovely Bones: A Novel                           8.185290             707   \n",
       "Wild Animus                                         4.390706             581   \n",
       "The Da Vinci Code                                   8.435318             487   \n",
       "The Red Tent (Bestselling Backlist)                 8.182768             383   \n",
       "Divine Secrets of the Ya-Ya Sisterhood: A Novel     7.887500             320   \n",
       "Harry Potter and the Sorcerer's Stone (Harry Po...  8.939297             313   \n",
       "The Secret Life of Bees                             8.452769             307   \n",
       "Where the Heart Is (Oprah's Book Club (Paperback))  8.142373             295   \n",
       "A Painted House                                     7.338078             281   \n",
       "Girl with a Pearl Earring                           7.982014             278   \n",
       "\n",
       "                                                       book_id  \\\n",
       "title                                                            \n",
       "The Lovely Bones: A Novel                           0316666343   \n",
       "Wild Animus                                         0971880107   \n",
       "The Da Vinci Code                                   0385504209   \n",
       "The Red Tent (Bestselling Backlist)                 0312195516   \n",
       "Divine Secrets of the Ya-Ya Sisterhood: A Novel     0060928336   \n",
       "Harry Potter and the Sorcerer's Stone (Harry Po...  059035342X   \n",
       "The Secret Life of Bees                             0142001740   \n",
       "Where the Heart Is (Oprah's Book Club (Paperback))  0446672211   \n",
       "A Painted House                                     044023722X   \n",
       "Girl with a Pearl Earring                           0452282152   \n",
       "\n",
       "                                                             author  \\\n",
       "title                                                                 \n",
       "The Lovely Bones: A Novel                              Alice Sebold   \n",
       "Wild Animus                                            Rich Shapero   \n",
       "The Da Vinci Code                                         Dan Brown   \n",
       "The Red Tent (Bestselling Backlist)                   Anita Diamant   \n",
       "Divine Secrets of the Ya-Ya Sisterhood: A Novel       Rebecca Wells   \n",
       "Harry Potter and the Sorcerer's Stone (Harry Po...    J. K. Rowling   \n",
       "The Secret Life of Bees                               Sue Monk Kidd   \n",
       "Where the Heart Is (Oprah's Book Club (Paperback))     Billie Letts   \n",
       "A Painted House                                        John Grisham   \n",
       "Girl with a Pearl Earring                           Tracy Chevalier   \n",
       "\n",
       "                                                                  publisher  \\\n",
       "title                                                                         \n",
       "The Lovely Bones: A Novel                                     Little, Brown   \n",
       "Wild Animus                                                         Too Far   \n",
       "The Da Vinci Code                                                 Doubleday   \n",
       "The Red Tent (Bestselling Backlist)                             Picador USA   \n",
       "Divine Secrets of the Ya-Ya Sisterhood: A Novel                   Perennial   \n",
       "Harry Potter and the Sorcerer's Stone (Harry Po...   Arthur A. Levine Books   \n",
       "The Secret Life of Bees                                       Penguin Books   \n",
       "Where the Heart Is (Oprah's Book Club (Paperback))             Warner Books   \n",
       "A Painted House                                     Dell Publishing Company   \n",
       "Girl with a Pearl Earring                                       Plume Books   \n",
       "\n",
       "                                                    year  \n",
       "title                                                     \n",
       "The Lovely Bones: A Novel                           2002  \n",
       "Wild Animus                                         2004  \n",
       "The Da Vinci Code                                   2003  \n",
       "The Red Tent (Bestselling Backlist)                 1998  \n",
       "Divine Secrets of the Ya-Ya Sisterhood: A Novel     1997  \n",
       "Harry Potter and the Sorcerer's Stone (Harry Po...  1999  \n",
       "The Secret Life of Bees                             2003  \n",
       "Where the Heart Is (Oprah's Book Club (Paperback))  1998  \n",
       "A Painted House                                     2001  \n",
       "Girl with a Pearl Earring                           2001  "
      ]
     },
     "execution_count": 74,
     "metadata": {},
     "output_type": "execute_result"
    }
   ],
   "source": [
    "# Get the top 10 popular books\n",
    "book_ratings.sort_values('num of ratings', ascending=False).head(10)"
   ]
  },
  {
   "cell_type": "code",
   "execution_count": 75,
   "metadata": {},
   "outputs": [
    {
     "name": "stdout",
     "output_type": "stream",
     "text": [
      "The correlation between number of ratings and average rating of books is: 0.0197672626057\n"
     ]
    }
   ],
   "source": [
    "# Is there any correlation between number of ratings \n",
    "# and the rating of books\n",
    "m = np.corrcoef(x=book_ratings['rating'], y=book_ratings['num of ratings'])\n",
    "print('The correlation between number of ratings and average rating of books is: ' + str(m[0,1]))"
   ]
  },
  {
   "cell_type": "code",
   "execution_count": 76,
   "metadata": {
    "collapsed": true
   },
   "outputs": [],
   "source": [
    "# Collaborative Filtering\n",
    "train_data_matrix = np.zeros((n_users, n_books))"
   ]
  },
  {
   "cell_type": "code",
   "execution_count": 77,
   "metadata": {
    "collapsed": true
   },
   "outputs": [],
   "source": [
    "import scipy.sparse as sp\n",
    "from scipy.sparse import lil_matrix\n",
    "from scipy.sparse import csr_matrix\n",
    "from scipy.sparse.linalg import svds"
   ]
  },
  {
   "cell_type": "code",
   "execution_count": 78,
   "metadata": {
    "collapsed": true
   },
   "outputs": [],
   "source": [
    "# A model-based Collaborative Filtering system\n",
    "\n",
    "# Train Test split\n",
    "from sklearn.model_selection import train_test_split\n",
    "train_data, test_data = train_test_split(subdf, test_size=0.25)\n",
    "\n",
    "#Create two user-item matrices, one for training and another for testing\n",
    "train_data_matrix = lil_matrix((n_users, n_books))\n",
    "for line in train_data.itertuples():\n",
    "    train_data_matrix[line[5], line[6]] = line[3]  \n",
    "    \n",
    "test_data_matrix = lil_matrix((n_users, n_books))\n",
    "for line in test_data.itertuples():\n",
    "    test_data_matrix[line[5], line[6]] = line[3]"
   ]
  },
  {
   "cell_type": "code",
   "execution_count": null,
   "metadata": {
    "collapsed": true
   },
   "outputs": [],
   "source": [
    "# User pairwise_distances function from sklearn to calculate the cosine\n",
    "# similarity between users and items respectively\n",
    "\n",
    "from sklearn.metrics.pairwise import pairwise_distances\n",
    "user_similarity = pairwise_distances(train_data_matrix, metric='cosine')"
   ]
  },
  {
   "cell_type": "code",
   "execution_count": 74,
   "metadata": {
    "collapsed": true
   },
   "outputs": [],
   "source": [
    "def predict(ratings, ratings_topred, similarity, type='user'):\n",
    "    if type == 'user':\n",
    "        mean_user_rating = ratings.mean(axis=1)\n",
    "        #You use np.newaxis so that mean_user_rating has same format as ratings\n",
    "        ratings_diff = (ratings - mean_user_rating)\n",
    "        lists = ratings_topred.nonzero()\n",
    "        row = lists[0]\n",
    "        col = lists[1]\n",
    "        pred = lil_matrix((n_users, n_books))\n",
    "        for i in range(len(lists[0])):\n",
    "            pred[row[i], col[i]] = mean_user_rating[row[i]] + similarity[row[i],:].dot(ratings_diff[:,col[i]]) / np.abs(similarity).sum(axis=1)[row[i]]\n",
    "    elif type == 'item':\n",
    "        pred = ratings.dot(similarity) / np.array([np.abs(similarity).sum(axis=1)])     \n",
    "    return pred"
   ]
  },
  {
   "cell_type": "code",
   "execution_count": 75,
   "metadata": {},
   "outputs": [
    {
     "ename": "KeyboardInterrupt",
     "evalue": "",
     "output_type": "error",
     "traceback": [
      "\u001b[0;31m---------------------------------------------------------------------------\u001b[0m",
      "\u001b[0;31mKeyboardInterrupt\u001b[0m                         Traceback (most recent call last)",
      "\u001b[0;32m<ipython-input-75-3f4d3acc3ed9>\u001b[0m in \u001b[0;36m<module>\u001b[0;34m()\u001b[0m\n\u001b[0;32m----> 1\u001b[0;31m \u001b[0muser_prediction\u001b[0m \u001b[0;34m=\u001b[0m \u001b[0mpredict\u001b[0m\u001b[0;34m(\u001b[0m\u001b[0mtrain_data_matrix\u001b[0m\u001b[0;34m,\u001b[0m \u001b[0mtest_data_matrix\u001b[0m\u001b[0;34m,\u001b[0m \u001b[0muser_similarity\u001b[0m\u001b[0;34m,\u001b[0m \u001b[0mtype\u001b[0m\u001b[0;34m=\u001b[0m\u001b[0;34m'user'\u001b[0m\u001b[0;34m)\u001b[0m\u001b[0;34m\u001b[0m\u001b[0m\n\u001b[0m",
      "\u001b[0;32m<ipython-input-74-f750cd821107>\u001b[0m in \u001b[0;36mpredict\u001b[0;34m(ratings, ratings_topred, similarity, type)\u001b[0m\n\u001b[1;32m      9\u001b[0m         \u001b[0mpred\u001b[0m \u001b[0;34m=\u001b[0m \u001b[0mlil_matrix\u001b[0m\u001b[0;34m(\u001b[0m\u001b[0;34m(\u001b[0m\u001b[0mn_users\u001b[0m\u001b[0;34m,\u001b[0m \u001b[0mn_books\u001b[0m\u001b[0;34m)\u001b[0m\u001b[0;34m)\u001b[0m\u001b[0;34m\u001b[0m\u001b[0m\n\u001b[1;32m     10\u001b[0m         \u001b[0;32mfor\u001b[0m \u001b[0mi\u001b[0m \u001b[0;32min\u001b[0m \u001b[0mrange\u001b[0m\u001b[0;34m(\u001b[0m\u001b[0mlen\u001b[0m\u001b[0;34m(\u001b[0m\u001b[0mlists\u001b[0m\u001b[0;34m[\u001b[0m\u001b[0;36m0\u001b[0m\u001b[0;34m]\u001b[0m\u001b[0;34m)\u001b[0m\u001b[0;34m)\u001b[0m\u001b[0;34m:\u001b[0m\u001b[0;34m\u001b[0m\u001b[0m\n\u001b[0;32m---> 11\u001b[0;31m             \u001b[0mpred\u001b[0m\u001b[0;34m[\u001b[0m\u001b[0mrow\u001b[0m\u001b[0;34m[\u001b[0m\u001b[0mi\u001b[0m\u001b[0;34m]\u001b[0m\u001b[0;34m,\u001b[0m \u001b[0mcol\u001b[0m\u001b[0;34m[\u001b[0m\u001b[0mi\u001b[0m\u001b[0;34m]\u001b[0m\u001b[0;34m]\u001b[0m \u001b[0;34m=\u001b[0m \u001b[0mmean_user_rating\u001b[0m\u001b[0;34m[\u001b[0m\u001b[0mrow\u001b[0m\u001b[0;34m[\u001b[0m\u001b[0mi\u001b[0m\u001b[0;34m]\u001b[0m\u001b[0;34m]\u001b[0m \u001b[0;34m+\u001b[0m \u001b[0msimilarity\u001b[0m\u001b[0;34m[\u001b[0m\u001b[0mrow\u001b[0m\u001b[0;34m[\u001b[0m\u001b[0mi\u001b[0m\u001b[0;34m]\u001b[0m\u001b[0;34m,\u001b[0m\u001b[0;34m:\u001b[0m\u001b[0;34m]\u001b[0m\u001b[0;34m.\u001b[0m\u001b[0mdot\u001b[0m\u001b[0;34m(\u001b[0m\u001b[0mratings_diff\u001b[0m\u001b[0;34m[\u001b[0m\u001b[0;34m:\u001b[0m\u001b[0;34m,\u001b[0m\u001b[0mcol\u001b[0m\u001b[0;34m[\u001b[0m\u001b[0mi\u001b[0m\u001b[0;34m]\u001b[0m\u001b[0;34m]\u001b[0m\u001b[0;34m)\u001b[0m \u001b[0;34m/\u001b[0m \u001b[0mnp\u001b[0m\u001b[0;34m.\u001b[0m\u001b[0mabs\u001b[0m\u001b[0;34m(\u001b[0m\u001b[0msimilarity\u001b[0m\u001b[0;34m)\u001b[0m\u001b[0;34m.\u001b[0m\u001b[0msum\u001b[0m\u001b[0;34m(\u001b[0m\u001b[0maxis\u001b[0m\u001b[0;34m=\u001b[0m\u001b[0;36m1\u001b[0m\u001b[0;34m)\u001b[0m\u001b[0;34m[\u001b[0m\u001b[0mrow\u001b[0m\u001b[0;34m[\u001b[0m\u001b[0mi\u001b[0m\u001b[0;34m]\u001b[0m\u001b[0;34m]\u001b[0m\u001b[0;34m\u001b[0m\u001b[0m\n\u001b[0m\u001b[1;32m     12\u001b[0m     \u001b[0;32melif\u001b[0m \u001b[0mtype\u001b[0m \u001b[0;34m==\u001b[0m \u001b[0;34m'item'\u001b[0m\u001b[0;34m:\u001b[0m\u001b[0;34m\u001b[0m\u001b[0m\n\u001b[1;32m     13\u001b[0m         \u001b[0mpred\u001b[0m \u001b[0;34m=\u001b[0m \u001b[0mratings\u001b[0m\u001b[0;34m.\u001b[0m\u001b[0mdot\u001b[0m\u001b[0;34m(\u001b[0m\u001b[0msimilarity\u001b[0m\u001b[0;34m)\u001b[0m \u001b[0;34m/\u001b[0m \u001b[0mnp\u001b[0m\u001b[0;34m.\u001b[0m\u001b[0marray\u001b[0m\u001b[0;34m(\u001b[0m\u001b[0;34m[\u001b[0m\u001b[0mnp\u001b[0m\u001b[0;34m.\u001b[0m\u001b[0mabs\u001b[0m\u001b[0;34m(\u001b[0m\u001b[0msimilarity\u001b[0m\u001b[0;34m)\u001b[0m\u001b[0;34m.\u001b[0m\u001b[0msum\u001b[0m\u001b[0;34m(\u001b[0m\u001b[0maxis\u001b[0m\u001b[0;34m=\u001b[0m\u001b[0;36m1\u001b[0m\u001b[0;34m)\u001b[0m\u001b[0;34m]\u001b[0m\u001b[0;34m)\u001b[0m\u001b[0;34m\u001b[0m\u001b[0m\n",
      "\u001b[0;31mKeyboardInterrupt\u001b[0m: "
     ]
    }
   ],
   "source": [
    "user_prediction = predict(train_data_matrix, test_data_matrix, user_similarity, type='user')"
   ]
  },
  {
   "cell_type": "code",
   "execution_count": null,
   "metadata": {
    "collapsed": true
   },
   "outputs": [],
   "source": [
    "print('User-based CF MSE: ' + str(rmse(pred, test_data_matrix)))"
   ]
  },
  {
   "cell_type": "code",
   "execution_count": 205,
   "metadata": {
    "collapsed": true
   },
   "outputs": [],
   "source": [
    "#get SVD components from train matrix. Choose k.\n",
    "u, s, vt = svds(train_data_matrix, k = 100)\n",
    "S = np.diag(s)"
   ]
  },
  {
   "cell_type": "code",
   "execution_count": 206,
   "metadata": {
    "collapsed": true
   },
   "outputs": [],
   "source": [
    "# Test matrix index\n",
    "lists = test_data_matrix.nonzero()\n",
    "row = lists[0]\n",
    "col = lists[1]\n",
    "pred = lil_matrix((n_users, n_books))\n",
    "for i in range(len(lists[0])):\n",
    "    pred[row[i], col[i]] = np.dot(np.dot(u[row[i],:], S), vt[:, col[i]])"
   ]
  },
  {
   "cell_type": "code",
   "execution_count": 207,
   "metadata": {
    "collapsed": true
   },
   "outputs": [],
   "source": [
    "from sklearn.metrics import mean_squared_error\n",
    "from math import sqrt\n",
    "def rmse(prediction, ground_truth):\n",
    "    prediction = prediction[ground_truth.nonzero()].toarray() \n",
    "    ground_truth = ground_truth[ground_truth.nonzero()].toarray()\n",
    "    return sqrt(mean_squared_error(prediction, ground_truth))"
   ]
  },
  {
   "cell_type": "code",
   "execution_count": 208,
   "metadata": {},
   "outputs": [
    {
     "name": "stdout",
     "output_type": "stream",
     "text": [
      "User-based CF MSE: 2.63009690951\n"
     ]
    }
   ],
   "source": [
    "print('User-based CF MSE: ' + str(rmse(pred, test_data_matrix)))"
   ]
  },
  {
   "cell_type": "code",
   "execution_count": 213,
   "metadata": {},
   "outputs": [
    {
     "name": "stdout",
     "output_type": "stream",
     "text": [
      "[[  4.00000000e+00   1.00000000e+01   7.00000000e+00 ...,   1.82725395e-29\n",
      "    4.55725295e-29   1.49423929e-27]]\n"
     ]
    }
   ],
   "source": [
    "print(pred[test_data_matrix.nonzero()].toarray())"
   ]
  },
  {
   "cell_type": "code",
   "execution_count": 212,
   "metadata": {},
   "outputs": [
    {
     "name": "stdout",
     "output_type": "stream",
     "text": [
      "[[  5.   7.   8. ...,   5.  10.   7.]]\n"
     ]
    }
   ],
   "source": [
    "print(test_data_matrix[test_data_matrix.nonzero()].toarray())"
   ]
  },
  {
   "cell_type": "code",
   "execution_count": 80,
   "metadata": {
    "collapsed": true
   },
   "outputs": [],
   "source": [
    "class recommend_system(object):\n",
    "    def __init__(self):\n",
    "        self.prediction = None\n",
    "    def readfile(filename):\n",
    "        filecontents = filename.readlines()\n",
    "        contents=[]\n",
    "        for line in filecontents:\n",
    "            foo = line.strip('\\n')\n",
    "            contents.append([int(n) for n in foo.split(',')])\n",
    "        data=np.asarray(contents)\n",
    "        return data\n",
    "    def MSE(self,R,d):\n",
    "        # Replace the nan values by zero\n",
    "        index=np.isnan(R)\n",
    "        Rnew = R.copy()\n",
    "        row, col = Rnew.shape\n",
    "        Rnew[index]=0\n",
    "        U,s,V = LA.svd(Rnew, full_matrices=False)\n",
    "        s[d:]=0\n",
    "        out = np.dot(U, np.dot(np.diag(s), V))\n",
    "        Rnew[index]=out[index]\n",
    "        self.prediction = out\n",
    "        MSE=np.linalg.norm(out-Rnew)**2\n",
    "        return MSE/(col*row-sum(sum(index)))\n",
    "    def MLF(self, R, d, Lambda):\n",
    "        row, col= R.shape\n",
    "        U =  np.random.rand(row, d)\n",
    "        V = np.random.rand(d, col)\n",
    "        Rnew = R.copy()\n",
    "        for i in range(10):\n",
    "            current = np.dot(U, V)\n",
    "            U=self.updateU(Rnew,V,Lambda)\n",
    "            V=self.updateV(Rnew,U,Lambda)\n",
    "        out = np.dot(U,V)\n",
    "        self.prediction = out\n",
    "        MSE=self.rmse(out, Rnew)\n",
    "        return MSE/(col*row-sum(sum(index)))\n",
    "    def updateU(self, R,V,Lambda):\n",
    "        U = np.linalg.solve(np.dot(V, V.T)+Lambda*np.eye(len(V)), np.dot(V, R.T))        \n",
    "        return U.T\n",
    "    def updateV(self, R,U,Lambda):\n",
    "        V = np.linalg.solve(np.dot(U.T,U)+Lambda*np.eye(len(U[0])), np.dot(U.T, R))\n",
    "        return V\n",
    "    def rmse(self, prediction, ground_truth):\n",
    "        prediction = prediction[ground_truth.nonzero()].toarray() \n",
    "        ground_truth = ground_truth[ground_truth.nonzero()].toarray()\n",
    "        return sqrt(mean_squared_error(prediction, ground_truth))\n",
    "    def validate_accuracy(self,data):\n",
    "        pred = self.prediction\n",
    "        N = data.shape[0]\n",
    "        n = 0\n",
    "        for row in data:\n",
    "            if (pred[row[0]-1, row[1]-1]>0 and row[2] == 1)\\\n",
    "            or (pred[row[0]-1, row[1]-1]<=0 and row[2] == 0):\n",
    "                n += 1\n",
    "        return float(n)/N"
   ]
  },
  {
   "cell_type": "code",
   "execution_count": null,
   "metadata": {},
   "outputs": [],
   "source": [
    "d=np.array([2, 5])\n",
    "recommender=recommend_system()\n",
    "MSE = np.zeros((len(d)))\n",
    "validation_accuracy = np.zeros((len(d)))\n",
    "R=train_data_matrix\n",
    "for k in range(len(d)):\n",
    "    MSE[k]=recommender.MLF(R, d[k], 0.00001)\n",
    "    validation_accuracy[k]=recommender.validate_accuracy(datav)\n",
    "plt.figure(1)\n",
    "plt.plot(d, MSE)\n",
    "plt.xlim((0,20))\n",
    "plt.figure(2)\n",
    "plt.plot(d, validation_accuracy)"
   ]
  },
  {
   "cell_type": "code",
   "execution_count": null,
   "metadata": {
    "collapsed": true
   },
   "outputs": [],
   "source": []
  },
  {
   "cell_type": "code",
   "execution_count": null,
   "metadata": {
    "collapsed": true
   },
   "outputs": [],
   "source": []
  },
  {
   "cell_type": "code",
   "execution_count": null,
   "metadata": {
    "collapsed": true
   },
   "outputs": [],
   "source": []
  },
  {
   "cell_type": "code",
   "execution_count": null,
   "metadata": {
    "collapsed": true
   },
   "outputs": [],
   "source": []
  }
 ],
 "metadata": {
  "kernelspec": {
   "display_name": "Python 3",
   "language": "python",
   "name": "python3"
  }
 },
 "nbformat": 4,
 "nbformat_minor": 2
}
