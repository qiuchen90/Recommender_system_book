{
 "cells": [
  {
   "cell_type": "markdown",
   "metadata": {},
   "source": [
    "# Recommender System with Book Rating Data\n",
    "\n",
    "In this notebook, we focuses on visualizing the book rating data, as well as prepare the data for a recommender system based on collaborative filtering. "
   ]
  },
  {
   "cell_type": "markdown",
   "metadata": {},
   "source": [
    "### Section I:   \n",
    "### Data Visualization"
   ]
  },
  {
   "cell_type": "code",
   "execution_count": 1,
   "metadata": {
    "collapsed": true
   },
   "outputs": [],
   "source": [
    "import numpy as np\n",
    "import pandas as pd\n",
    "import seaborn as sns\n",
    "import matplotlib.pyplot as plt\n",
    "%matplotlib inline"
   ]
  },
  {
   "cell_type": "code",
   "execution_count": 2,
   "metadata": {
    "collapsed": true
   },
   "outputs": [],
   "source": [
    "import json\n",
    "from pandas.io.json import json_normalize"
   ]
  },
  {
   "cell_type": "markdown",
   "metadata": {},
   "source": [
    "#### Load Data"
   ]
  },
  {
   "cell_type": "code",
   "execution_count": 3,
   "metadata": {
    "collapsed": true
   },
   "outputs": [],
   "source": [
    "# Import Users file as dataframe\n",
    "with open('BX-CSV-Dump/book-crossing_users.json') as data_file:\n",
    "    data = data_file.readlines()\n",
    "# remove the trailing \"\\n\" from each line\n",
    "data = map(lambda x: x.rstrip(), data)\n",
    "\n",
    "# each element of 'data' is an individual JSON object.\n",
    "# i want to convert it into an *array* of JSON objects\n",
    "# which, in and of itself, is one large JSON object\n",
    "# basically... add square brackets to the beginning\n",
    "# and end, and have all the individual business JSON objects\n",
    "# separated by a comma\n",
    "data_json_str = \"[\" + ','.join(data) + \"]\"\n",
    "\n",
    "# now, load it into pandas\n",
    "User = pd.read_json(data_json_str)"
   ]
  },
  {
   "cell_type": "code",
   "execution_count": 4,
   "metadata": {
    "collapsed": true
   },
   "outputs": [],
   "source": [
    "# Import Books file as dataframe\n",
    "with open('BX-CSV-Dump/book-crossing_books.json') as data_file:\n",
    "        data = data_file.readlines()\n",
    "# remove the trailing \"\\n\" from each line\n",
    "data = map(lambda x: x.rstrip(), data)\n",
    "\n",
    "# each element of 'data' is an individual JSON object.\n",
    "# i want to convert it into an *array* of JSON objects\n",
    "# which, in and of itself, is one large JSON object\n",
    "# basically... add square brackets to the beginning\n",
    "# and end, and have all the individual business JSON objects\n",
    "# separated by a comma\n",
    "data_json_str = \"[\" + ','.join(data) + \"]\"\n",
    "\n",
    "# now, load it into pandas\n",
    "Books = pd.read_json(data_json_str)"
   ]
  },
  {
   "cell_type": "code",
   "execution_count": 5,
   "metadata": {
    "collapsed": true
   },
   "outputs": [],
   "source": [
    "# Import Ratings file as dataframe\n",
    "# Note that duplicate entries of ratings have already been removed\n",
    "# Also users who do not rate at least one book has been removed\n",
    "# Books not receiving as least one review have been removed from rating matrix\n",
    "# Only Explicit Ratings are loaded and analysed\n",
    "with open('BX-CSV-Dump/book-crossing_explicit_ratings.json') as data_file:\n",
    "        data = data_file.readlines()\n",
    "# remove the trailing \"\\n\" from each line\n",
    "data = map(lambda x: x.rstrip(), data)\n",
    "\n",
    "# each element of 'data' is an individual JSON object.\n",
    "# i want to convert it into an *array* of JSON objects\n",
    "# which, in and of itself, is one large JSON object\n",
    "# basically... add square brackets to the beginning\n",
    "# and end, and have all the individual business JSON objects\n",
    "# separated by a comma\n",
    "data_json_str = \"[\" + ','.join(data) + \"]\"\n",
    "\n",
    "# now, load it into pandas\n",
    "df = pd.read_json(data_json_str)"
   ]
  },
  {
   "cell_type": "code",
   "execution_count": 6,
   "metadata": {},
   "outputs": [
    {
     "name": "stdout",
     "output_type": "stream",
     "text": [
      "      book_id  implicit  rating  user_id\n",
      "0  0155061224       NaN       5   276726\n",
      "1  052165615X       NaN       3   276729\n",
      "2  0521795028       NaN       6   276729\n",
      "3  038550120X       NaN       7   276744\n",
      "4  0060517794       NaN       9   276747\n"
     ]
    }
   ],
   "source": [
    "print(df.head())"
   ]
  },
  {
   "cell_type": "code",
   "execution_count": 7,
   "metadata": {},
   "outputs": [
    {
     "data": {
      "text/html": [
       "<div>\n",
       "<style>\n",
       "    .dataframe thead tr:only-child th {\n",
       "        text-align: right;\n",
       "    }\n",
       "\n",
       "    .dataframe thead th {\n",
       "        text-align: left;\n",
       "    }\n",
       "\n",
       "    .dataframe tbody tr th {\n",
       "        vertical-align: top;\n",
       "    }\n",
       "</style>\n",
       "<table border=\"1\" class=\"dataframe\">\n",
       "  <thead>\n",
       "    <tr style=\"text-align: right;\">\n",
       "      <th></th>\n",
       "      <th>rating</th>\n",
       "    </tr>\n",
       "    <tr>\n",
       "      <th>book_id</th>\n",
       "      <th></th>\n",
       "    </tr>\n",
       "  </thead>\n",
       "  <tbody>\n",
       "    <tr>\n",
       "      <th>0000913154</th>\n",
       "      <td>8.0</td>\n",
       "    </tr>\n",
       "    <tr>\n",
       "      <th>0001046438</th>\n",
       "      <td>9.0</td>\n",
       "    </tr>\n",
       "    <tr>\n",
       "      <th>000104687X</th>\n",
       "      <td>6.0</td>\n",
       "    </tr>\n",
       "    <tr>\n",
       "      <th>0001047213</th>\n",
       "      <td>9.0</td>\n",
       "    </tr>\n",
       "    <tr>\n",
       "      <th>0001047973</th>\n",
       "      <td>9.0</td>\n",
       "    </tr>\n",
       "  </tbody>\n",
       "</table>\n",
       "</div>"
      ],
      "text/plain": [
       "            rating\n",
       "book_id           \n",
       "0000913154     8.0\n",
       "0001046438     9.0\n",
       "000104687X     6.0\n",
       "0001047213     9.0\n",
       "0001047973     9.0"
      ]
     },
     "execution_count": 7,
     "metadata": {},
     "output_type": "execute_result"
    }
   ],
   "source": [
    "# Visualize the dataset\n",
    "sns.set_style('white')\n",
    "ratings = pd.DataFrame(df.groupby('book_id')['rating'].mean())\n",
    "ratings.head()"
   ]
  },
  {
   "cell_type": "code",
   "execution_count": 8,
   "metadata": {},
   "outputs": [
    {
     "data": {
      "text/html": [
       "<div>\n",
       "<style>\n",
       "    .dataframe thead tr:only-child th {\n",
       "        text-align: right;\n",
       "    }\n",
       "\n",
       "    .dataframe thead th {\n",
       "        text-align: left;\n",
       "    }\n",
       "\n",
       "    .dataframe tbody tr th {\n",
       "        vertical-align: top;\n",
       "    }\n",
       "</style>\n",
       "<table border=\"1\" class=\"dataframe\">\n",
       "  <thead>\n",
       "    <tr style=\"text-align: right;\">\n",
       "      <th></th>\n",
       "      <th>rating</th>\n",
       "      <th>num of ratings</th>\n",
       "    </tr>\n",
       "    <tr>\n",
       "      <th>book_id</th>\n",
       "      <th></th>\n",
       "      <th></th>\n",
       "    </tr>\n",
       "  </thead>\n",
       "  <tbody>\n",
       "    <tr>\n",
       "      <th>0000913154</th>\n",
       "      <td>8.0</td>\n",
       "      <td>1</td>\n",
       "    </tr>\n",
       "    <tr>\n",
       "      <th>0001046438</th>\n",
       "      <td>9.0</td>\n",
       "      <td>1</td>\n",
       "    </tr>\n",
       "    <tr>\n",
       "      <th>000104687X</th>\n",
       "      <td>6.0</td>\n",
       "      <td>1</td>\n",
       "    </tr>\n",
       "    <tr>\n",
       "      <th>0001047213</th>\n",
       "      <td>9.0</td>\n",
       "      <td>1</td>\n",
       "    </tr>\n",
       "    <tr>\n",
       "      <th>0001047973</th>\n",
       "      <td>9.0</td>\n",
       "      <td>2</td>\n",
       "    </tr>\n",
       "  </tbody>\n",
       "</table>\n",
       "</div>"
      ],
      "text/plain": [
       "            rating  num of ratings\n",
       "book_id                           \n",
       "0000913154     8.0               1\n",
       "0001046438     9.0               1\n",
       "000104687X     6.0               1\n",
       "0001047213     9.0               1\n",
       "0001047973     9.0               2"
      ]
     },
     "execution_count": 8,
     "metadata": {},
     "output_type": "execute_result"
    }
   ],
   "source": [
    "ratings['num of ratings'] = pd.DataFrame(df.groupby('book_id')['rating'].count())\n",
    "ratings.head()"
   ]
  },
  {
   "cell_type": "code",
   "execution_count": 9,
   "metadata": {},
   "outputs": [
    {
     "data": {
      "image/png": "[encoded data removed]",
      "text/plain": [
       "<matplotlib.figure.Figure at 0x2326213f8d0>"
      ]
     },
     "metadata": {},
     "output_type": "display_data"
    }
   ],
   "source": [
    "plt.figure(figsize=(10,4))\n",
    "ratings['num of ratings'].hist(bins=100)\n",
    "plt.xlabel('Number of ratings')\n",
    "plt.ylabel('Count')\n",
    "plt.show()"
   ]
  },
  {
   "cell_type": "code",
   "execution_count": 10,
   "metadata": {},
   "outputs": [
    {
     "data": {
      "image/png": "[encoded data removed]",
      "text/plain": [
       "<matplotlib.figure.Figure at 0x23264d06eb8>"
      ]
     },
     "metadata": {},
     "output_type": "display_data"
    }
   ],
   "source": [
    "plt.figure(figsize=(10,4))\n",
    "ratings['rating'].hist(bins=50)\n",
    "plt.xlabel('Rating')\n",
    "plt.ylabel('Count')\n",
    "plt.show()"
   ]
  },
  {
   "cell_type": "code",
   "execution_count": 11,
   "metadata": {},
   "outputs": [
    {
     "data": {
      "text/plain": [
       "<seaborn.axisgrid.JointGrid at 0x23265d44208>"
      ]
     },
     "execution_count": 11,
     "metadata": {},
     "output_type": "execute_result"
    },
    {
     "data": {
      "image/png": "[encoded data removed]",
      "text/plain": [
       "<matplotlib.figure.Figure at 0x23265d44d30>"
      ]
     },
     "metadata": {},
     "output_type": "display_data"
    }
   ],
   "source": [
    "sns.set_style('darkgrid')\n",
    "sns.set_palette('coolwarm')\n",
    "sns.jointplot(x='rating',y='num of ratings',data=ratings, alpha=0.5, xlim = (0,11), ylim = (0, 800))"
   ]
  },
  {
   "cell_type": "code",
   "execution_count": 12,
   "metadata": {},
   "outputs": [
    {
     "data": {
      "text/html": [
       "<div>\n",
       "<style>\n",
       "    .dataframe thead tr:only-child th {\n",
       "        text-align: right;\n",
       "    }\n",
       "\n",
       "    .dataframe thead th {\n",
       "        text-align: left;\n",
       "    }\n",
       "\n",
       "    .dataframe tbody tr th {\n",
       "        vertical-align: top;\n",
       "    }\n",
       "</style>\n",
       "<table border=\"1\" class=\"dataframe\">\n",
       "  <thead>\n",
       "    <tr style=\"text-align: right;\">\n",
       "      <th></th>\n",
       "      <th>num of ratings</th>\n",
       "      <th>rating</th>\n",
       "    </tr>\n",
       "    <tr>\n",
       "      <th>user_id</th>\n",
       "      <th></th>\n",
       "      <th></th>\n",
       "    </tr>\n",
       "  </thead>\n",
       "  <tbody>\n",
       "    <tr>\n",
       "      <th>8</th>\n",
       "      <td>7</td>\n",
       "      <td>5.571429</td>\n",
       "    </tr>\n",
       "    <tr>\n",
       "      <th>9</th>\n",
       "      <td>1</td>\n",
       "      <td>6.000000</td>\n",
       "    </tr>\n",
       "    <tr>\n",
       "      <th>12</th>\n",
       "      <td>1</td>\n",
       "      <td>10.000000</td>\n",
       "    </tr>\n",
       "    <tr>\n",
       "      <th>14</th>\n",
       "      <td>3</td>\n",
       "      <td>5.333333</td>\n",
       "    </tr>\n",
       "    <tr>\n",
       "      <th>16</th>\n",
       "      <td>1</td>\n",
       "      <td>9.000000</td>\n",
       "    </tr>\n",
       "  </tbody>\n",
       "</table>\n",
       "</div>"
      ],
      "text/plain": [
       "         num of ratings     rating\n",
       "user_id                           \n",
       "8                     7   5.571429\n",
       "9                     1   6.000000\n",
       "12                    1  10.000000\n",
       "14                    3   5.333333\n",
       "16                    1   9.000000"
      ]
     },
     "execution_count": 12,
     "metadata": {},
     "output_type": "execute_result"
    }
   ],
   "source": [
    "userrating = pd.DataFrame(columns=['num of ratings'])\n",
    "userrating['rating'] = df.groupby('user_id')['rating'].mean()\n",
    "userrating['num of ratings'] = df.groupby('user_id')['rating'].count()\n",
    "userrating.head()"
   ]
  },
  {
   "cell_type": "code",
   "execution_count": 13,
   "metadata": {},
   "outputs": [
    {
     "name": "stdout",
     "output_type": "stream",
     "text": [
      "Num. of Users: 68092\n",
      "Num of Books: 149842\n"
     ]
    }
   ],
   "source": [
    "# Get Number of Users and Number of Books\n",
    "n_users = df.user_id.nunique()\n",
    "n_books = df.book_id.nunique()\n",
    "\n",
    "print('Num. of Users: ' + str(n_users))\n",
    "print('Num of Books: ' + str(n_books))"
   ]
  },
  {
   "cell_type": "code",
   "execution_count": 14,
   "metadata": {},
   "outputs": [
    {
     "name": "stdout",
     "output_type": "stream",
     "text": [
      "The maximum number of ratings from one user is: 6943\n",
      "The minimum number of ratings from one user is: 1\n"
     ]
    },
    {
     "data": {
      "image/png": "[encoded data removed]",
      "text/plain": [
       "<matplotlib.figure.Figure at 0x23261659be0>"
      ]
     },
     "metadata": {},
     "output_type": "display_data"
    }
   ],
   "source": [
    "nummax = userrating['num of ratings'].max()\n",
    "nummin = userrating['num of ratings'].min()\n",
    "print('The maximum number of ratings from one user is: ' + str(nummax))\n",
    "print('The minimum number of ratings from one user is: ' + str(nummin))\n",
    "# Visualize users and their ratings\n",
    "# Plot the count of number of ratings from all users\n",
    "f, (ax1, ax2) = plt.subplots(ncols=2, figsize=(10,4))\n",
    "ax1.set_xlabel('Number of ratings')\n",
    "ax1.set_ylabel('Count')\n",
    "hist1 = ax1.hist(x = userrating['num of ratings'], bins =100)\n",
    "ax2.set_xlabel('Number of ratings')\n",
    "ax2.set_ylabel('Count')\n",
    "hist2 = ax2.hist(x = userrating['num of ratings'], bins =100, range=(0,20))"
   ]
  },
  {
   "cell_type": "code",
   "execution_count": 15,
   "metadata": {},
   "outputs": [
    {
     "data": {
      "text/plain": [
       "<matplotlib.axes._subplots.AxesSubplot at 0x232620a3eb8>"
      ]
     },
     "execution_count": 15,
     "metadata": {},
     "output_type": "execute_result"
    },
    {
     "data": {
      "image/png": "[encoded data removed]",
      "text/plain": [
       "<matplotlib.figure.Figure at 0x232620a3860>"
      ]
     },
     "metadata": {},
     "output_type": "display_data"
    }
   ],
   "source": [
    "# Visualize the count of ratings from all users.\n",
    "# It makes sence that there are several peaks which is probably from the many users \n",
    "# that only give one rating. \n",
    "plt.figure(figsize=(10,4))\n",
    "plt.xlabel('Rating')\n",
    "plt.ylabel('Count')\n",
    "userrating['rating'].hist(bins=50)"
   ]
  },
  {
   "cell_type": "code",
   "execution_count": 16,
   "metadata": {},
   "outputs": [
    {
     "data": {
      "text/plain": [
       "<seaborn.axisgrid.JointGrid at 0x23261cca630>"
      ]
     },
     "execution_count": 16,
     "metadata": {},
     "output_type": "execute_result"
    },
    {
     "data": {
      "image/png": "[encoded data removed]",
      "text/plain": [
       "<matplotlib.figure.Figure at 0x23261ccacc0>"
      ]
     },
     "metadata": {},
     "output_type": "display_data"
    }
   ],
   "source": [
    "sns.jointplot(x='rating',y='num of ratings',data=userrating,alpha=0.5)"
   ]
  },
  {
   "cell_type": "code",
   "execution_count": 17,
   "metadata": {},
   "outputs": [
    {
     "data": {
      "text/plain": [
       "<matplotlib.axes._subplots.AxesSubplot at 0x232661b2e10>"
      ]
     },
     "execution_count": 17,
     "metadata": {},
     "output_type": "execute_result"
    },
    {
     "data": {
      "image/png": "[encoded data removed]",
      "text/plain": [
       "<matplotlib.figure.Figure at 0x232661aa3c8>"
      ]
     },
     "metadata": {},
     "output_type": "display_data"
    }
   ],
   "source": [
    "userrating[userrating['num of ratings']>4]['rating'].hist(bins=50)"
   ]
  },
  {
   "cell_type": "code",
   "execution_count": 18,
   "metadata": {
    "collapsed": true
   },
   "outputs": [],
   "source": [
    "# Drop rating column\n",
    "userrating.drop('rating', axis =1, inplace=True)"
   ]
  },
  {
   "cell_type": "markdown",
   "metadata": {},
   "source": [
    "### Section II:\n",
    "### Prepare the data for the recommender system"
   ]
  },
  {
   "cell_type": "code",
   "execution_count": 19,
   "metadata": {},
   "outputs": [
    {
     "data": {
      "text/html": [
       "<div>\n",
       "<style>\n",
       "    .dataframe thead tr:only-child th {\n",
       "        text-align: right;\n",
       "    }\n",
       "\n",
       "    .dataframe thead th {\n",
       "        text-align: left;\n",
       "    }\n",
       "\n",
       "    .dataframe tbody tr th {\n",
       "        vertical-align: top;\n",
       "    }\n",
       "</style>\n",
       "<table border=\"1\" class=\"dataframe\">\n",
       "  <thead>\n",
       "    <tr style=\"text-align: right;\">\n",
       "      <th></th>\n",
       "      <th>book_id</th>\n",
       "      <th>implicit</th>\n",
       "      <th>rating</th>\n",
       "      <th>user_id</th>\n",
       "      <th>num of ratings</th>\n",
       "    </tr>\n",
       "  </thead>\n",
       "  <tbody>\n",
       "    <tr>\n",
       "      <th>0</th>\n",
       "      <td>0155061224</td>\n",
       "      <td>NaN</td>\n",
       "      <td>5</td>\n",
       "      <td>276726</td>\n",
       "      <td>1</td>\n",
       "    </tr>\n",
       "    <tr>\n",
       "      <th>1</th>\n",
       "      <td>052165615X</td>\n",
       "      <td>NaN</td>\n",
       "      <td>3</td>\n",
       "      <td>276729</td>\n",
       "      <td>2</td>\n",
       "    </tr>\n",
       "    <tr>\n",
       "      <th>2</th>\n",
       "      <td>0521795028</td>\n",
       "      <td>NaN</td>\n",
       "      <td>6</td>\n",
       "      <td>276729</td>\n",
       "      <td>2</td>\n",
       "    </tr>\n",
       "    <tr>\n",
       "      <th>3</th>\n",
       "      <td>038550120X</td>\n",
       "      <td>NaN</td>\n",
       "      <td>7</td>\n",
       "      <td>276744</td>\n",
       "      <td>1</td>\n",
       "    </tr>\n",
       "    <tr>\n",
       "      <th>4</th>\n",
       "      <td>0060517794</td>\n",
       "      <td>NaN</td>\n",
       "      <td>9</td>\n",
       "      <td>276747</td>\n",
       "      <td>5</td>\n",
       "    </tr>\n",
       "  </tbody>\n",
       "</table>\n",
       "</div>"
      ],
      "text/plain": [
       "      book_id  implicit  rating  user_id  num of ratings\n",
       "0  0155061224       NaN       5   276726               1\n",
       "1  052165615X       NaN       3   276729               2\n",
       "2  0521795028       NaN       6   276729               2\n",
       "3  038550120X       NaN       7   276744               1\n",
       "4  0060517794       NaN       9   276747               5"
      ]
     },
     "execution_count": 19,
     "metadata": {},
     "output_type": "execute_result"
    }
   ],
   "source": [
    "# From the histograms, we can see that more than 35,000 users in \n",
    "# total 68092 users only gives one rating \n",
    "userrating['user_id']=userrating.index\n",
    "df = df.merge(userrating, on = 'user_id')\n",
    "df.head()"
   ]
  },
  {
   "cell_type": "code",
   "execution_count": 20,
   "metadata": {},
   "outputs": [
    {
     "data": {
      "text/html": [
       "<div>\n",
       "<style>\n",
       "    .dataframe thead tr:only-child th {\n",
       "        text-align: right;\n",
       "    }\n",
       "\n",
       "    .dataframe thead th {\n",
       "        text-align: left;\n",
       "    }\n",
       "\n",
       "    .dataframe tbody tr th {\n",
       "        vertical-align: top;\n",
       "    }\n",
       "</style>\n",
       "<table border=\"1\" class=\"dataframe\">\n",
       "  <thead>\n",
       "    <tr style=\"text-align: right;\">\n",
       "      <th></th>\n",
       "      <th>book_id</th>\n",
       "      <th>implicit</th>\n",
       "      <th>rating</th>\n",
       "      <th>user_id</th>\n",
       "      <th>num of ratings</th>\n",
       "    </tr>\n",
       "  </thead>\n",
       "  <tbody>\n",
       "    <tr>\n",
       "      <th>4</th>\n",
       "      <td>0060517794</td>\n",
       "      <td>NaN</td>\n",
       "      <td>9</td>\n",
       "      <td>276747</td>\n",
       "      <td>5</td>\n",
       "    </tr>\n",
       "    <tr>\n",
       "      <th>5</th>\n",
       "      <td>0671537458</td>\n",
       "      <td>NaN</td>\n",
       "      <td>9</td>\n",
       "      <td>276747</td>\n",
       "      <td>5</td>\n",
       "    </tr>\n",
       "    <tr>\n",
       "      <th>6</th>\n",
       "      <td>0679776818</td>\n",
       "      <td>NaN</td>\n",
       "      <td>8</td>\n",
       "      <td>276747</td>\n",
       "      <td>5</td>\n",
       "    </tr>\n",
       "    <tr>\n",
       "      <th>7</th>\n",
       "      <td>0943066433</td>\n",
       "      <td>NaN</td>\n",
       "      <td>7</td>\n",
       "      <td>276747</td>\n",
       "      <td>5</td>\n",
       "    </tr>\n",
       "    <tr>\n",
       "      <th>8</th>\n",
       "      <td>1885408226</td>\n",
       "      <td>NaN</td>\n",
       "      <td>7</td>\n",
       "      <td>276747</td>\n",
       "      <td>5</td>\n",
       "    </tr>\n",
       "  </tbody>\n",
       "</table>\n",
       "</div>"
      ],
      "text/plain": [
       "      book_id  implicit  rating  user_id  num of ratings\n",
       "4  0060517794       NaN       9   276747               5\n",
       "5  0671537458       NaN       9   276747               5\n",
       "6  0679776818       NaN       8   276747               5\n",
       "7  0943066433       NaN       7   276747               5\n",
       "8  1885408226       NaN       7   276747               5"
      ]
     },
     "execution_count": 20,
     "metadata": {},
     "output_type": "execute_result"
    }
   ],
   "source": [
    "# We removed users who rated fewer than 5 books\n",
    "df = df[df['num of ratings']>4]\n",
    "df.head()"
   ]
  },
  {
   "cell_type": "code",
   "execution_count": 21,
   "metadata": {},
   "outputs": [
    {
     "data": {
      "text/html": [
       "<div>\n",
       "<style>\n",
       "    .dataframe thead tr:only-child th {\n",
       "        text-align: right;\n",
       "    }\n",
       "\n",
       "    .dataframe thead th {\n",
       "        text-align: left;\n",
       "    }\n",
       "\n",
       "    .dataframe tbody tr th {\n",
       "        vertical-align: top;\n",
       "    }\n",
       "</style>\n",
       "<table border=\"1\" class=\"dataframe\">\n",
       "  <thead>\n",
       "    <tr style=\"text-align: right;\">\n",
       "      <th></th>\n",
       "      <th>book_id</th>\n",
       "      <th>implicit</th>\n",
       "      <th>rating</th>\n",
       "      <th>user_id</th>\n",
       "      <th>num of ratings</th>\n",
       "    </tr>\n",
       "  </thead>\n",
       "  <tbody>\n",
       "    <tr>\n",
       "      <th>222269</th>\n",
       "      <td>0671534645</td>\n",
       "      <td>NaN</td>\n",
       "      <td>8</td>\n",
       "      <td>154675</td>\n",
       "      <td>6</td>\n",
       "    </tr>\n",
       "    <tr>\n",
       "      <th>265104</th>\n",
       "      <td>0452269563</td>\n",
       "      <td>NaN</td>\n",
       "      <td>9</td>\n",
       "      <td>187145</td>\n",
       "      <td>181</td>\n",
       "    </tr>\n",
       "    <tr>\n",
       "      <th>178617</th>\n",
       "      <td>0060264608</td>\n",
       "      <td>NaN</td>\n",
       "      <td>5</td>\n",
       "      <td>122782</td>\n",
       "      <td>21</td>\n",
       "    </tr>\n",
       "    <tr>\n",
       "      <th>56602</th>\n",
       "      <td>0394860292</td>\n",
       "      <td>NaN</td>\n",
       "      <td>10</td>\n",
       "      <td>35859</td>\n",
       "      <td>777</td>\n",
       "    </tr>\n",
       "    <tr>\n",
       "      <th>375894</th>\n",
       "      <td>0380730421</td>\n",
       "      <td>NaN</td>\n",
       "      <td>8</td>\n",
       "      <td>269890</td>\n",
       "      <td>70</td>\n",
       "    </tr>\n",
       "  </tbody>\n",
       "</table>\n",
       "</div>"
      ],
      "text/plain": [
       "           book_id  implicit  rating  user_id  num of ratings\n",
       "222269  0671534645       NaN       8   154675               6\n",
       "265104  0452269563       NaN       9   187145             181\n",
       "178617  0060264608       NaN       5   122782              21\n",
       "56602   0394860292       NaN      10    35859             777\n",
       "375894  0380730421       NaN       8   269890              70"
      ]
     },
     "execution_count": 21,
     "metadata": {},
     "output_type": "execute_result"
    }
   ],
   "source": [
    "# Select a subset of users\n",
    "# To reduce calculation times in this kernel, I select only a subset of users\n",
    "\n",
    "fraction = 0.1\n",
    "size = df['book_id'].count()\n",
    "index = np.random.randint(0, size, int(size*fraction))\n",
    "subdf = df.iloc[index]\n",
    "subdf.head()"
   ]
  },
  {
   "cell_type": "code",
   "execution_count": 22,
   "metadata": {},
   "outputs": [
    {
     "name": "stdout",
     "output_type": "stream",
     "text": [
      "Num. of Users: 8506\n",
      "Num of Books: 21654\n"
     ]
    }
   ],
   "source": [
    "# Get Number of Users and Number of Books in Filtered Data\n",
    "n_users = subdf.user_id.nunique()\n",
    "n_books = subdf.book_id.nunique()\n",
    "\n",
    "print('Num. of Users: ' + str(n_users))\n",
    "print('Num of Books: ' + str(n_books))"
   ]
  },
  {
   "cell_type": "code",
   "execution_count": 23,
   "metadata": {},
   "outputs": [
    {
     "name": "stdout",
     "output_type": "stream",
     "text": [
      "The sparsity level of BooksRecomender Dataset is 99.984%\n"
     ]
    }
   ],
   "source": [
    "# Calculate the sparsity for ratings of books dataset\n",
    "sparsity = round(1.0-len(subdf)/float(n_users*n_books), 5)\n",
    "print('The sparsity level of BooksRecomender Dataset is ' + str(sparsity*100) + '%')"
   ]
  },
  {
   "cell_type": "code",
   "execution_count": 24,
   "metadata": {
    "collapsed": true
   },
   "outputs": [],
   "source": [
    "# Map user_id from 1 to n_users\n",
    "user_index = pd.DataFrame(subdf['user_id'].unique(), columns=['user_id'])\n",
    "user_index.sort_values(by='user_id', axis=0, inplace= True)\n",
    "user_index.reset_index(drop=True, inplace=True)\n",
    "user_index['user_index']=user_index.index\n",
    "\n",
    "# Map book_id from 1 to n_books\n",
    "book_index = pd.DataFrame(subdf['book_id'].unique(), columns=['book_id'])\n",
    "book_index.sort_values(by='book_id', axis=0, inplace= True)\n",
    "book_index.reset_index(drop=True, inplace=True)\n",
    "book_index['book_index']=book_index.index"
   ]
  },
  {
   "cell_type": "code",
   "execution_count": 25,
   "metadata": {
    "collapsed": true
   },
   "outputs": [],
   "source": [
    "subdf = subdf.merge(user_index, on ='user_id')\n",
    "subdf = subdf.merge(book_index, on = 'book_id')"
   ]
  },
  {
   "cell_type": "code",
   "execution_count": 26,
   "metadata": {},
   "outputs": [
    {
     "data": {
      "text/html": [
       "<div>\n",
       "<style>\n",
       "    .dataframe thead tr:only-child th {\n",
       "        text-align: right;\n",
       "    }\n",
       "\n",
       "    .dataframe thead th {\n",
       "        text-align: left;\n",
       "    }\n",
       "\n",
       "    .dataframe tbody tr th {\n",
       "        vertical-align: top;\n",
       "    }\n",
       "</style>\n",
       "<table border=\"1\" class=\"dataframe\">\n",
       "  <thead>\n",
       "    <tr style=\"text-align: right;\">\n",
       "      <th></th>\n",
       "      <th>book_id</th>\n",
       "      <th>implicit</th>\n",
       "      <th>rating</th>\n",
       "      <th>user_id</th>\n",
       "      <th>num of ratings</th>\n",
       "      <th>user_index</th>\n",
       "      <th>book_index</th>\n",
       "    </tr>\n",
       "  </thead>\n",
       "  <tbody>\n",
       "    <tr>\n",
       "      <th>0</th>\n",
       "      <td>0671534645</td>\n",
       "      <td>NaN</td>\n",
       "      <td>8</td>\n",
       "      <td>154675</td>\n",
       "      <td>6</td>\n",
       "      <td>4765</td>\n",
       "      <td>12588</td>\n",
       "    </tr>\n",
       "    <tr>\n",
       "      <th>1</th>\n",
       "      <td>0671534645</td>\n",
       "      <td>NaN</td>\n",
       "      <td>7</td>\n",
       "      <td>242999</td>\n",
       "      <td>15</td>\n",
       "      <td>7429</td>\n",
       "      <td>12588</td>\n",
       "    </tr>\n",
       "    <tr>\n",
       "      <th>2</th>\n",
       "      <td>0452269563</td>\n",
       "      <td>NaN</td>\n",
       "      <td>9</td>\n",
       "      <td>187145</td>\n",
       "      <td>181</td>\n",
       "      <td>5715</td>\n",
       "      <td>9737</td>\n",
       "    </tr>\n",
       "    <tr>\n",
       "      <th>3</th>\n",
       "      <td>1570612668</td>\n",
       "      <td>NaN</td>\n",
       "      <td>8</td>\n",
       "      <td>187145</td>\n",
       "      <td>181</td>\n",
       "      <td>5715</td>\n",
       "      <td>19168</td>\n",
       "    </tr>\n",
       "    <tr>\n",
       "      <th>4</th>\n",
       "      <td>0553250426</td>\n",
       "      <td>NaN</td>\n",
       "      <td>8</td>\n",
       "      <td>187145</td>\n",
       "      <td>181</td>\n",
       "      <td>5715</td>\n",
       "      <td>10804</td>\n",
       "    </tr>\n",
       "  </tbody>\n",
       "</table>\n",
       "</div>"
      ],
      "text/plain": [
       "      book_id  implicit  rating  user_id  num of ratings  user_index  \\\n",
       "0  0671534645       NaN       8   154675               6        4765   \n",
       "1  0671534645       NaN       7   242999              15        7429   \n",
       "2  0452269563       NaN       9   187145             181        5715   \n",
       "3  1570612668       NaN       8   187145             181        5715   \n",
       "4  0553250426       NaN       8   187145             181        5715   \n",
       "\n",
       "   book_index  \n",
       "0       12588  \n",
       "1       12588  \n",
       "2        9737  \n",
       "3       19168  \n",
       "4       10804  "
      ]
     },
     "execution_count": 26,
     "metadata": {},
     "output_type": "execute_result"
    }
   ],
   "source": [
    "subdf.head()"
   ]
  },
  {
   "cell_type": "code",
   "execution_count": 27,
   "metadata": {},
   "outputs": [
    {
     "data": {
      "text/html": [
       "<div>\n",
       "<style>\n",
       "    .dataframe thead tr:only-child th {\n",
       "        text-align: right;\n",
       "    }\n",
       "\n",
       "    .dataframe thead th {\n",
       "        text-align: left;\n",
       "    }\n",
       "\n",
       "    .dataframe tbody tr th {\n",
       "        vertical-align: top;\n",
       "    }\n",
       "</style>\n",
       "<table border=\"1\" class=\"dataframe\">\n",
       "  <thead>\n",
       "    <tr style=\"text-align: right;\">\n",
       "      <th></th>\n",
       "      <th>rating</th>\n",
       "      <th>num of ratings</th>\n",
       "      <th>book_id</th>\n",
       "      <th>author</th>\n",
       "      <th>publisher</th>\n",
       "      <th>year</th>\n",
       "    </tr>\n",
       "    <tr>\n",
       "      <th>title</th>\n",
       "      <th></th>\n",
       "      <th></th>\n",
       "      <th></th>\n",
       "      <th></th>\n",
       "      <th></th>\n",
       "      <th></th>\n",
       "    </tr>\n",
       "  </thead>\n",
       "  <tbody>\n",
       "    <tr>\n",
       "      <th>Harry Potter and the Chamber of Secrets Postcard Book</th>\n",
       "      <td>9.869565</td>\n",
       "      <td>23</td>\n",
       "      <td>0439425220</td>\n",
       "      <td>J. K. Rowling</td>\n",
       "      <td>Scholastic</td>\n",
       "      <td>2002</td>\n",
       "    </tr>\n",
       "    <tr>\n",
       "      <th>The Two Towers (The Lord of the Rings, Part 2)</th>\n",
       "      <td>9.720000</td>\n",
       "      <td>25</td>\n",
       "      <td>0618002235</td>\n",
       "      <td>J. R. R. Tolkien</td>\n",
       "      <td>Houghton Mifflin Company</td>\n",
       "      <td>1999</td>\n",
       "    </tr>\n",
       "    <tr>\n",
       "      <th>Calvin and Hobbes</th>\n",
       "      <td>9.583333</td>\n",
       "      <td>24</td>\n",
       "      <td>0836220889</td>\n",
       "      <td>Bill Watterson</td>\n",
       "      <td>Andrews McMeel Publishing</td>\n",
       "      <td>1987</td>\n",
       "    </tr>\n",
       "    <tr>\n",
       "      <th>My Sister's Keeper : A Novel (Picoult, Jodi)</th>\n",
       "      <td>9.545455</td>\n",
       "      <td>22</td>\n",
       "      <td>0743454529</td>\n",
       "      <td>Jodi Picoult</td>\n",
       "      <td>Atria</td>\n",
       "      <td>2004</td>\n",
       "    </tr>\n",
       "    <tr>\n",
       "      <th>84 Charing Cross Road</th>\n",
       "      <td>9.464286</td>\n",
       "      <td>28</td>\n",
       "      <td>0140143505</td>\n",
       "      <td>Helene Hanff</td>\n",
       "      <td>Penguin Books</td>\n",
       "      <td>1990</td>\n",
       "    </tr>\n",
       "    <tr>\n",
       "      <th>The Return of the King (The Lord of the Rings, Part 3)</th>\n",
       "      <td>9.402597</td>\n",
       "      <td>77</td>\n",
       "      <td>0345339738</td>\n",
       "      <td>J.R.R. TOLKIEN</td>\n",
       "      <td>Del Rey</td>\n",
       "      <td>1986</td>\n",
       "    </tr>\n",
       "    <tr>\n",
       "      <th>Where the Sidewalk Ends : Poems and Drawings</th>\n",
       "      <td>9.400000</td>\n",
       "      <td>25</td>\n",
       "      <td>0060256672</td>\n",
       "      <td>Shel Silverstein</td>\n",
       "      <td>HarperCollins</td>\n",
       "      <td>1974</td>\n",
       "    </tr>\n",
       "    <tr>\n",
       "      <th>The Little Prince</th>\n",
       "      <td>9.391304</td>\n",
       "      <td>23</td>\n",
       "      <td>0156012197</td>\n",
       "      <td>Antoine de Saint-ExupÃ©ry</td>\n",
       "      <td>Harvest Books</td>\n",
       "      <td>2000</td>\n",
       "    </tr>\n",
       "    <tr>\n",
       "      <th>Johnny Got His Gun</th>\n",
       "      <td>9.391304</td>\n",
       "      <td>23</td>\n",
       "      <td>0553274325</td>\n",
       "      <td>Dalton Trumbo</td>\n",
       "      <td>Bantam Books</td>\n",
       "      <td>1983</td>\n",
       "    </tr>\n",
       "    <tr>\n",
       "      <th>Roots</th>\n",
       "      <td>9.333333</td>\n",
       "      <td>21</td>\n",
       "      <td>0440174643</td>\n",
       "      <td>ALEX HALEY</td>\n",
       "      <td>Dell</td>\n",
       "      <td>1980</td>\n",
       "    </tr>\n",
       "  </tbody>\n",
       "</table>\n",
       "</div>"
      ],
      "text/plain": [
       "                                                      rating  num of ratings  \\\n",
       "title                                                                          \n",
       "Harry Potter and the Chamber of Secrets Postcar...  9.869565              23   \n",
       "The Two Towers (The Lord of the Rings, Part 2)      9.720000              25   \n",
       "Calvin and Hobbes                                   9.583333              24   \n",
       "My Sister's Keeper : A Novel (Picoult, Jodi)        9.545455              22   \n",
       "84 Charing Cross Road                               9.464286              28   \n",
       "The Return of the King (The Lord of the Rings, ...  9.402597              77   \n",
       "Where the Sidewalk Ends : Poems and Drawings        9.400000              25   \n",
       "The Little Prince                                   9.391304              23   \n",
       "Johnny Got His Gun                                  9.391304              23   \n",
       "Roots                                               9.333333              21   \n",
       "\n",
       "                                                       book_id  \\\n",
       "title                                                            \n",
       "Harry Potter and the Chamber of Secrets Postcar...  0439425220   \n",
       "The Two Towers (The Lord of the Rings, Part 2)      0618002235   \n",
       "Calvin and Hobbes                                   0836220889   \n",
       "My Sister's Keeper : A Novel (Picoult, Jodi)        0743454529   \n",
       "84 Charing Cross Road                               0140143505   \n",
       "The Return of the King (The Lord of the Rings, ...  0345339738   \n",
       "Where the Sidewalk Ends : Poems and Drawings        0060256672   \n",
       "The Little Prince                                   0156012197   \n",
       "Johnny Got His Gun                                  0553274325   \n",
       "Roots                                               0440174643   \n",
       "\n",
       "                                                                       author  \\\n",
       "title                                                                           \n",
       "Harry Potter and the Chamber of Secrets Postcar...              J. K. Rowling   \n",
       "The Two Towers (The Lord of the Rings, Part 2)               J. R. R. Tolkien   \n",
       "Calvin and Hobbes                                              Bill Watterson   \n",
       "My Sister's Keeper : A Novel (Picoult, Jodi)                     Jodi Picoult   \n",
       "84 Charing Cross Road                                            Helene Hanff   \n",
       "The Return of the King (The Lord of the Rings, ...             J.R.R. TOLKIEN   \n",
       "Where the Sidewalk Ends : Poems and Drawings                 Shel Silverstein   \n",
       "The Little Prince                                   Antoine de Saint-ExupÃ©ry   \n",
       "Johnny Got His Gun                                              Dalton Trumbo   \n",
       "Roots                                                              ALEX HALEY   \n",
       "\n",
       "                                                                    publisher  \\\n",
       "title                                                                           \n",
       "Harry Potter and the Chamber of Secrets Postcar...                 Scholastic   \n",
       "The Two Towers (The Lord of the Rings, Part 2)       Houghton Mifflin Company   \n",
       "Calvin and Hobbes                                   Andrews McMeel Publishing   \n",
       "My Sister's Keeper : A Novel (Picoult, Jodi)                            Atria   \n",
       "84 Charing Cross Road                                           Penguin Books   \n",
       "The Return of the King (The Lord of the Rings, ...                    Del Rey   \n",
       "Where the Sidewalk Ends : Poems and Drawings                    HarperCollins   \n",
       "The Little Prince                                               Harvest Books   \n",
       "Johnny Got His Gun                                               Bantam Books   \n",
       "Roots                                                                    Dell   \n",
       "\n",
       "                                                    year  \n",
       "title                                                     \n",
       "Harry Potter and the Chamber of Secrets Postcar...  2002  \n",
       "The Two Towers (The Lord of the Rings, Part 2)      1999  \n",
       "Calvin and Hobbes                                   1987  \n",
       "My Sister's Keeper : A Novel (Picoult, Jodi)        2004  \n",
       "84 Charing Cross Road                               1990  \n",
       "The Return of the King (The Lord of the Rings, ...  1986  \n",
       "Where the Sidewalk Ends : Poems and Drawings        1974  \n",
       "The Little Prince                                   2000  \n",
       "Johnny Got His Gun                                  1983  \n",
       "Roots                                               1980  "
      ]
     },
     "execution_count": 27,
     "metadata": {},
     "output_type": "execute_result"
    }
   ],
   "source": [
    "# Get the top 10 rated books with more than 50 reviews\n",
    "ratings['book_id'] = ratings.index\n",
    "book_ratings = ratings.merge(Books, on='book_id').set_index('title')\n",
    "book_ratings[book_ratings['num of ratings']>20].sort_values('rating', ascending=False).head(10)"
   ]
  },
  {
   "cell_type": "code",
   "execution_count": 28,
   "metadata": {},
   "outputs": [
    {
     "data": {
      "text/html": [
       "<div>\n",
       "<style>\n",
       "    .dataframe thead tr:only-child th {\n",
       "        text-align: right;\n",
       "    }\n",
       "\n",
       "    .dataframe thead th {\n",
       "        text-align: left;\n",
       "    }\n",
       "\n",
       "    .dataframe tbody tr th {\n",
       "        vertical-align: top;\n",
       "    }\n",
       "</style>\n",
       "<table border=\"1\" class=\"dataframe\">\n",
       "  <thead>\n",
       "    <tr style=\"text-align: right;\">\n",
       "      <th></th>\n",
       "      <th>rating</th>\n",
       "      <th>num of ratings</th>\n",
       "      <th>book_id</th>\n",
       "      <th>author</th>\n",
       "      <th>publisher</th>\n",
       "      <th>year</th>\n",
       "    </tr>\n",
       "    <tr>\n",
       "      <th>title</th>\n",
       "      <th></th>\n",
       "      <th></th>\n",
       "      <th></th>\n",
       "      <th></th>\n",
       "      <th></th>\n",
       "      <th></th>\n",
       "    </tr>\n",
       "  </thead>\n",
       "  <tbody>\n",
       "    <tr>\n",
       "      <th>The Lovely Bones: A Novel</th>\n",
       "      <td>8.185290</td>\n",
       "      <td>707</td>\n",
       "      <td>0316666343</td>\n",
       "      <td>Alice Sebold</td>\n",
       "      <td>Little, Brown</td>\n",
       "      <td>2002</td>\n",
       "    </tr>\n",
       "    <tr>\n",
       "      <th>Wild Animus</th>\n",
       "      <td>4.390706</td>\n",
       "      <td>581</td>\n",
       "      <td>0971880107</td>\n",
       "      <td>Rich Shapero</td>\n",
       "      <td>Too Far</td>\n",
       "      <td>2004</td>\n",
       "    </tr>\n",
       "    <tr>\n",
       "      <th>The Da Vinci Code</th>\n",
       "      <td>8.435318</td>\n",
       "      <td>487</td>\n",
       "      <td>0385504209</td>\n",
       "      <td>Dan Brown</td>\n",
       "      <td>Doubleday</td>\n",
       "      <td>2003</td>\n",
       "    </tr>\n",
       "    <tr>\n",
       "      <th>The Red Tent (Bestselling Backlist)</th>\n",
       "      <td>8.182768</td>\n",
       "      <td>383</td>\n",
       "      <td>0312195516</td>\n",
       "      <td>Anita Diamant</td>\n",
       "      <td>Picador USA</td>\n",
       "      <td>1998</td>\n",
       "    </tr>\n",
       "    <tr>\n",
       "      <th>Divine Secrets of the Ya-Ya Sisterhood: A Novel</th>\n",
       "      <td>7.887500</td>\n",
       "      <td>320</td>\n",
       "      <td>0060928336</td>\n",
       "      <td>Rebecca Wells</td>\n",
       "      <td>Perennial</td>\n",
       "      <td>1997</td>\n",
       "    </tr>\n",
       "    <tr>\n",
       "      <th>Harry Potter and the Sorcerer's Stone (Harry Potter (Paperback))</th>\n",
       "      <td>8.939297</td>\n",
       "      <td>313</td>\n",
       "      <td>059035342X</td>\n",
       "      <td>J. K. Rowling</td>\n",
       "      <td>Arthur A. Levine Books</td>\n",
       "      <td>1999</td>\n",
       "    </tr>\n",
       "    <tr>\n",
       "      <th>The Secret Life of Bees</th>\n",
       "      <td>8.452769</td>\n",
       "      <td>307</td>\n",
       "      <td>0142001740</td>\n",
       "      <td>Sue Monk Kidd</td>\n",
       "      <td>Penguin Books</td>\n",
       "      <td>2003</td>\n",
       "    </tr>\n",
       "    <tr>\n",
       "      <th>Where the Heart Is (Oprah's Book Club (Paperback))</th>\n",
       "      <td>8.142373</td>\n",
       "      <td>295</td>\n",
       "      <td>0446672211</td>\n",
       "      <td>Billie Letts</td>\n",
       "      <td>Warner Books</td>\n",
       "      <td>1998</td>\n",
       "    </tr>\n",
       "    <tr>\n",
       "      <th>A Painted House</th>\n",
       "      <td>7.338078</td>\n",
       "      <td>281</td>\n",
       "      <td>044023722X</td>\n",
       "      <td>John Grisham</td>\n",
       "      <td>Dell Publishing Company</td>\n",
       "      <td>2001</td>\n",
       "    </tr>\n",
       "    <tr>\n",
       "      <th>Girl with a Pearl Earring</th>\n",
       "      <td>7.982014</td>\n",
       "      <td>278</td>\n",
       "      <td>0452282152</td>\n",
       "      <td>Tracy Chevalier</td>\n",
       "      <td>Plume Books</td>\n",
       "      <td>2001</td>\n",
       "    </tr>\n",
       "  </tbody>\n",
       "</table>\n",
       "</div>"
      ],
      "text/plain": [
       "                                                      rating  num of ratings  \\\n",
       "title                                                                          \n",
       "The Lovely Bones: A Novel                           8.185290             707   \n",
       "Wild Animus                                         4.390706             581   \n",
       "The Da Vinci Code                                   8.435318             487   \n",
       "The Red Tent (Bestselling Backlist)                 8.182768             383   \n",
       "Divine Secrets of the Ya-Ya Sisterhood: A Novel     7.887500             320   \n",
       "Harry Potter and the Sorcerer's Stone (Harry Po...  8.939297             313   \n",
       "The Secret Life of Bees                             8.452769             307   \n",
       "Where the Heart Is (Oprah's Book Club (Paperback))  8.142373             295   \n",
       "A Painted House                                     7.338078             281   \n",
       "Girl with a Pearl Earring                           7.982014             278   \n",
       "\n",
       "                                                       book_id  \\\n",
       "title                                                            \n",
       "The Lovely Bones: A Novel                           0316666343   \n",
       "Wild Animus                                         0971880107   \n",
       "The Da Vinci Code                                   0385504209   \n",
       "The Red Tent (Bestselling Backlist)                 0312195516   \n",
       "Divine Secrets of the Ya-Ya Sisterhood: A Novel     0060928336   \n",
       "Harry Potter and the Sorcerer's Stone (Harry Po...  059035342X   \n",
       "The Secret Life of Bees                             0142001740   \n",
       "Where the Heart Is (Oprah's Book Club (Paperback))  0446672211   \n",
       "A Painted House                                     044023722X   \n",
       "Girl with a Pearl Earring                           0452282152   \n",
       "\n",
       "                                                             author  \\\n",
       "title                                                                 \n",
       "The Lovely Bones: A Novel                              Alice Sebold   \n",
       "Wild Animus                                            Rich Shapero   \n",
       "The Da Vinci Code                                         Dan Brown   \n",
       "The Red Tent (Bestselling Backlist)                   Anita Diamant   \n",
       "Divine Secrets of the Ya-Ya Sisterhood: A Novel       Rebecca Wells   \n",
       "Harry Potter and the Sorcerer's Stone (Harry Po...    J. K. Rowling   \n",
       "The Secret Life of Bees                               Sue Monk Kidd   \n",
       "Where the Heart Is (Oprah's Book Club (Paperback))     Billie Letts   \n",
       "A Painted House                                        John Grisham   \n",
       "Girl with a Pearl Earring                           Tracy Chevalier   \n",
       "\n",
       "                                                                  publisher  \\\n",
       "title                                                                         \n",
       "The Lovely Bones: A Novel                                     Little, Brown   \n",
       "Wild Animus                                                         Too Far   \n",
       "The Da Vinci Code                                                 Doubleday   \n",
       "The Red Tent (Bestselling Backlist)                             Picador USA   \n",
       "Divine Secrets of the Ya-Ya Sisterhood: A Novel                   Perennial   \n",
       "Harry Potter and the Sorcerer's Stone (Harry Po...   Arthur A. Levine Books   \n",
       "The Secret Life of Bees                                       Penguin Books   \n",
       "Where the Heart Is (Oprah's Book Club (Paperback))             Warner Books   \n",
       "A Painted House                                     Dell Publishing Company   \n",
       "Girl with a Pearl Earring                                       Plume Books   \n",
       "\n",
       "                                                    year  \n",
       "title                                                     \n",
       "The Lovely Bones: A Novel                           2002  \n",
       "Wild Animus                                         2004  \n",
       "The Da Vinci Code                                   2003  \n",
       "The Red Tent (Bestselling Backlist)                 1998  \n",
       "Divine Secrets of the Ya-Ya Sisterhood: A Novel     1997  \n",
       "Harry Potter and the Sorcerer's Stone (Harry Po...  1999  \n",
       "The Secret Life of Bees                             2003  \n",
       "Where the Heart Is (Oprah's Book Club (Paperback))  1998  \n",
       "A Painted House                                     2001  \n",
       "Girl with a Pearl Earring                           2001  "
      ]
     },
     "execution_count": 28,
     "metadata": {},
     "output_type": "execute_result"
    }
   ],
   "source": [
    "# Get the top 10 popular books\n",
    "book_ratings.sort_values('num of ratings', ascending=False).head(10)"
   ]
  },
  {
   "cell_type": "code",
   "execution_count": 29,
   "metadata": {},
   "outputs": [
    {
     "name": "stdout",
     "output_type": "stream",
     "text": [
      "The correlation between number of ratings and average rating of books is: 0.0197672626057\n"
     ]
    }
   ],
   "source": [
    "# Is there any correlation between number of ratings \n",
    "# and the rating of books\n",
    "m = np.corrcoef(x=book_ratings['rating'], y=book_ratings['num of ratings'])\n",
    "print('The correlation between number of ratings and average rating of books is: ' + str(m[0,1]))"
   ]
  },
  {
   "cell_type": "markdown",
   "metadata": {},
   "source": [
    "We found that the number of ratings of does not affect the rating of books\n",
    "Hopefully other factors we don't have explicitly are affecting the ratings\n",
    "i.e. the quality of the book."
   ]
  },
  {
   "cell_type": "markdown",
   "metadata": {},
   "source": [
    "### Section III:\n",
    "### Recommender System"
   ]
  },
  {
   "cell_type": "code",
   "execution_count": 30,
   "metadata": {
    "collapsed": true
   },
   "outputs": [],
   "source": [
    "# Change the datatype of ratings to int8 (-128 to 127)\n",
    "# This has enough bits to hold the rating 0 to 10\n",
    "# And most importantly, this significantly reduce the RAM needed when \n",
    "# calculating matrix multiplication\n",
    "subdf['rating'] = subdf['rating'].astype('int8')"
   ]
  },
  {
   "cell_type": "code",
   "execution_count": 31,
   "metadata": {
    "collapsed": true
   },
   "outputs": [],
   "source": [
    "#import scipy.sparse as sp\n",
    "#from scipy.sparse import lil_matrix\n",
    "#from scipy.sparse import csr_matrix\n",
    "#from scipy.sparse.linalg import svds"
   ]
  },
  {
   "cell_type": "code",
   "execution_count": 32,
   "metadata": {
    "collapsed": true
   },
   "outputs": [],
   "source": [
    "# A model-based Collaborative Filtering system\n",
    "# Train Test split\n",
    "from sklearn.model_selection import train_test_split\n",
    "train_data, test_data = train_test_split(subdf, test_size=0.25)\n",
    "\n",
    "#Create two user-item matrices, one for training and another for testing\n",
    "train_data_matrix = np.zeros((n_users, n_books))\n",
    "for line in train_data.itertuples():\n",
    "    train_data_matrix[line[5], line[6]] = line[3]  \n",
    "    \n",
    "test_data_matrix = np.zeros((n_users, n_books))\n",
    "for line in test_data.itertuples():\n",
    "    test_data_matrix[line[5], line[6]] = line[3]"
   ]
  },
  {
   "cell_type": "markdown",
   "metadata": {
    "collapsed": true
   },
   "source": [
    "### Make predictions using content based collaboritive filtering\n"
   ]
  },
  {
   "cell_type": "code",
   "execution_count": 36,
   "metadata": {
    "collapsed": true
   },
   "outputs": [],
   "source": [
    "import recommender_system\n",
    "import imp\n",
    "imp.reload(recommender_system)\n",
    "from recommender_system import recommender_system\n",
    "# Initialize a recommender system\n",
    "RS = recommender_system();\n",
    "\n",
    "# Matrix \n",
    "user_prediction = np.zeros((n_users, n_books))\n",
    "# User-item prediction\n",
    "for i in range(n_users):\n",
    "    user_prediction[i,:] = RS.predict_content(train_data_matrix, uid = i, type='user')\n",
    "#print('User-based CF RMSE: ' + str(RS.rmse(user_prediction, test_data_matrix)))"
   ]
  },
  {
   "cell_type": "code",
   "execution_count": null,
   "metadata": {},
   "outputs": [],
   "source": [
    "import recommender_system\n",
    "import imp\n",
    "imp.reload(recommender_system)\n",
    "from recommender_system import recommender_system\n",
    "# Item-item prediction\n",
    "item_prediction = np.zeros((n_users, n_books))\n",
    "for i in range(n_books):\n",
    "    item_prediction[i,:] = RS.predict_content(train_data_matrix, uid = i, type='item')"
   ]
  },
  {
   "cell_type": "code",
   "execution_count": 49,
   "metadata": {},
   "outputs": [
    {
     "data": {
      "text/plain": [
       "(8458, 21688)"
      ]
     },
     "execution_count": 49,
     "metadata": {},
     "output_type": "execute_result"
    }
   ],
   "source": [
    "train_data_matrix.shape"
   ]
  },
  {
   "cell_type": "code",
   "execution_count": 53,
   "metadata": {},
   "outputs": [
    {
     "name": "stdout",
     "output_type": "stream",
     "text": [
      "User-based CF RMSE: 7.714988393394997\n"
     ]
    }
   ],
   "source": [
    "print('User-based CF RMSE: ' + str(RS.rmse(user_prediction, test_data_matrix)))"
   ]
  },
  {
   "cell_type": "code",
   "execution_count": 44,
   "metadata": {},
   "outputs": [
    {
     "name": "stdout",
     "output_type": "stream",
     "text": [
      "Item-based CF RMSE: 7.822062739288728\n"
     ]
    }
   ],
   "source": [
    "print('Item-based CF RMSE: ' + str(RS.rmse(item_prediction, test_data_matrix)))"
   ]
  },
  {
   "cell_type": "code",
   "execution_count": null,
   "metadata": {
    "collapsed": true
   },
   "outputs": [],
   "source": [
    "# Here is a prediction for spefic users. \n",
    "uid = np.int8(100)\n",
    "user_pred = RS.predict_content(train_data_matrix, uid = uid, type='user')\n",
    "item_pred = RS.predict_content(train_data_matrix, uid = i, type='item')"
   ]
  },
  {
   "cell_type": "markdown",
   "metadata": {},
   "source": [
    "### Make predictions using model based collaboritive filtering"
   ]
  },
  {
   "cell_type": "code",
   "execution_count": 43,
   "metadata": {},
   "outputs": [
    {
     "data": {
      "text/plain": [
       "(1, 21688)"
      ]
     },
     "execution_count": 43,
     "metadata": {},
     "output_type": "execute_result"
    }
   ],
   "source": [
    "np.abs(test_data_matrix).sum(axis=0, keepdims= True).shape"
   ]
  },
  {
   "cell_type": "code",
   "execution_count": null,
   "metadata": {
    "collapsed": true
   },
   "outputs": [],
   "source": []
  },
  {
   "cell_type": "code",
   "execution_count": 49,
   "metadata": {},
   "outputs": [
    {
     "name": "stdout",
     "output_type": "stream",
     "text": [
      "[  2.17986765e-01   2.17986765e-01   2.17986765e-01 ...,  -7.65283388e-05\n",
      "   1.08114585e-04   1.08114585e-04]\n"
     ]
    }
   ],
   "source": [
    "print(user_prediction[test_data_matrix.nonzero()].flatten())"
   ]
  },
  {
   "cell_type": "code",
   "execution_count": 51,
   "metadata": {},
   "outputs": [
    {
     "name": "stdout",
     "output_type": "stream",
     "text": [
      "[  6.   5.   9. ...,  10.   5.   7.]\n"
     ]
    }
   ],
   "source": [
    "print(test_data_matrix[test_data_matrix.nonzero()].flatten())"
   ]
  },
  {
   "cell_type": "code",
   "execution_count": null,
   "metadata": {
    "collapsed": true
   },
   "outputs": [],
   "source": []
  },
  {
   "cell_type": "code",
   "execution_count": null,
   "metadata": {
    "collapsed": true
   },
   "outputs": [],
   "source": [
    "d=np.array([2, 5])\n",
    "recommender=recommend_system()\n",
    "MSE = np.zeros((len(d)))\n",
    "validation_accuracy = np.zeros((len(d)))\n",
    "R=train_data_matrix\n",
    "for k in range(len(d)):\n",
    "    MSE[k]=recommender.MLF(R, d[k], 0.00001)\n",
    "    validation_accuracy[k]=recommender.validate_accuracy(datav)\n",
    "plt.figure(1)\n",
    "plt.plot(d, MSE)\n",
    "plt.xlim((0,20))\n",
    "plt.figure(2)\n",
    "plt.plot(d, validation_accuracy)"
   ]
  },
  {
   "cell_type": "code",
   "execution_count": null,
   "metadata": {
    "collapsed": true
   },
   "outputs": [],
   "source": []
  },
  {
   "cell_type": "code",
   "execution_count": null,
   "metadata": {
    "collapsed": true
   },
   "outputs": [],
   "source": []
  },
  {
   "cell_type": "code",
   "execution_count": null,
   "metadata": {
    "collapsed": true
   },
   "outputs": [],
   "source": []
  },
  {
   "cell_type": "code",
   "execution_count": null,
   "metadata": {
    "collapsed": true
   },
   "outputs": [],
   "source": []
  },
  {
   "cell_type": "code",
   "execution_count": null,
   "metadata": {
    "collapsed": true
   },
   "outputs": [],
   "source": []
  },
  {
   "cell_type": "code",
   "execution_count": null,
   "metadata": {
    "collapsed": true
   },
   "outputs": [],
   "source": []
  },
  {
   "cell_type": "code",
   "execution_count": null,
   "metadata": {
    "collapsed": true
   },
   "outputs": [],
   "source": []
  },
  {
   "cell_type": "code",
   "execution_count": null,
   "metadata": {
    "collapsed": true
   },
   "outputs": [],
   "source": []
  },
  {
   "cell_type": "code",
   "execution_count": null,
   "metadata": {
    "collapsed": true
   },
   "outputs": [],
   "source": []
  },
  {
   "cell_type": "code",
   "execution_count": null,
   "metadata": {
    "collapsed": true
   },
   "outputs": [],
   "source": []
  },
  {
   "cell_type": "code",
   "execution_count": null,
   "metadata": {
    "collapsed": true
   },
   "outputs": [],
   "source": []
  },
  {
   "cell_type": "code",
   "execution_count": null,
   "metadata": {
    "collapsed": true
   },
   "outputs": [],
   "source": []
  },
  {
   "cell_type": "code",
   "execution_count": null,
   "metadata": {
    "collapsed": true
   },
   "outputs": [],
   "source": []
  },
  {
   "cell_type": "code",
   "execution_count": null,
   "metadata": {
    "collapsed": true
   },
   "outputs": [],
   "source": []
  },
  {
   "cell_type": "code",
   "execution_count": null,
   "metadata": {
    "collapsed": true
   },
   "outputs": [],
   "source": []
  },
  {
   "cell_type": "code",
   "execution_count": null,
   "metadata": {
    "collapsed": true
   },
   "outputs": [],
   "source": []
  },
  {
   "cell_type": "code",
   "execution_count": null,
   "metadata": {
    "collapsed": true
   },
   "outputs": [],
   "source": []
  },
  {
   "cell_type": "code",
   "execution_count": null,
   "metadata": {
    "collapsed": true
   },
   "outputs": [],
   "source": []
  },
  {
   "cell_type": "code",
   "execution_count": null,
   "metadata": {
    "collapsed": true
   },
   "outputs": [],
   "source": []
  },
  {
   "cell_type": "code",
   "execution_count": null,
   "metadata": {
    "collapsed": true
   },
   "outputs": [],
   "source": []
  },
  {
   "cell_type": "code",
   "execution_count": null,
   "metadata": {
    "collapsed": true
   },
   "outputs": [],
   "source": []
  },
  {
   "cell_type": "code",
   "execution_count": null,
   "metadata": {
    "collapsed": true
   },
   "outputs": [],
   "source": []
  },
  {
   "cell_type": "code",
   "execution_count": null,
   "metadata": {
    "collapsed": true
   },
   "outputs": [],
   "source": []
  }
 ],
 "metadata": {
  "kernelspec": {
   "display_name": "Python 3",
   "language": "python",
   "name": "python3"
  },
  "language_info": {
   "codemirror_mode": {
    "name": "ipython",
    "version": 3
   },
   "file_extension": ".py",
   "mimetype": "text/x-python",
   "name": "python",
   "nbconvert_exporter": "python",
   "pygments_lexer": "ipython3",
   "version": "3.6.2"
  }
 },
 "nbformat": 4,
 "nbformat_minor": 2
}
