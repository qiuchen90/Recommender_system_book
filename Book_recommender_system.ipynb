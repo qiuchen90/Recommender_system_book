{
 "cells": [
  {
   "cell_type": "markdown",
   "metadata": {},
   "source": [
    "# Recommender System with Book Rating Data\n",
    "\n",
    "In this notebook, we focuses on visualizing the book rating data, as well as prepare the data for a recommender system based on collaborative filtering. This notebook is split into three parts:\n",
    "\n",
    "**Section I:** explores the dataset to find interesting patterns <br />\n",
    "**Section II:** prepare the dataset for collaborative filtering <br />\n",
    "**Section III:** introduce and demonstrate collaborative filtering"
   ]
  },
  {
   "cell_type": "markdown",
   "metadata": {},
   "source": [
    "### Section I:   \n",
    "### Data Visualization and Exploratory Analysis"
   ]
  },
  {
   "cell_type": "markdown",
   "metadata": {},
   "source": [
    "#### Load library\n",
    "We start by loading some libraries"
   ]
  },
  {
   "cell_type": "code",
   "execution_count": 1,
   "metadata": {},
   "outputs": [],
   "source": [
    "import numpy as np\n",
    "import pandas as pd\n",
    "import seaborn as sns\n",
    "import matplotlib.pyplot as plt\n",
    "%matplotlib inline"
   ]
  },
  {
   "cell_type": "code",
   "execution_count": 2,
   "metadata": {},
   "outputs": [],
   "source": [
    "import json\n",
    "from pandas.io.json import json_normalize"
   ]
  },
  {
   "cell_type": "markdown",
   "metadata": {},
   "source": [
    "#### Read data\n",
    "\n",
    "We read three datafiles as dataframes. Where\n",
    "\n",
    "*'BX-CSV-Dump/book-crossing_users.json'* has the user information <br />\n",
    "*'BX-CSV-Dump/book-crossing_books.json'* has the book information <br />\n",
    "*'BX-CSV-Dump/book-crossing_explicit_ratings.json'* has the users' ratings on books <br />\n",
    "\n",
    "The describtions of the dataset can be found [Here](http://www2.informatik.uni-freiburg.de/~cziegler/BX/)"
   ]
  },
  {
   "cell_type": "code",
   "execution_count": 3,
   "metadata": {},
   "outputs": [],
   "source": [
    "# Import Users file as dataframe\n",
    "with open('BX-CSV-Dump/book-crossing_users.json') as data_file:\n",
    "    data = data_file.readlines()\n",
    "# remove the trailing \"\\n\" from each line\n",
    "data = map(lambda x: x.rstrip(), data)\n",
    "\n",
    "# each element of 'data' is an individual JSON object.\n",
    "# i want to convert it into an *array* of JSON objects\n",
    "# which, in and of itself, is one large JSON object\n",
    "# basically... add square brackets to the beginning\n",
    "# and end, and have all the individual business JSON objects\n",
    "# separated by a comma\n",
    "data_json_str = \"[\" + ','.join(data) + \"]\"\n",
    "\n",
    "# now, load it into pandas\n",
    "User = pd.read_json(data_json_str)"
   ]
  },
  {
   "cell_type": "code",
   "execution_count": 4,
   "metadata": {},
   "outputs": [],
   "source": [
    "# Import Books file as dataframe\n",
    "with open('BX-CSV-Dump/book-crossing_books.json') as data_file:\n",
    "        data = data_file.readlines()\n",
    "# remove the trailing \"\\n\" from each line\n",
    "data = map(lambda x: x.rstrip(), data)\n",
    "\n",
    "# each element of 'data' is an individual JSON object.\n",
    "# i want to convert it into an *array* of JSON objects\n",
    "# which, in and of itself, is one large JSON object\n",
    "# basically... add square brackets to the beginning\n",
    "# and end, and have all the individual business JSON objects\n",
    "# separated by a comma\n",
    "data_json_str = \"[\" + ','.join(data) + \"]\"\n",
    "\n",
    "# now, load it into pandas\n",
    "Books = pd.read_json(data_json_str)"
   ]
  },
  {
   "cell_type": "code",
   "execution_count": 5,
   "metadata": {},
   "outputs": [],
   "source": [
    "# Import Ratings file as dataframe\n",
    "# Note that duplicate entries of ratings have already been removed\n",
    "# Also users who do not rate at least one book has been removed\n",
    "# Books not receiving as least one review have been removed from rating matrix\n",
    "# Only Explicit Ratings are loaded and analysed\n",
    "with open('BX-CSV-Dump/book-crossing_explicit_ratings.json') as data_file:\n",
    "        data = data_file.readlines()\n",
    "# remove the trailing \"\\n\" from each line\n",
    "data = map(lambda x: x.rstrip(), data)\n",
    "\n",
    "# each element of 'data' is an individual JSON object.\n",
    "# i want to convert it into an *array* of JSON objects\n",
    "# which, in and of itself, is one large JSON object\n",
    "# basically... add square brackets to the beginning\n",
    "# and end, and have all the individual business JSON objects\n",
    "# separated by a comma\n",
    "data_json_str = \"[\" + ','.join(data) + \"]\"\n",
    "\n",
    "# now, load it into pandas\n",
    "df = pd.read_json(data_json_str)"
   ]
  },
  {
   "cell_type": "markdown",
   "metadata": {},
   "source": [
    "#### Have a look at the dataset\n",
    "\n",
    "First, let's have a look at the dataset. Dataframe **df** contains users' ratings of books (a total of 383852 ratings, for 149842 books, from 68092 users). <br />\n",
    "\n",
    "While dataframe **Books** contains more information on the books such as title, autor, year and publisher. \n",
    "\n",
    "The dataframe **User** has other user information, such as location and age <br />\n",
    "\n",
    "Here we print out heads of ratings, Books, and User dataframe "
   ]
  },
  {
   "cell_type": "code",
   "execution_count": 6,
   "metadata": {},
   "outputs": [
    {
     "data": {
      "text/html": [
       "<div>\n",
       "<table border=\"1\" class=\"dataframe\">\n",
       "  <thead>\n",
       "    <tr style=\"text-align: right;\">\n",
       "      <th></th>\n",
       "      <th>book_id</th>\n",
       "      <th>implicit</th>\n",
       "      <th>rating</th>\n",
       "      <th>user_id</th>\n",
       "    </tr>\n",
       "  </thead>\n",
       "  <tbody>\n",
       "    <tr>\n",
       "      <th>0</th>\n",
       "      <td>0155061224</td>\n",
       "      <td>NaN</td>\n",
       "      <td>5</td>\n",
       "      <td>276726</td>\n",
       "    </tr>\n",
       "    <tr>\n",
       "      <th>1</th>\n",
       "      <td>052165615X</td>\n",
       "      <td>NaN</td>\n",
       "      <td>3</td>\n",
       "      <td>276729</td>\n",
       "    </tr>\n",
       "    <tr>\n",
       "      <th>2</th>\n",
       "      <td>0521795028</td>\n",
       "      <td>NaN</td>\n",
       "      <td>6</td>\n",
       "      <td>276729</td>\n",
       "    </tr>\n",
       "    <tr>\n",
       "      <th>3</th>\n",
       "      <td>038550120X</td>\n",
       "      <td>NaN</td>\n",
       "      <td>7</td>\n",
       "      <td>276744</td>\n",
       "    </tr>\n",
       "    <tr>\n",
       "      <th>4</th>\n",
       "      <td>0060517794</td>\n",
       "      <td>NaN</td>\n",
       "      <td>9</td>\n",
       "      <td>276747</td>\n",
       "    </tr>\n",
       "  </tbody>\n",
       "</table>\n",
       "</div>"
      ],
      "text/plain": [
       "      book_id  implicit  rating  user_id\n",
       "0  0155061224       NaN       5   276726\n",
       "1  052165615X       NaN       3   276729\n",
       "2  0521795028       NaN       6   276729\n",
       "3  038550120X       NaN       7   276744\n",
       "4  0060517794       NaN       9   276747"
      ]
     },
     "execution_count": 6,
     "metadata": {},
     "output_type": "execute_result"
    }
   ],
   "source": [
    "df.head()"
   ]
  },
  {
   "cell_type": "code",
   "execution_count": 7,
   "metadata": {},
   "outputs": [
    {
     "name": "stdout",
     "output_type": "stream",
     "text": [
      "<class 'pandas.core.frame.DataFrame'>\n",
      "Int64Index: 383852 entries, 0 to 383851\n",
      "Data columns (total 4 columns):\n",
      "book_id     383852 non-null object\n",
      "implicit    0 non-null float64\n",
      "rating      383852 non-null int64\n",
      "user_id     383852 non-null int64\n",
      "dtypes: float64(1), int64(2), object(1)\n",
      "memory usage: 14.6+ MB\n",
      "None\n"
     ]
    }
   ],
   "source": [
    "print(df.info())"
   ]
  },
  {
   "cell_type": "markdown",
   "metadata": {},
   "source": [
    "##### Number of books and number of users"
   ]
  },
  {
   "cell_type": "code",
   "execution_count": 8,
   "metadata": {},
   "outputs": [
    {
     "name": "stdout",
     "output_type": "stream",
     "text": [
      "Num. of Users: 68092\n",
      "Num of Books: 149842\n"
     ]
    }
   ],
   "source": [
    "# Get Number of Users and Number of Books\n",
    "n_users = df.user_id.nunique()\n",
    "n_books = df.book_id.nunique()\n",
    "\n",
    "print('Num. of Users: ' + str(n_users))\n",
    "print('Num of Books: ' + str(n_books))"
   ]
  },
  {
   "cell_type": "markdown",
   "metadata": {},
   "source": [
    "##### Books and User dataframe"
   ]
  },
  {
   "cell_type": "code",
   "execution_count": 9,
   "metadata": {},
   "outputs": [
    {
     "data": {
      "text/html": [
       "<div>\n",
       "<table border=\"1\" class=\"dataframe\">\n",
       "  <thead>\n",
       "    <tr style=\"text-align: right;\">\n",
       "      <th></th>\n",
       "      <th>author</th>\n",
       "      <th>book_id</th>\n",
       "      <th>publisher</th>\n",
       "      <th>title</th>\n",
       "      <th>year</th>\n",
       "    </tr>\n",
       "  </thead>\n",
       "  <tbody>\n",
       "    <tr>\n",
       "      <th>0</th>\n",
       "      <td>Mark P. O. Morford</td>\n",
       "      <td>0195153448</td>\n",
       "      <td>Oxford University Press</td>\n",
       "      <td>Classical Mythology</td>\n",
       "      <td>2002</td>\n",
       "    </tr>\n",
       "    <tr>\n",
       "      <th>1</th>\n",
       "      <td>Richard Bruce Wright</td>\n",
       "      <td>0002005018</td>\n",
       "      <td>HarperFlamingo Canada</td>\n",
       "      <td>Clara Callan</td>\n",
       "      <td>2001</td>\n",
       "    </tr>\n",
       "    <tr>\n",
       "      <th>2</th>\n",
       "      <td>Carlo D'Este</td>\n",
       "      <td>0060973129</td>\n",
       "      <td>HarperPerennial</td>\n",
       "      <td>Decision in Normandy</td>\n",
       "      <td>1991</td>\n",
       "    </tr>\n",
       "    <tr>\n",
       "      <th>3</th>\n",
       "      <td>Gina Bari Kolata</td>\n",
       "      <td>0374157065</td>\n",
       "      <td>Farrar Straus Giroux</td>\n",
       "      <td>Flu: The Story of the Great Influenza Pandemic...</td>\n",
       "      <td>1999</td>\n",
       "    </tr>\n",
       "    <tr>\n",
       "      <th>4</th>\n",
       "      <td>E. J. W. Barber</td>\n",
       "      <td>0393045218</td>\n",
       "      <td>W. W. Norton &amp;amp; Company</td>\n",
       "      <td>The Mummies of Urumchi</td>\n",
       "      <td>1999</td>\n",
       "    </tr>\n",
       "  </tbody>\n",
       "</table>\n",
       "</div>"
      ],
      "text/plain": [
       "                 author     book_id                   publisher  \\\n",
       "0    Mark P. O. Morford  0195153448     Oxford University Press   \n",
       "1  Richard Bruce Wright  0002005018       HarperFlamingo Canada   \n",
       "2          Carlo D'Este  0060973129             HarperPerennial   \n",
       "3      Gina Bari Kolata  0374157065        Farrar Straus Giroux   \n",
       "4       E. J. W. Barber  0393045218  W. W. Norton &amp; Company   \n",
       "\n",
       "                                               title  year  \n",
       "0                                Classical Mythology  2002  \n",
       "1                                       Clara Callan  2001  \n",
       "2                               Decision in Normandy  1991  \n",
       "3  Flu: The Story of the Great Influenza Pandemic...  1999  \n",
       "4                             The Mummies of Urumchi  1999  "
      ]
     },
     "execution_count": 9,
     "metadata": {},
     "output_type": "execute_result"
    }
   ],
   "source": [
    "Books.head()"
   ]
  },
  {
   "cell_type": "code",
   "execution_count": 10,
   "metadata": {},
   "outputs": [
    {
     "data": {
      "text/html": [
       "<div>\n",
       "<table border=\"1\" class=\"dataframe\">\n",
       "  <thead>\n",
       "    <tr style=\"text-align: right;\">\n",
       "      <th></th>\n",
       "      <th>age</th>\n",
       "      <th>location</th>\n",
       "      <th>user_id</th>\n",
       "    </tr>\n",
       "  </thead>\n",
       "  <tbody>\n",
       "    <tr>\n",
       "      <th>0</th>\n",
       "      <td>18</td>\n",
       "      <td>stockton, california, usa</td>\n",
       "      <td>2</td>\n",
       "    </tr>\n",
       "    <tr>\n",
       "      <th>1</th>\n",
       "      <td>NaN</td>\n",
       "      <td>timmins, ontario, canada</td>\n",
       "      <td>8</td>\n",
       "    </tr>\n",
       "    <tr>\n",
       "      <th>2</th>\n",
       "      <td>NaN</td>\n",
       "      <td>germantown, tennessee, usa</td>\n",
       "      <td>9</td>\n",
       "    </tr>\n",
       "    <tr>\n",
       "      <th>3</th>\n",
       "      <td>26</td>\n",
       "      <td>albacete, wisconsin, spain</td>\n",
       "      <td>10</td>\n",
       "    </tr>\n",
       "    <tr>\n",
       "      <th>4</th>\n",
       "      <td>NaN</td>\n",
       "      <td>fort bragg, california, usa</td>\n",
       "      <td>12</td>\n",
       "    </tr>\n",
       "  </tbody>\n",
       "</table>\n",
       "</div>"
      ],
      "text/plain": [
       "   age                     location  user_id\n",
       "0   18    stockton, california, usa        2\n",
       "1  NaN     timmins, ontario, canada        8\n",
       "2  NaN   germantown, tennessee, usa        9\n",
       "3   26   albacete, wisconsin, spain       10\n",
       "4  NaN  fort bragg, california, usa       12"
      ]
     },
     "execution_count": 10,
     "metadata": {},
     "output_type": "execute_result"
    }
   ],
   "source": [
    "User.head()"
   ]
  },
  {
   "cell_type": "markdown",
   "metadata": {},
   "source": [
    "#### Select a subset of ratings\n",
    "\n",
    "To reduce calculation times in this kernel, I select only a subset of ratings. (e.g., 20%) Now the subset has **24128 Users** and **43280 Books**"
   ]
  },
  {
   "cell_type": "code",
   "execution_count": 11,
   "metadata": {},
   "outputs": [],
   "source": [
    "fraction = 0.2\n",
    "size = df['book_id'].count()\n",
    "index = np.random.randint(0, size, int(size*fraction))\n",
    "df = df.iloc[index]"
   ]
  },
  {
   "cell_type": "code",
   "execution_count": 12,
   "metadata": {},
   "outputs": [
    {
     "name": "stdout",
     "output_type": "stream",
     "text": [
      "<class 'pandas.core.frame.DataFrame'>\n",
      "Int64Index: 76770 entries, 294641 to 5296\n",
      "Data columns (total 4 columns):\n",
      "book_id     76770 non-null object\n",
      "implicit    0 non-null float64\n",
      "rating      76770 non-null int64\n",
      "user_id     76770 non-null int64\n",
      "dtypes: float64(1), int64(2), object(1)\n",
      "memory usage: 2.9+ MB\n"
     ]
    }
   ],
   "source": [
    "df.info()"
   ]
  },
  {
   "cell_type": "markdown",
   "metadata": {},
   "source": [
    "Drop the unneccesary columns in dataframe df"
   ]
  },
  {
   "cell_type": "code",
   "execution_count": 13,
   "metadata": {},
   "outputs": [
    {
     "name": "stdout",
     "output_type": "stream",
     "text": [
      "Num. of Users: 24333\n",
      "Num of Books: 43270\n"
     ]
    }
   ],
   "source": [
    "# Get Number of Users and Number of Books\n",
    "n_users = df.user_id.nunique()\n",
    "n_books = df.book_id.nunique()\n",
    "\n",
    "print('Num. of Users: ' + str(n_users))\n",
    "print('Num of Books: ' + str(n_books))"
   ]
  },
  {
   "cell_type": "markdown",
   "metadata": {},
   "source": [
    "#### Now let's start exploring the dataset by visualize them!\n",
    "\n",
    "##### Q1: What is the distribution of ratings?\n",
    "\n",
    "We see that most of the ratings are quite positive in 6-9 range. We also observed that there are several peaks at rating score 5, 6, 7, 8, 9, 10. This is simply because many of the books only receive one rating, and its rating is an integer. So we have so many ratings that are integers instead of a mean value of many ratings."
   ]
  },
  {
   "cell_type": "code",
   "execution_count": 14,
   "metadata": {},
   "outputs": [
    {
     "data": {
      "text/html": [
       "<div>\n",
       "<table border=\"1\" class=\"dataframe\">\n",
       "  <thead>\n",
       "    <tr style=\"text-align: right;\">\n",
       "      <th></th>\n",
       "      <th>rating</th>\n",
       "      <th>num of ratings</th>\n",
       "    </tr>\n",
       "    <tr>\n",
       "      <th>book_id</th>\n",
       "      <th></th>\n",
       "      <th></th>\n",
       "    </tr>\n",
       "  </thead>\n",
       "  <tbody>\n",
       "    <tr>\n",
       "      <th>0001047973</th>\n",
       "      <td>9</td>\n",
       "      <td>1</td>\n",
       "    </tr>\n",
       "    <tr>\n",
       "      <th>000104799X</th>\n",
       "      <td>8</td>\n",
       "      <td>1</td>\n",
       "    </tr>\n",
       "    <tr>\n",
       "      <th>0001053736</th>\n",
       "      <td>5</td>\n",
       "      <td>2</td>\n",
       "    </tr>\n",
       "    <tr>\n",
       "      <th>0001935968</th>\n",
       "      <td>10</td>\n",
       "      <td>1</td>\n",
       "    </tr>\n",
       "    <tr>\n",
       "      <th>0001941968</th>\n",
       "      <td>9</td>\n",
       "      <td>1</td>\n",
       "    </tr>\n",
       "  </tbody>\n",
       "</table>\n",
       "</div>"
      ],
      "text/plain": [
       "            rating  num of ratings\n",
       "book_id                           \n",
       "0001047973       9               1\n",
       "000104799X       8               1\n",
       "0001053736       5               2\n",
       "0001935968      10               1\n",
       "0001941968       9               1"
      ]
     },
     "execution_count": 14,
     "metadata": {},
     "output_type": "execute_result"
    }
   ],
   "source": [
    "# Group the books and their ratings in the dataframe ratings\n",
    "sns.set_style('white')\n",
    "ratings = pd.DataFrame(df.groupby('book_id')['rating'].mean())\n",
    "ratings['num of ratings'] = pd.DataFrame(df.groupby('book_id')['rating'].count())\n",
    "ratings.head()"
   ]
  },
  {
   "cell_type": "code",
   "execution_count": 15,
   "metadata": {},
   "outputs": [
    {
     "data": {
      "image/png": "[encoded data removed]",
      "text/plain": [
       "<matplotlib.figure.Figure at 0x7fd0d14851d0>"
      ]
     },
     "metadata": {},
     "output_type": "display_data"
    }
   ],
   "source": [
    "plt.figure(figsize=(10,4))\n",
    "ratings['rating'].hist(bins=50)\n",
    "plt.xlabel('Rating')\n",
    "plt.ylabel('Count')\n",
    "plt.show()"
   ]
  },
  {
   "cell_type": "markdown",
   "metadata": {},
   "source": [
    "##### Q2: How does the number of ratings per book distribute?\n",
    "\n",
    "We can see that most of the books only receive one rating. This makes sence because many books receive only one rating. "
   ]
  },
  {
   "cell_type": "code",
   "execution_count": 16,
   "metadata": {},
   "outputs": [
    {
     "data": {
      "image/png": "[encoded data removed]",
      "text/plain": [
       "<matplotlib.figure.Figure at 0x7fd0d04015d0>"
      ]
     },
     "metadata": {},
     "output_type": "display_data"
    }
   ],
   "source": [
    "plt.figure(figsize=(10,4))\n",
    "ratings['num of ratings'].hist(bins=100)\n",
    "plt.xlabel('Number of ratings')\n",
    "plt.ylabel('Count')\n",
    "plt.show()"
   ]
  },
  {
   "cell_type": "markdown",
   "metadata": {},
   "source": [
    "A jointplot shows how ratings and num of ratings distribute"
   ]
  },
  {
   "cell_type": "code",
   "execution_count": 17,
   "metadata": {},
   "outputs": [
    {
     "data": {
      "text/plain": [
       "<seaborn.axisgrid.JointGrid at 0x7fd0d0a56950>"
      ]
     },
     "execution_count": 17,
     "metadata": {},
     "output_type": "execute_result"
    },
    {
     "data": {
      "image/png": "[encoded data removed]",
      "text/plain": [
       "<matplotlib.figure.Figure at 0x7fd0d078ac50>"
      ]
     },
     "metadata": {},
     "output_type": "display_data"
    }
   ],
   "source": [
    "sns.set_style('darkgrid')\n",
    "sns.set_palette('coolwarm')\n",
    "sns.jointplot(x='rating',y='num of ratings',data=ratings, alpha=0.5, xlim = (0,11), ylim = (0, 800))"
   ]
  },
  {
   "cell_type": "markdown",
   "metadata": {},
   "source": [
    "#### Q3: What is the number of ratings per user?\n",
    "\n",
    "Most of the users only give one rating. The number of ratings per user seems to exponentially decaying. The users who only rate 1 or 2 books do not provide much information on recommending. So I will filter out these users have less than 3 ratings later."
   ]
  },
  {
   "cell_type": "code",
   "execution_count": 18,
   "metadata": {},
   "outputs": [
    {
     "data": {
      "text/html": [
       "<div>\n",
       "<table border=\"1\" class=\"dataframe\">\n",
       "  <thead>\n",
       "    <tr style=\"text-align: right;\">\n",
       "      <th></th>\n",
       "      <th>num of ratings</th>\n",
       "      <th>rating</th>\n",
       "    </tr>\n",
       "    <tr>\n",
       "      <th>user_id</th>\n",
       "      <th></th>\n",
       "      <th></th>\n",
       "    </tr>\n",
       "  </thead>\n",
       "  <tbody>\n",
       "    <tr>\n",
       "      <th>8</th>\n",
       "      <td>1</td>\n",
       "      <td>5</td>\n",
       "    </tr>\n",
       "    <tr>\n",
       "      <th>19</th>\n",
       "      <td>1</td>\n",
       "      <td>7</td>\n",
       "    </tr>\n",
       "    <tr>\n",
       "      <th>39</th>\n",
       "      <td>2</td>\n",
       "      <td>8</td>\n",
       "    </tr>\n",
       "    <tr>\n",
       "      <th>53</th>\n",
       "      <td>1</td>\n",
       "      <td>3</td>\n",
       "    </tr>\n",
       "    <tr>\n",
       "      <th>56</th>\n",
       "      <td>1</td>\n",
       "      <td>7</td>\n",
       "    </tr>\n",
       "  </tbody>\n",
       "</table>\n",
       "</div>"
      ],
      "text/plain": [
       "         num of ratings  rating\n",
       "user_id                        \n",
       "8                     1       5\n",
       "19                    1       7\n",
       "39                    2       8\n",
       "53                    1       3\n",
       "56                    1       7"
      ]
     },
     "execution_count": 18,
     "metadata": {},
     "output_type": "execute_result"
    }
   ],
   "source": [
    "userrating = pd.DataFrame(columns=['num of ratings'])\n",
    "userrating['rating'] = df.groupby('user_id')['rating'].mean()\n",
    "userrating['num of ratings'] = df.groupby('user_id')['rating'].count()\n",
    "userrating.head()"
   ]
  },
  {
   "cell_type": "code",
   "execution_count": 19,
   "metadata": {},
   "outputs": [
    {
     "name": "stdout",
     "output_type": "stream",
     "text": [
      "The maximum number of ratings from one user is: 1371\n",
      "The minimum number of ratings from one user is: 1\n"
     ]
    },
    {
     "data": {
      "image/png": "[encoded data removed]",
      "text/plain": [
       "<matplotlib.figure.Figure at 0x7fd0d0818150>"
      ]
     },
     "metadata": {},
     "output_type": "display_data"
    }
   ],
   "source": [
    "nummax = userrating['num of ratings'].max()\n",
    "nummin = userrating['num of ratings'].min()\n",
    "print('The maximum number of ratings from one user is: ' + str(nummax))\n",
    "print('The minimum number of ratings from one user is: ' + str(nummin))\n",
    "# Visualize users and their ratings\n",
    "# Plot the count of number of ratings from all users\n",
    "f, (ax1, ax2) = plt.subplots(ncols=2, figsize=(10,4))\n",
    "ax1.set_xlabel('Number of ratings')\n",
    "ax1.set_ylabel('Count')\n",
    "hist1 = ax1.hist(x = userrating['num of ratings'], bins =100)\n",
    "ax2.set_xlabel('Number of ratings')\n",
    "ax2.set_ylabel('Count')\n",
    "hist2 = ax2.hist(x = userrating['num of ratings'], bins =100, range=(0,20))"
   ]
  },
  {
   "cell_type": "markdown",
   "metadata": {
    "collapsed": true
   },
   "source": [
    "#### Q4: Distribution of mean user ratings\n",
    "Most of the ratings fall between 6 to 9. Still there are peaks at ratings = integer because there are many users who only give one rating. "
   ]
  },
  {
   "cell_type": "code",
   "execution_count": 20,
   "metadata": {},
   "outputs": [
    {
     "data": {
      "text/plain": [
       "<matplotlib.axes._subplots.AxesSubplot at 0x7fd0d08e0ed0>"
      ]
     },
     "execution_count": 20,
     "metadata": {},
     "output_type": "execute_result"
    },
    {
     "data": {
      "image/png": "[encoded data removed]",
      "text/plain": [
       "<matplotlib.figure.Figure at 0x7fd0d08e0850>"
      ]
     },
     "metadata": {},
     "output_type": "display_data"
    }
   ],
   "source": [
    "# Visualize the count of ratings from all users.\n",
    "# It makes sence that there are several peaks which is probably from the many users \n",
    "# that only give one rating. \n",
    "plt.figure(figsize=(10,4))\n",
    "plt.xlabel('Meab User Rating')\n",
    "plt.ylabel('Count')\n",
    "userrating['rating'].hist(bins=50)"
   ]
  },
  {
   "cell_type": "code",
   "execution_count": 21,
   "metadata": {},
   "outputs": [
    {
     "data": {
      "text/plain": [
       "<seaborn.axisgrid.JointGrid at 0x7fd0d3ddc750>"
      ]
     },
     "execution_count": 21,
     "metadata": {},
     "output_type": "execute_result"
    },
    {
     "data": {
      "image/png": "[encoded data removed]",
      "text/plain": [
       "<matplotlib.figure.Figure at 0x7fd0d3ddc450>"
      ]
     },
     "metadata": {},
     "output_type": "display_data"
    }
   ],
   "source": [
    "sns.jointplot(x='rating',y='num of ratings',data=userrating,alpha=0.5)"
   ]
  },
  {
   "cell_type": "markdown",
   "metadata": {},
   "source": [
    "#### Filter out the users with less than 4 rating\n",
    "\n",
    "People have different tendencies to rate books. Some already give 10 to a mediocre book, while others do not give 10 unless it is the perfect book for them. Such tendencies can be seen in the figure below. On the right side there is a bump from users with a mean rating of 10, indicating that they really liked all books (or they only rated books they really like…). We can also see that there are nearly no notoriuous downvoters rating all books with a 1. Such tendencies are going to be important for collaborative filtering later, and are typically dealt with by subtracting the user’s mean rating from their ratings."
   ]
  },
  {
   "cell_type": "code",
   "execution_count": 22,
   "metadata": {},
   "outputs": [
    {
     "data": {
      "text/plain": [
       "<matplotlib.axes._subplots.AxesSubplot at 0x7fd0b6c980d0>"
      ]
     },
     "execution_count": 22,
     "metadata": {},
     "output_type": "execute_result"
    },
    {
     "data": {
      "image/png": "[encoded data removed]",
      "text/plain": [
       "<matplotlib.figure.Figure at 0x7fd0b58ecb50>"
      ]
     },
     "metadata": {},
     "output_type": "display_data"
    }
   ],
   "source": [
    "userrating[userrating['num of ratings']>3]['rating'].hist(bins=50)"
   ]
  },
  {
   "cell_type": "code",
   "execution_count": 23,
   "metadata": {},
   "outputs": [],
   "source": [
    "userrating['user_id']=userrating.index\n",
    "ur = userrating.merge(User, on='user_id')\n",
    "userrating.drop('rating',axis = 1, inplace=True)"
   ]
  },
  {
   "cell_type": "markdown",
   "metadata": {},
   "source": [
    "### Section II:\n",
    "### Prepare the data for the recommender system\n",
    "\n",
    "In this section. We further process the data in the following two steps:\n",
    "\n",
    "1. Filter out the users with less than 4 ratings in df dataframe\n",
    "2. Map the user id to [0, num_users) and book id to [0, num_books). So that the user id and book is can be directly used as indexes of Rating matrix. Where the rows represent different user and the columns represent different books. "
   ]
  },
  {
   "cell_type": "code",
   "execution_count": 24,
   "metadata": {},
   "outputs": [
    {
     "data": {
      "text/html": [
       "<div>\n",
       "<table border=\"1\" class=\"dataframe\">\n",
       "  <thead>\n",
       "    <tr style=\"text-align: right;\">\n",
       "      <th></th>\n",
       "      <th>book_id</th>\n",
       "      <th>implicit</th>\n",
       "      <th>rating</th>\n",
       "      <th>user_id</th>\n",
       "      <th>num of ratings</th>\n",
       "    </tr>\n",
       "  </thead>\n",
       "  <tbody>\n",
       "    <tr>\n",
       "      <th>0</th>\n",
       "      <td>0465037798</td>\n",
       "      <td>NaN</td>\n",
       "      <td>9</td>\n",
       "      <td>209394</td>\n",
       "      <td>2</td>\n",
       "    </tr>\n",
       "    <tr>\n",
       "      <th>1</th>\n",
       "      <td>0451204948</td>\n",
       "      <td>NaN</td>\n",
       "      <td>7</td>\n",
       "      <td>209394</td>\n",
       "      <td>2</td>\n",
       "    </tr>\n",
       "    <tr>\n",
       "      <th>2</th>\n",
       "      <td>0917053044</td>\n",
       "      <td>NaN</td>\n",
       "      <td>7</td>\n",
       "      <td>93047</td>\n",
       "      <td>107</td>\n",
       "    </tr>\n",
       "    <tr>\n",
       "      <th>3</th>\n",
       "      <td>031210491X</td>\n",
       "      <td>NaN</td>\n",
       "      <td>8</td>\n",
       "      <td>93047</td>\n",
       "      <td>107</td>\n",
       "    </tr>\n",
       "    <tr>\n",
       "      <th>4</th>\n",
       "      <td>1561632287</td>\n",
       "      <td>NaN</td>\n",
       "      <td>5</td>\n",
       "      <td>93047</td>\n",
       "      <td>107</td>\n",
       "    </tr>\n",
       "  </tbody>\n",
       "</table>\n",
       "</div>"
      ],
      "text/plain": [
       "      book_id  implicit  rating  user_id  num of ratings\n",
       "0  0465037798       NaN       9   209394               2\n",
       "1  0451204948       NaN       7   209394               2\n",
       "2  0917053044       NaN       7    93047             107\n",
       "3  031210491X       NaN       8    93047             107\n",
       "4  1561632287       NaN       5    93047             107"
      ]
     },
     "execution_count": 24,
     "metadata": {},
     "output_type": "execute_result"
    }
   ],
   "source": [
    "# From the histograms, we can see that more than 35,000 users in \n",
    "# total 68092 users only gives one rating \n",
    "df = df.merge(userrating, on = 'user_id')\n",
    "df.head()"
   ]
  },
  {
   "cell_type": "code",
   "execution_count": 25,
   "metadata": {},
   "outputs": [
    {
     "data": {
      "text/html": [
       "<div>\n",
       "<table border=\"1\" class=\"dataframe\">\n",
       "  <thead>\n",
       "    <tr style=\"text-align: right;\">\n",
       "      <th></th>\n",
       "      <th>book_id</th>\n",
       "      <th>implicit</th>\n",
       "      <th>rating</th>\n",
       "      <th>user_id</th>\n",
       "      <th>num of ratings</th>\n",
       "    </tr>\n",
       "  </thead>\n",
       "  <tbody>\n",
       "    <tr>\n",
       "      <th>2</th>\n",
       "      <td>0917053044</td>\n",
       "      <td>NaN</td>\n",
       "      <td>7</td>\n",
       "      <td>93047</td>\n",
       "      <td>107</td>\n",
       "    </tr>\n",
       "    <tr>\n",
       "      <th>3</th>\n",
       "      <td>031210491X</td>\n",
       "      <td>NaN</td>\n",
       "      <td>8</td>\n",
       "      <td>93047</td>\n",
       "      <td>107</td>\n",
       "    </tr>\n",
       "    <tr>\n",
       "      <th>4</th>\n",
       "      <td>1561632287</td>\n",
       "      <td>NaN</td>\n",
       "      <td>5</td>\n",
       "      <td>93047</td>\n",
       "      <td>107</td>\n",
       "    </tr>\n",
       "    <tr>\n",
       "      <th>5</th>\n",
       "      <td>0394579909</td>\n",
       "      <td>NaN</td>\n",
       "      <td>7</td>\n",
       "      <td>93047</td>\n",
       "      <td>107</td>\n",
       "    </tr>\n",
       "    <tr>\n",
       "      <th>6</th>\n",
       "      <td>0899541984</td>\n",
       "      <td>NaN</td>\n",
       "      <td>8</td>\n",
       "      <td>93047</td>\n",
       "      <td>107</td>\n",
       "    </tr>\n",
       "  </tbody>\n",
       "</table>\n",
       "</div>"
      ],
      "text/plain": [
       "      book_id  implicit  rating  user_id  num of ratings\n",
       "2  0917053044       NaN       7    93047             107\n",
       "3  031210491X       NaN       8    93047             107\n",
       "4  1561632287       NaN       5    93047             107\n",
       "5  0394579909       NaN       7    93047             107\n",
       "6  0899541984       NaN       8    93047             107"
      ]
     },
     "execution_count": 25,
     "metadata": {},
     "output_type": "execute_result"
    }
   ],
   "source": [
    "# We removed users who rated fewer than 4 books\n",
    "df = df[df['num of ratings']>3]\n",
    "df.head()"
   ]
  },
  {
   "cell_type": "markdown",
   "metadata": {
    "collapsed": true
   },
   "source": [
    "Print the number of books and number of users after filtering"
   ]
  },
  {
   "cell_type": "code",
   "execution_count": 26,
   "metadata": {},
   "outputs": [
    {
     "name": "stdout",
     "output_type": "stream",
     "text": [
      "Num. of Users: 4203\n",
      "Num of Books: 31181\n"
     ]
    }
   ],
   "source": [
    "# Get Number of Users and Number of Books in Filtered Data\n",
    "n_users = df.user_id.nunique()\n",
    "n_books = df.book_id.nunique()\n",
    "\n",
    "print('Num. of Users: ' + str(n_users))\n",
    "print('Num of Books: ' + str(n_books))"
   ]
  },
  {
   "cell_type": "markdown",
   "metadata": {},
   "source": [
    "##### Sparsity of rating  matrix\n",
    "\n",
    "The matrix has sparsity > 99%, so very sparse with most entries 0. We need be careful with this when we later do collaboritive filtering. "
   ]
  },
  {
   "cell_type": "code",
   "execution_count": 27,
   "metadata": {},
   "outputs": [
    {
     "name": "stdout",
     "output_type": "stream",
     "text": [
      "The sparsity level of BooksRecomender Dataset is 99.963%\n"
     ]
    }
   ],
   "source": [
    "# Calculate the sparsity for ratings of books dataset\n",
    "sparsity = round(1.0-len(df)/float(n_users*n_books), 5)\n",
    "print('The sparsity level of BooksRecomender Dataset is ' + str(sparsity*100) + '%')"
   ]
  },
  {
   "cell_type": "markdown",
   "metadata": {},
   "source": [
    "Map user id from 1 to n_users and map book_id from 1 to n_books"
   ]
  },
  {
   "cell_type": "code",
   "execution_count": 28,
   "metadata": {},
   "outputs": [],
   "source": [
    "# Map user_id from 1 to n_users\n",
    "user_index = pd.DataFrame(df['user_id'].unique(), columns=['user_id'])\n",
    "user_index.sort_values(by='user_id', axis=0, inplace= True)\n",
    "user_index.reset_index(drop=True, inplace=True)\n",
    "user_index['user_index']=user_index.index\n",
    "\n",
    "# Map book_id from 1 to n_books\n",
    "book_index = pd.DataFrame(df['book_id'].unique(), columns=['book_id'])\n",
    "book_index.sort_values(by='book_id', axis=0, inplace= True)\n",
    "book_index.reset_index(drop=True, inplace=True)\n",
    "book_index['book_index']=book_index.index"
   ]
  },
  {
   "cell_type": "markdown",
   "metadata": {},
   "source": [
    "Merge the user_id and book_id columns to df dataframe"
   ]
  },
  {
   "cell_type": "code",
   "execution_count": 29,
   "metadata": {},
   "outputs": [],
   "source": [
    "df = df.merge(user_index, on ='user_id')\n",
    "df = df.merge(book_index, on = 'book_id')"
   ]
  },
  {
   "cell_type": "markdown",
   "metadata": {
    "collapsed": true
   },
   "source": [
    "Print out the first 5 rows of df dataframe"
   ]
  },
  {
   "cell_type": "code",
   "execution_count": 30,
   "metadata": {},
   "outputs": [
    {
     "data": {
      "text/html": [
       "<div>\n",
       "<table border=\"1\" class=\"dataframe\">\n",
       "  <thead>\n",
       "    <tr style=\"text-align: right;\">\n",
       "      <th></th>\n",
       "      <th>book_id</th>\n",
       "      <th>implicit</th>\n",
       "      <th>rating</th>\n",
       "      <th>user_id</th>\n",
       "      <th>num of ratings</th>\n",
       "      <th>user_index</th>\n",
       "      <th>book_index</th>\n",
       "    </tr>\n",
       "  </thead>\n",
       "  <tbody>\n",
       "    <tr>\n",
       "      <th>0</th>\n",
       "      <td>0917053044</td>\n",
       "      <td>NaN</td>\n",
       "      <td>7</td>\n",
       "      <td>93047</td>\n",
       "      <td>107</td>\n",
       "      <td>1368</td>\n",
       "      <td>25822</td>\n",
       "    </tr>\n",
       "    <tr>\n",
       "      <th>1</th>\n",
       "      <td>031210491X</td>\n",
       "      <td>NaN</td>\n",
       "      <td>8</td>\n",
       "      <td>93047</td>\n",
       "      <td>107</td>\n",
       "      <td>1368</td>\n",
       "      <td>3731</td>\n",
       "    </tr>\n",
       "    <tr>\n",
       "      <th>2</th>\n",
       "      <td>1561632287</td>\n",
       "      <td>NaN</td>\n",
       "      <td>5</td>\n",
       "      <td>93047</td>\n",
       "      <td>107</td>\n",
       "      <td>1368</td>\n",
       "      <td>27218</td>\n",
       "    </tr>\n",
       "    <tr>\n",
       "      <th>3</th>\n",
       "      <td>0394579909</td>\n",
       "      <td>NaN</td>\n",
       "      <td>7</td>\n",
       "      <td>93047</td>\n",
       "      <td>107</td>\n",
       "      <td>1368</td>\n",
       "      <td>9387</td>\n",
       "    </tr>\n",
       "    <tr>\n",
       "      <th>4</th>\n",
       "      <td>0394579909</td>\n",
       "      <td>NaN</td>\n",
       "      <td>7</td>\n",
       "      <td>93047</td>\n",
       "      <td>107</td>\n",
       "      <td>1368</td>\n",
       "      <td>9387</td>\n",
       "    </tr>\n",
       "  </tbody>\n",
       "</table>\n",
       "</div>"
      ],
      "text/plain": [
       "      book_id  implicit  rating  user_id  num of ratings  user_index  \\\n",
       "0  0917053044       NaN       7    93047             107        1368   \n",
       "1  031210491X       NaN       8    93047             107        1368   \n",
       "2  1561632287       NaN       5    93047             107        1368   \n",
       "3  0394579909       NaN       7    93047             107        1368   \n",
       "4  0394579909       NaN       7    93047             107        1368   \n",
       "\n",
       "   book_index  \n",
       "0       25822  \n",
       "1        3731  \n",
       "2       27218  \n",
       "3        9387  \n",
       "4        9387  "
      ]
     },
     "execution_count": 30,
     "metadata": {},
     "output_type": "execute_result"
    }
   ],
   "source": [
    "df.head()"
   ]
  },
  {
   "cell_type": "markdown",
   "metadata": {},
   "source": [
    "##### Q5: What is the top 10 rated books with more than 50 reviews?\n",
    "\n",
    "Here we only show books with more than 50 views because a book is not necessarily good with a 10 rating if only 1 userrated it. \n",
    "\n",
    "It is very interesting that 5 of the top 10 books come from Harry Potter Series. So we may have the trend that if a user likes a series book, he/she may other likes other book in the same series."
   ]
  },
  {
   "cell_type": "code",
   "execution_count": 31,
   "metadata": {},
   "outputs": [
    {
     "data": {
      "text/html": [
       "<div>\n",
       "<table border=\"1\" class=\"dataframe\">\n",
       "  <thead>\n",
       "    <tr style=\"text-align: right;\">\n",
       "      <th></th>\n",
       "      <th>rating</th>\n",
       "      <th>num of ratings</th>\n",
       "      <th>book_id</th>\n",
       "      <th>author</th>\n",
       "      <th>publisher</th>\n",
       "      <th>year</th>\n",
       "    </tr>\n",
       "    <tr>\n",
       "      <th>title</th>\n",
       "      <th></th>\n",
       "      <th></th>\n",
       "      <th></th>\n",
       "      <th></th>\n",
       "      <th></th>\n",
       "      <th></th>\n",
       "    </tr>\n",
       "  </thead>\n",
       "  <tbody>\n",
       "    <tr>\n",
       "      <th>Harry Potter and the Prisoner of Azkaban (Book 3)</th>\n",
       "      <td>9.392857</td>\n",
       "      <td>28</td>\n",
       "      <td>0439136369</td>\n",
       "      <td>J. K. Rowling</td>\n",
       "      <td>Scholastic</td>\n",
       "      <td>2001</td>\n",
       "    </tr>\n",
       "    <tr>\n",
       "      <th>The Fellowship of the Ring (The Lord of the Rings, Part 1)</th>\n",
       "      <td>9.121212</td>\n",
       "      <td>33</td>\n",
       "      <td>0345339703</td>\n",
       "      <td>J.R.R. TOLKIEN</td>\n",
       "      <td>Del Rey</td>\n",
       "      <td>1986</td>\n",
       "    </tr>\n",
       "    <tr>\n",
       "      <th>Harry Potter and the Goblet of Fire (Book 4)</th>\n",
       "      <td>9.068966</td>\n",
       "      <td>29</td>\n",
       "      <td>0439139597</td>\n",
       "      <td>J. K. Rowling</td>\n",
       "      <td>Scholastic</td>\n",
       "      <td>2000</td>\n",
       "    </tr>\n",
       "    <tr>\n",
       "      <th>Harry Potter and the Prisoner of Azkaban (Book 3)</th>\n",
       "      <td>9.038462</td>\n",
       "      <td>26</td>\n",
       "      <td>0439136350</td>\n",
       "      <td>J. K. Rowling</td>\n",
       "      <td>Scholastic</td>\n",
       "      <td>1999</td>\n",
       "    </tr>\n",
       "    <tr>\n",
       "      <th>Tuesdays with Morrie: An Old Man, a Young Man, and Life's Greatest Lesson</th>\n",
       "      <td>8.975610</td>\n",
       "      <td>41</td>\n",
       "      <td>0385484518</td>\n",
       "      <td>MITCH ALBOM</td>\n",
       "      <td>Doubleday</td>\n",
       "      <td>1997</td>\n",
       "    </tr>\n",
       "    <tr>\n",
       "      <th>Harry Potter and the Sorcerer's Stone (Harry Potter (Paperback))</th>\n",
       "      <td>8.963636</td>\n",
       "      <td>55</td>\n",
       "      <td>059035342X</td>\n",
       "      <td>J. K. Rowling</td>\n",
       "      <td>Arthur A. Levine Books</td>\n",
       "      <td>1999</td>\n",
       "    </tr>\n",
       "    <tr>\n",
       "      <th>To Kill a Mockingbird</th>\n",
       "      <td>8.954545</td>\n",
       "      <td>44</td>\n",
       "      <td>0446310786</td>\n",
       "      <td>Harper Lee</td>\n",
       "      <td>Little Brown &amp;amp; Company</td>\n",
       "      <td>1988</td>\n",
       "    </tr>\n",
       "    <tr>\n",
       "      <th>Ender's Game (Ender Wiggins Saga (Paperback))</th>\n",
       "      <td>8.928571</td>\n",
       "      <td>28</td>\n",
       "      <td>0812550706</td>\n",
       "      <td>Orson Scott Card</td>\n",
       "      <td>Tor Books</td>\n",
       "      <td>1994</td>\n",
       "    </tr>\n",
       "    <tr>\n",
       "      <th>Harry Potter and the Chamber of Secrets (Book 2)</th>\n",
       "      <td>8.891892</td>\n",
       "      <td>37</td>\n",
       "      <td>0439064872</td>\n",
       "      <td>J. K. Rowling</td>\n",
       "      <td>Scholastic</td>\n",
       "      <td>2000</td>\n",
       "    </tr>\n",
       "    <tr>\n",
       "      <th>Harry Potter and the Chamber of Secrets (Book 2)</th>\n",
       "      <td>8.875000</td>\n",
       "      <td>24</td>\n",
       "      <td>0439064864</td>\n",
       "      <td>J. K. Rowling</td>\n",
       "      <td>Scholastic</td>\n",
       "      <td>1999</td>\n",
       "    </tr>\n",
       "  </tbody>\n",
       "</table>\n",
       "</div>"
      ],
      "text/plain": [
       "                                                      rating  num of ratings  \\\n",
       "title                                                                          \n",
       "Harry Potter and the Prisoner of Azkaban (Book 3)   9.392857              28   \n",
       "The Fellowship of the Ring (The Lord of the Rin...  9.121212              33   \n",
       "Harry Potter and the Goblet of Fire (Book 4)        9.068966              29   \n",
       "Harry Potter and the Prisoner of Azkaban (Book 3)   9.038462              26   \n",
       "Tuesdays with Morrie: An Old Man, a Young Man, ...  8.975610              41   \n",
       "Harry Potter and the Sorcerer's Stone (Harry Po...  8.963636              55   \n",
       "To Kill a Mockingbird                               8.954545              44   \n",
       "Ender's Game (Ender Wiggins Saga (Paperback))       8.928571              28   \n",
       "Harry Potter and the Chamber of Secrets (Book 2)    8.891892              37   \n",
       "Harry Potter and the Chamber of Secrets (Book 2)    8.875000              24   \n",
       "\n",
       "                                                       book_id  \\\n",
       "title                                                            \n",
       "Harry Potter and the Prisoner of Azkaban (Book 3)   0439136369   \n",
       "The Fellowship of the Ring (The Lord of the Rin...  0345339703   \n",
       "Harry Potter and the Goblet of Fire (Book 4)        0439139597   \n",
       "Harry Potter and the Prisoner of Azkaban (Book 3)   0439136350   \n",
       "Tuesdays with Morrie: An Old Man, a Young Man, ...  0385484518   \n",
       "Harry Potter and the Sorcerer's Stone (Harry Po...  059035342X   \n",
       "To Kill a Mockingbird                               0446310786   \n",
       "Ender's Game (Ender Wiggins Saga (Paperback))       0812550706   \n",
       "Harry Potter and the Chamber of Secrets (Book 2)    0439064872   \n",
       "Harry Potter and the Chamber of Secrets (Book 2)    0439064864   \n",
       "\n",
       "                                                              author  \\\n",
       "title                                                                  \n",
       "Harry Potter and the Prisoner of Azkaban (Book 3)      J. K. Rowling   \n",
       "The Fellowship of the Ring (The Lord of the Rin...    J.R.R. TOLKIEN   \n",
       "Harry Potter and the Goblet of Fire (Book 4)           J. K. Rowling   \n",
       "Harry Potter and the Prisoner of Azkaban (Book 3)      J. K. Rowling   \n",
       "Tuesdays with Morrie: An Old Man, a Young Man, ...       MITCH ALBOM   \n",
       "Harry Potter and the Sorcerer's Stone (Harry Po...     J. K. Rowling   \n",
       "To Kill a Mockingbird                                     Harper Lee   \n",
       "Ender's Game (Ender Wiggins Saga (Paperback))       Orson Scott Card   \n",
       "Harry Potter and the Chamber of Secrets (Book 2)       J. K. Rowling   \n",
       "Harry Potter and the Chamber of Secrets (Book 2)       J. K. Rowling   \n",
       "\n",
       "                                                                     publisher  \\\n",
       "title                                                                            \n",
       "Harry Potter and the Prisoner of Azkaban (Book 3)                   Scholastic   \n",
       "The Fellowship of the Ring (The Lord of the Rin...                     Del Rey   \n",
       "Harry Potter and the Goblet of Fire (Book 4)                        Scholastic   \n",
       "Harry Potter and the Prisoner of Azkaban (Book 3)                   Scholastic   \n",
       "Tuesdays with Morrie: An Old Man, a Young Man, ...                   Doubleday   \n",
       "Harry Potter and the Sorcerer's Stone (Harry Po...      Arthur A. Levine Books   \n",
       "To Kill a Mockingbird                               Little Brown &amp; Company   \n",
       "Ender's Game (Ender Wiggins Saga (Paperback))                        Tor Books   \n",
       "Harry Potter and the Chamber of Secrets (Book 2)                    Scholastic   \n",
       "Harry Potter and the Chamber of Secrets (Book 2)                    Scholastic   \n",
       "\n",
       "                                                    year  \n",
       "title                                                     \n",
       "Harry Potter and the Prisoner of Azkaban (Book 3)   2001  \n",
       "The Fellowship of the Ring (The Lord of the Rin...  1986  \n",
       "Harry Potter and the Goblet of Fire (Book 4)        2000  \n",
       "Harry Potter and the Prisoner of Azkaban (Book 3)   1999  \n",
       "Tuesdays with Morrie: An Old Man, a Young Man, ...  1997  \n",
       "Harry Potter and the Sorcerer's Stone (Harry Po...  1999  \n",
       "To Kill a Mockingbird                               1988  \n",
       "Ender's Game (Ender Wiggins Saga (Paperback))       1994  \n",
       "Harry Potter and the Chamber of Secrets (Book 2)    2000  \n",
       "Harry Potter and the Chamber of Secrets (Book 2)    1999  "
      ]
     },
     "execution_count": 31,
     "metadata": {},
     "output_type": "execute_result"
    }
   ],
   "source": [
    "# Get the top 10 rated books with more than 50 reviews\n",
    "ratings['book_id'] = ratings.index\n",
    "book_ratings = ratings.merge(Books, on='book_id').set_index('title')\n",
    "book_ratings[book_ratings['num of ratings']>20].sort_values('rating', ascending=False).head(10)"
   ]
  },
  {
   "cell_type": "markdown",
   "metadata": {},
   "source": [
    "##### Q6: What are the most popular books?\n",
    "\n",
    "We showed top 10 books that received most ratings. "
   ]
  },
  {
   "cell_type": "code",
   "execution_count": 32,
   "metadata": {},
   "outputs": [
    {
     "data": {
      "text/html": [
       "<div>\n",
       "<table border=\"1\" class=\"dataframe\">\n",
       "  <thead>\n",
       "    <tr style=\"text-align: right;\">\n",
       "      <th></th>\n",
       "      <th>rating</th>\n",
       "      <th>num of ratings</th>\n",
       "      <th>book_id</th>\n",
       "      <th>author</th>\n",
       "      <th>publisher</th>\n",
       "      <th>year</th>\n",
       "    </tr>\n",
       "    <tr>\n",
       "      <th>title</th>\n",
       "      <th></th>\n",
       "      <th></th>\n",
       "      <th></th>\n",
       "      <th></th>\n",
       "      <th></th>\n",
       "      <th></th>\n",
       "    </tr>\n",
       "  </thead>\n",
       "  <tbody>\n",
       "    <tr>\n",
       "      <th>The Lovely Bones: A Novel</th>\n",
       "      <td>8.164286</td>\n",
       "      <td>140</td>\n",
       "      <td>0316666343</td>\n",
       "      <td>Alice Sebold</td>\n",
       "      <td>Little, Brown</td>\n",
       "      <td>2002</td>\n",
       "    </tr>\n",
       "    <tr>\n",
       "      <th>Wild Animus</th>\n",
       "      <td>4.449153</td>\n",
       "      <td>118</td>\n",
       "      <td>0971880107</td>\n",
       "      <td>Rich Shapero</td>\n",
       "      <td>Too Far</td>\n",
       "      <td>2004</td>\n",
       "    </tr>\n",
       "    <tr>\n",
       "      <th>The Da Vinci Code</th>\n",
       "      <td>8.598131</td>\n",
       "      <td>107</td>\n",
       "      <td>0385504209</td>\n",
       "      <td>Dan Brown</td>\n",
       "      <td>Doubleday</td>\n",
       "      <td>2003</td>\n",
       "    </tr>\n",
       "    <tr>\n",
       "      <th>The Red Tent (Bestselling Backlist)</th>\n",
       "      <td>8.291139</td>\n",
       "      <td>79</td>\n",
       "      <td>0312195516</td>\n",
       "      <td>Anita Diamant</td>\n",
       "      <td>Picador USA</td>\n",
       "      <td>1998</td>\n",
       "    </tr>\n",
       "    <tr>\n",
       "      <th>Divine Secrets of the Ya-Ya Sisterhood: A Novel</th>\n",
       "      <td>8.059701</td>\n",
       "      <td>67</td>\n",
       "      <td>0060928336</td>\n",
       "      <td>Rebecca Wells</td>\n",
       "      <td>Perennial</td>\n",
       "      <td>1997</td>\n",
       "    </tr>\n",
       "    <tr>\n",
       "      <th>Life of Pi</th>\n",
       "      <td>7.881356</td>\n",
       "      <td>59</td>\n",
       "      <td>0156027321</td>\n",
       "      <td>Yann Martel</td>\n",
       "      <td>Harvest Books</td>\n",
       "      <td>2003</td>\n",
       "    </tr>\n",
       "    <tr>\n",
       "      <th>The Secret Life of Bees</th>\n",
       "      <td>8.457627</td>\n",
       "      <td>59</td>\n",
       "      <td>0142001740</td>\n",
       "      <td>Sue Monk Kidd</td>\n",
       "      <td>Penguin Books</td>\n",
       "      <td>2003</td>\n",
       "    </tr>\n",
       "    <tr>\n",
       "      <th>Where the Heart Is (Oprah's Book Club (Paperback))</th>\n",
       "      <td>8.305085</td>\n",
       "      <td>59</td>\n",
       "      <td>0446672211</td>\n",
       "      <td>Billie Letts</td>\n",
       "      <td>Warner Books</td>\n",
       "      <td>1998</td>\n",
       "    </tr>\n",
       "    <tr>\n",
       "      <th>Harry Potter and the Sorcerer's Stone (Harry Potter (Paperback))</th>\n",
       "      <td>8.963636</td>\n",
       "      <td>55</td>\n",
       "      <td>059035342X</td>\n",
       "      <td>J. K. Rowling</td>\n",
       "      <td>Arthur A. Levine Books</td>\n",
       "      <td>1999</td>\n",
       "    </tr>\n",
       "    <tr>\n",
       "      <th>The Pilot's Wife : A Novel</th>\n",
       "      <td>7.272727</td>\n",
       "      <td>55</td>\n",
       "      <td>0316601950</td>\n",
       "      <td>Anita Shreve</td>\n",
       "      <td>Back Bay Books</td>\n",
       "      <td>1999</td>\n",
       "    </tr>\n",
       "  </tbody>\n",
       "</table>\n",
       "</div>"
      ],
      "text/plain": [
       "                                                      rating  num of ratings  \\\n",
       "title                                                                          \n",
       "The Lovely Bones: A Novel                           8.164286             140   \n",
       "Wild Animus                                         4.449153             118   \n",
       "The Da Vinci Code                                   8.598131             107   \n",
       "The Red Tent (Bestselling Backlist)                 8.291139              79   \n",
       "Divine Secrets of the Ya-Ya Sisterhood: A Novel     8.059701              67   \n",
       "Life of Pi                                          7.881356              59   \n",
       "The Secret Life of Bees                             8.457627              59   \n",
       "Where the Heart Is (Oprah's Book Club (Paperback))  8.305085              59   \n",
       "Harry Potter and the Sorcerer's Stone (Harry Po...  8.963636              55   \n",
       "The Pilot's Wife : A Novel                          7.272727              55   \n",
       "\n",
       "                                                       book_id         author  \\\n",
       "title                                                                           \n",
       "The Lovely Bones: A Novel                           0316666343   Alice Sebold   \n",
       "Wild Animus                                         0971880107   Rich Shapero   \n",
       "The Da Vinci Code                                   0385504209      Dan Brown   \n",
       "The Red Tent (Bestselling Backlist)                 0312195516  Anita Diamant   \n",
       "Divine Secrets of the Ya-Ya Sisterhood: A Novel     0060928336  Rebecca Wells   \n",
       "Life of Pi                                          0156027321    Yann Martel   \n",
       "The Secret Life of Bees                             0142001740  Sue Monk Kidd   \n",
       "Where the Heart Is (Oprah's Book Club (Paperback))  0446672211   Billie Letts   \n",
       "Harry Potter and the Sorcerer's Stone (Harry Po...  059035342X  J. K. Rowling   \n",
       "The Pilot's Wife : A Novel                          0316601950   Anita Shreve   \n",
       "\n",
       "                                                                 publisher  \\\n",
       "title                                                                        \n",
       "The Lovely Bones: A Novel                                    Little, Brown   \n",
       "Wild Animus                                                        Too Far   \n",
       "The Da Vinci Code                                                Doubleday   \n",
       "The Red Tent (Bestselling Backlist)                            Picador USA   \n",
       "Divine Secrets of the Ya-Ya Sisterhood: A Novel                  Perennial   \n",
       "Life of Pi                                                   Harvest Books   \n",
       "The Secret Life of Bees                                      Penguin Books   \n",
       "Where the Heart Is (Oprah's Book Club (Paperback))            Warner Books   \n",
       "Harry Potter and the Sorcerer's Stone (Harry Po...  Arthur A. Levine Books   \n",
       "The Pilot's Wife : A Novel                                  Back Bay Books   \n",
       "\n",
       "                                                    year  \n",
       "title                                                     \n",
       "The Lovely Bones: A Novel                           2002  \n",
       "Wild Animus                                         2004  \n",
       "The Da Vinci Code                                   2003  \n",
       "The Red Tent (Bestselling Backlist)                 1998  \n",
       "Divine Secrets of the Ya-Ya Sisterhood: A Novel     1997  \n",
       "Life of Pi                                          2003  \n",
       "The Secret Life of Bees                             2003  \n",
       "Where the Heart Is (Oprah's Book Club (Paperback))  1998  \n",
       "Harry Potter and the Sorcerer's Stone (Harry Po...  1999  \n",
       "The Pilot's Wife : A Novel                          1999  "
      ]
     },
     "execution_count": 32,
     "metadata": {},
     "output_type": "execute_result"
    }
   ],
   "source": [
    "# Get the top 10 popular books\n",
    "book_ratings.sort_values('num of ratings', ascending=False).head(10)"
   ]
  },
  {
   "cell_type": "markdown",
   "metadata": {},
   "source": [
    "##### Q7: Is there any correlation between number of ratings and the rating of books?\n",
    "\n",
    "Next, we can see, whether we can find any associations of features with a book’s rating. "
   ]
  },
  {
   "cell_type": "code",
   "execution_count": 33,
   "metadata": {},
   "outputs": [
    {
     "name": "stdout",
     "output_type": "stream",
     "text": [
      "The correlation between number of ratings and average rating of books is: 0.0211111023082\n"
     ]
    }
   ],
   "source": [
    "# Is there any correlation between number of ratings \n",
    "# and the rating of books\n",
    "m = np.corrcoef(x=book_ratings['rating'], y=book_ratings['num of ratings'])\n",
    "print('The correlation between number of ratings and average rating of books is: ' + str(m[0,1]))"
   ]
  },
  {
   "cell_type": "markdown",
   "metadata": {},
   "source": [
    "##### Q8: Any relation between book title and ratings?"
   ]
  },
  {
   "cell_type": "code",
   "execution_count": 35,
   "metadata": {},
   "outputs": [],
   "source": [
    "book_ratings = Books.merge(ratings, on='book_id');\n",
    "book_ratings['num of authors'] = Books.merge(ratings, on='book_id')['author'].apply(lambda x: len(x.split(';')))"
   ]
  },
  {
   "cell_type": "code",
   "execution_count": 36,
   "metadata": {},
   "outputs": [
    {
     "data": {
      "text/html": [
       "<div>\n",
       "<table border=\"1\" class=\"dataframe\">\n",
       "  <thead>\n",
       "    <tr style=\"text-align: right;\">\n",
       "      <th></th>\n",
       "      <th>rating</th>\n",
       "    </tr>\n",
       "    <tr>\n",
       "      <th>num of authors</th>\n",
       "      <th></th>\n",
       "    </tr>\n",
       "  </thead>\n",
       "  <tbody>\n",
       "    <tr>\n",
       "      <th>1</th>\n",
       "      <td>7.562590</td>\n",
       "    </tr>\n",
       "    <tr>\n",
       "      <th>2</th>\n",
       "      <td>6.825758</td>\n",
       "    </tr>\n",
       "  </tbody>\n",
       "</table>\n",
       "</div>"
      ],
      "text/plain": [
       "                  rating\n",
       "num of authors          \n",
       "1               7.562590\n",
       "2               6.825758"
      ]
     },
     "execution_count": 36,
     "metadata": {},
     "output_type": "execute_result"
    }
   ],
   "source": [
    "book_ratings[['num of authors', 'rating']].groupby(['num of authors']).mean()"
   ]
  },
  {
   "cell_type": "code",
   "execution_count": 37,
   "metadata": {},
   "outputs": [],
   "source": [
    "book_ratings['num of chars in title'] = Books.merge(ratings, on='book_id')['title'].apply(lambda x: len(x.replace(\" \", \"\")))\n"
   ]
  },
  {
   "cell_type": "code",
   "execution_count": 98,
   "metadata": {},
   "outputs": [
    {
     "data": {
      "text/plain": [
       "<matplotlib.axes._subplots.AxesSubplot at 0x7f3a0ca0eb50>"
      ]
     },
     "execution_count": 98,
     "metadata": {},
     "output_type": "execute_result"
    },
    {
     "data": {
      "image/png": "[encoded data removed]",
      "text/plain": [
       "<matplotlib.figure.Figure at 0x7f3a1ecb5a90>"
      ]
     },
     "metadata": {},
     "output_type": "display_data"
    }
   ],
   "source": [
    "df2=book_ratings[['num of chars in title', 'rating']].groupby(['num of chars in title']).mean().reset_index()\n",
    "sns.regplot(x = 'num of chars in title', y ='rating', data = df2)"
   ]
  },
  {
   "cell_type": "code",
   "execution_count": 91,
   "metadata": {},
   "outputs": [
    {
     "data": {
      "text/plain": [
       "<matplotlib.axes._subplots.AxesSubplot at 0x7f3a1ecb1990>"
      ]
     },
     "execution_count": 91,
     "metadata": {},
     "output_type": "execute_result"
    },
    {
     "data": {
      "image/png": "[encoded data removed]",
      "text/plain": [
       "<matplotlib.figure.Figure at 0x7f3a20a27dd0>"
      ]
     },
     "metadata": {},
     "output_type": "display_data"
    }
   ],
   "source": [
    "df1=book_ratings[['num of words in title', 'rating']].groupby(['num of words in title']).mean().reset_index()\n",
    "sns.regplot(x = 'num of words in title', y ='rating', data = df1)"
   ]
  },
  {
   "cell_type": "markdown",
   "metadata": {},
   "source": [
    "##### Q9: Does the rating depend on users' age?"
   ]
  },
  {
   "cell_type": "code",
   "execution_count": 87,
   "metadata": {},
   "outputs": [],
   "source": [
    "book_ratings['num of words in title'] = Books.merge(ratings, on='book_id')['title'].apply(lambda x: len(x.split(\" \")))"
   ]
  },
  {
   "cell_type": "code",
   "execution_count": 34,
   "metadata": {},
   "outputs": [
    {
     "data": {
      "text/plain": [
       "<seaborn.axisgrid.JointGrid at 0x7f39ff77ccd0>"
      ]
     },
     "execution_count": 34,
     "metadata": {},
     "output_type": "execute_result"
    },
    {
     "data": {
      "image/png": "[encoded data removed]",
      "text/plain": [
       "<matplotlib.figure.Figure at 0x7f39ff77cf50>"
      ]
     },
     "metadata": {},
     "output_type": "display_data"
    }
   ],
   "source": [
    "sns.jointplot(x = 'age', y='num of ratings', data=ur)"
   ]
  },
  {
   "cell_type": "code",
   "execution_count": 182,
   "metadata": {},
   "outputs": [
    {
     "data": {
      "text/plain": [
       "<seaborn.axisgrid.JointGrid at 0x7f55b7e99f10>"
      ]
     },
     "execution_count": 182,
     "metadata": {},
     "output_type": "execute_result"
    },
    {
     "data": {
      "image/png": "[encoded data removed]",
      "text/plain": [
       "<matplotlib.figure.Figure at 0x7f55b7e99090>"
      ]
     },
     "metadata": {},
     "output_type": "display_data"
    }
   ],
   "source": [
    "sns.jointplot(x = 'age', y='rating', data=ur)"
   ]
  },
  {
   "cell_type": "markdown",
   "metadata": {},
   "source": [
    "We found that the number of ratings of does not affect the rating of books\n",
    "Hopefully other factors we don't have explicitly are affecting the ratings\n",
    "i.e. the quality of the book.\n",
    "\n",
    "\n",
    "#### Section Summary: \n",
    "\n",
    "In this section, We identified some interesting aspects of this book datasets. In summary, observed effects on book rating are rather small, suggesting that book rating is mainly driven by other aspects, hopefully including the quality of the book itself.\n"
   ]
  },
  {
   "cell_type": "markdown",
   "metadata": {},
   "source": [
    "### Section III:\n",
    "### Recommender System: Collaborative filtering\n",
    "\n",
    "Collaboritve filtering is a standard method for product recommendations. We implemented two kinds of collorarive filtering: **Memory-based** CF and **Model-based CF**. The main idea of thse two CF are explained below.\n",
    "\n",
    "1. **Memory-based CF:** Memory-Based CF approaches can be divided into two main sections: **user-item filtering** and **item-item filtering**. \n",
    "2. **Model-based CF:** Model-based CF is based on matrix factorization, which works better with scalability and sparsity than Memory-based CF.\n"
   ]
  },
  {
   "cell_type": "markdown",
   "metadata": {},
   "source": [
    "##### Construct the Rating matrix \n",
    "\n",
    "I construct a rating matrix from the dataframe df. A sample user-book rating will look like \n",
    "\n",
    "<img class=\"aligncenter size-thumbnail img-responsive\" src=\"http://s33.postimg.org/ay0ty90fj/BLOG_CCA_8.png\" alt=\"blog8\"/>\n",
    "\n",
    "\n",
    "Then I split this matrix entries to two matrices: train data matrix and test data matrix. The training matrix contains 75% of the ratings and the testing matrix contains 25% of the ratings"
   ]
  },
  {
   "cell_type": "code",
   "execution_count": 34,
   "metadata": {
    "collapsed": true
   },
   "outputs": [],
   "source": [
    "# A model-based Collaborative Filtering system\n",
    "# Train Test split\n",
    "from sklearn.model_selection import train_test_split\n",
    "train_data, test_data = train_test_split(df, test_size=0.25)\n",
    "\n",
    "#Create two user-item matrices, one for training and another for testing\n",
    "train_data_matrix = np.zeros((n_users, n_books))\n",
    "for line in train_data.itertuples():\n",
    "    train_data_matrix[line[6], line[7]] = line[3]  \n",
    "    \n",
    "test_data_matrix = np.zeros((n_users, n_books))\n",
    "for line in test_data.itertuples():\n",
    "    test_data_matrix[line[6], line[7]] = line[3]"
   ]
  },
  {
   "cell_type": "markdown",
   "metadata": {
    "collapsed": true
   },
   "source": [
    "#### Memory-based CF:\n",
    "A *user-item filtering* will take a particular user, find users that are similar to that user based on similarity of ratings, and recommend items that those similar users liked. \n",
    "\n",
    "In contrast, *item-item filtering* will take an item, find users who liked that item, and find other items that those users or similar users also liked. It takes items and outputs other items as recommendations. \n",
    "\n",
    "* *Item-Item Collaborative Filtering*: “Users who liked this item also liked …”\n",
    "* *User-Item Collaborative Filtering*: “Users who are similar to you also liked …”\n",
    "\n",
    "We can bulid similarity matrix using *cosine similarity*, where the ratings are seen as vectors in ``n``-dimensional space and the similarity is calculated based on the angle between these vectors. \n",
    "Cosine similiarity for users *a* and *m* can be calculated using the formula below, where you take dot product of  the user vector *$u_k$* and the user vector *$u_a$* and divide it by multiplication of the Euclidean lengths of the vectors.\n",
    "<img class=\"aligncenter size-thumbnail img-responsive\" src=\"https://latex.codecogs.com/gif.latex?s_u^{cos}(u_k,u_a)=\\frac{u_k&space;\\cdot&space;u_a&space;}{&space;\\left&space;\\|&space;u_k&space;\\right&space;\\|&space;\\left&space;\\|&space;u_a&space;\\right&space;\\|&space;}&space;=\\frac{\\sum&space;x_{k,m}x_{a,m}}{\\sqrt{\\sum&space;x_{k,m}^2\\sum&space;x_{a,m}^2}}\"/>\n",
    "\n",
    "To calculate similarity between items *m* and *b* you use the formula:\n",
    "\n",
    "<img class=\"aligncenter size-thumbnail img-responsive\" src=\"https://latex.codecogs.com/gif.latex?s_u^{cos}(i_m,i_b)=\\frac{i_m&space;\\cdot&space;i_b&space;}{&space;\\left&space;\\|&space;i_m&space;\\right&space;\\|&space;\\left&space;\\|&space;i_b&space;\\right&space;\\|&space;}&space;=\\frac{\\sum&space;x_{a,m}x_{a,b}}{\\sqrt{\\sum&space;x_{a,m}^2\\sum&space;x_{a,b}^2}}\n",
    "\"/>\n",
    "\n",
    "Then we make predictions based on other using ratings together with their similairity:\n",
    "<img class=\"aligncenter size-thumbnail img-responsive\" src=\"https://latex.codecogs.com/gif.latex?\\hat{x}_{k,m}&space;=&space;\\bar{x}_{k}&space;&plus;&space;\\frac{\\sum\\limits_{u_a}&space;sim_u(u_k,&space;u_a)&space;(x_{a,m}&space;-&space;\\bar{x_{u_a}})}{\\sum\\limits_{u_a}|sim_u(u_k,&space;u_a)|}\"/>\n",
    "The idea here is that some users may tend always to give high or low ratings to all books. The relative difference in the ratings that these users give is more important than the absolute values. To give an example: suppose, user *k* gives 8 to his favourite books and 6 to all other good books. Suppose now that another user *t* rates books that he/she likes with 10, and the books he/she fell asleep over with 5. These two users could have a very similar taste but treat the rating system differently. \n",
    "\n",
    "When making a prediction for item-based CF we don't need to correct for users average rating since query user itself is used to do predictions.\n",
    "\n",
    "<img class=\"aligncenter size-thumbnail img-responsive\" src=\"https://latex.codecogs.com/gif.latex?\\hat{x}_{k,m}&space;=&space;\\frac{\\sum\\limits_{i_b}&space;sim_i(i_m,&space;i_b)&space;(x_{k,b})&space;}{\\sum\\limits_{i_b}|sim_i(i_m,&space;i_b)|}\"/>"
   ]
  },
  {
   "cell_type": "code",
   "execution_count": 35,
   "metadata": {},
   "outputs": [],
   "source": [
    "from scipy import spatial\n",
    "from sklearn.metrics.pairwise import cosine_similarity\n",
    "user_similarity = cosine_similarity(train_data_matrix)\n",
    "item_similarity = cosine_similarity(train_data_matrix.T)"
   ]
  },
  {
   "cell_type": "code",
   "execution_count": 39,
   "metadata": {
    "collapsed": true
   },
   "outputs": [],
   "source": [
    "from sklearn.metrics import mean_squared_error\n",
    "from math import sqrt\n",
    "def rmse(prediction, ground_truth):\n",
    "    prediction = prediction[ground_truth.nonzero()].flatten() \n",
    "    ground_truth = ground_truth[ground_truth.nonzero()].flatten()\n",
    "    return sqrt(mean_squared_error(prediction, ground_truth))"
   ]
  },
  {
   "cell_type": "code",
   "execution_count": 36,
   "metadata": {
    "collapsed": true
   },
   "outputs": [],
   "source": [
    "def predict(ratings, similarity, type='user'):\n",
    "    if type == 'user':\n",
    "        np.fill_diagonal(similarity,0)\n",
    "        index = np.where(similarity.any(axis=1))\n",
    "        mean_user_rating = ratings.mean(axis=1)\n",
    "        #You use np.newaxis so that mean_user_rating has same format as ratings\n",
    "        ratings_diff = (ratings - mean_user_rating[:, np.newaxis]) \n",
    "        pred = mean_user_rating[:,np.newaxis] + similarity.dot(ratings_diff) / np.array([np.abs(similarity).sum(axis=1)]).T\n",
    "        np.nan_to_num(pred,copy=False)\n",
    "    elif type == 'item':\n",
    "        np.fill_diagonal(similarity,0)\n",
    "        index = np.where(similarity.any(axis=1))\n",
    "        pred = ratings.dot(similarity) / np.array([np.abs(similarity).sum(axis=1)])\n",
    "        np.nan_to_num(pred, copy=False)\n",
    "    return pred"
   ]
  },
  {
   "cell_type": "code",
   "execution_count": 40,
   "metadata": {
    "collapsed": true
   },
   "outputs": [],
   "source": [
    "import warnings\n",
    "warnings.filterwarnings(\"ignore\")"
   ]
  },
  {
   "cell_type": "code",
   "execution_count": 41,
   "metadata": {},
   "outputs": [
    {
     "name": "stdout",
     "output_type": "stream",
     "text": [
      "User-based CF RMSE: 7.84492645405784\n"
     ]
    }
   ],
   "source": [
    "user_prediction = predict(train_data_matrix, user_similarity, type='user')\n",
    "print('User-based CF RMSE: ' + str(rmse(user_prediction, test_data_matrix)))"
   ]
  },
  {
   "cell_type": "code",
   "execution_count": 42,
   "metadata": {},
   "outputs": [
    {
     "name": "stdout",
     "output_type": "stream",
     "text": [
      "Item-based CF RMSE: 7.488658120701748\n"
     ]
    }
   ],
   "source": [
    "item_prediction = predict(train_data_matrix, item_similarity, type='item')\n",
    "print('Item-based CF RMSE: ' + str(rmse(item_prediction, test_data_matrix)))"
   ]
  },
  {
   "attachments": {
    "image.png": {
     "image/png": "[encoded data removed]"
    }
   },
   "cell_type": "markdown",
   "metadata": {},
   "source": [
    "#### Model-based CF:\n",
    "\n",
    "Model-based Collaborative Filtering is based on **matrix factorization (MF)** which has received greater exposure, mainly as an unsupervised learning method for latent variable decomposition and dimensionality reduction. Matrix factorization is widely used for recommender systems where it can deal better with scalability and sparsity than Memory-based CF. The goal of MF is to learn the latent preferences of users and the latent attributes of items from known ratings (learn features that describe the characteristics of ratings) to then predict the unknown ratings through the dot product of the latent features of users and items. \n",
    "![image.png](attachment:image.png)\n",
    "When we have a very sparse matrix, with a lot of dimensions, by doing matrix factorization I can restructure the  user-item matrix into low-rank structure, and you can represent the matrix by the multiplication of two low-rank matrices, where the rows contain the latent vector. You fit this matrix to approximate your original matrix, as closely as possible, by multiplying the low-rank matrices together, which fills in the entries missing in the original matrix."
   ]
  },
  {
   "cell_type": "code",
   "execution_count": 252,
   "metadata": {},
   "outputs": [
    {
     "name": "stdout",
     "output_type": "stream",
     "text": [
      "Model-based CF RMSE: 7.848888519548369\n"
     ]
    }
   ],
   "source": [
    "import scipy.sparse as sp\n",
    "from scipy.sparse.linalg import svds\n",
    "\n",
    "#get SVD components from train matrix. Choose k.\n",
    "u, s, vt = svds(train_data_matrix, k = 50)\n",
    "s_diag_matrix=np.diag(s)\n",
    "model_prediction = np.dot(np.dot(u, s_diag_matrix), vt)\n",
    "print('Model-based CF RMSE: ' + str(rmse(model_prediction, test_data_matrix)))"
   ]
  },
  {
   "attachments": {
    "image.png": {
     "image/png": "[encoded data removed]"
    }
   },
   "cell_type": "markdown",
   "metadata": {},
   "source": [
    "#### Model-based CF with l2 regularization\n",
    "\n",
    "To avoid overfitting, we define the loss function to be\n",
    "![image.png](attachment:image.png)\n",
    "\n",
    "I need to minimize the RMSE together with regularization on u and v. I use the following algorithm:\n",
    "\n",
    "1. Randomly initialize ui and vj\n",
    "2. Minimize the loss function treating u and v as constant vectors\n",
    "3. Iterate over 1 and 2 untill both u and v are converged. "
   ]
  },
  {
   "cell_type": "code",
   "execution_count": 232,
   "metadata": {
    "collapsed": true
   },
   "outputs": [],
   "source": [
    "def MLF(R, d, Lambda):\n",
    "    row, col= R.shape\n",
    "    U =  np.random.rand(row, d)\n",
    "    V = np.random.rand(d, col)        \n",
    "    Rnew = R.copy()\n",
    "    for i in range(300):\n",
    "        current = np.dot(U, V)\n",
    "        U=updateU(Rnew,V,Lambda)\n",
    "        V=updateV(Rnew,U,Lambda)\n",
    "    out = np.dot(U,V)\n",
    "    prediction = out\n",
    "    return prediction\n",
    "def updateU(R,V,Lambda):\n",
    "    U = np.linalg.solve(np.dot(V, V.T)+Lambda*np.eye(len(V)), np.dot(V, R.T))        \n",
    "    return U.T\n",
    "def updateV(R,U,Lambda):\n",
    "    V = np.linalg.solve(np.dot(U.T,U)+Lambda*np.eye(len(U[0])), np.dot(U.T, R))\n",
    "    return V"
   ]
  },
  {
   "cell_type": "code",
   "execution_count": 251,
   "metadata": {},
   "outputs": [],
   "source": [
    "model_r_prediction = MLF(train_data_matrix, 50, 0.001)"
   ]
  },
  {
   "cell_type": "code",
   "execution_count": 253,
   "metadata": {},
   "outputs": [
    {
     "name": "stdout",
     "output_type": "stream",
     "text": [
      "Model-based CF with l2 regularization RMSE: 7.84902261289416\n"
     ]
    }
   ],
   "source": [
    "print('Model-based CF with l2 regularization RMSE: ' + str(rmse(model_r_prediction, test_data_matrix)))"
   ]
  },
  {
   "cell_type": "markdown",
   "metadata": {},
   "source": [
    "#### An example of predictions:\n",
    "\n",
    "For user with user_id 0, we print out the predictions of top 10 books to user 0. "
   ]
  },
  {
   "cell_type": "code",
   "execution_count": 123,
   "metadata": {},
   "outputs": [],
   "source": [
    "value, count = np.unique(test_data_matrix.nonzero()[0], return_counts=True)"
   ]
  },
  {
   "cell_type": "code",
   "execution_count": 275,
   "metadata": {},
   "outputs": [
    {
     "name": "stdout",
     "output_type": "stream",
     "text": [
      "Top 10 recommendations for user227\n"
     ]
    }
   ],
   "source": [
    "userid = value[count==18][1]\n",
    "print('Top 10 recommendations for user' + str(userid))"
   ]
  },
  {
   "cell_type": "code",
   "execution_count": 276,
   "metadata": {},
   "outputs": [
    {
     "name": "stdout",
     "output_type": "stream",
     "text": [
      "Top 10 from test matrix are: \n",
      "[20109  9734  8171  5066 19129 10297 15086 10391  9037 11661]\n"
     ]
    }
   ],
   "source": [
    "print('Top 10 from test matrix are: \\n' + str(np.argsort(test_data_matrix[userid,:])[::-1][0:10]))"
   ]
  },
  {
   "cell_type": "code",
   "execution_count": 277,
   "metadata": {},
   "outputs": [
    {
     "name": "stdout",
     "output_type": "stream",
     "text": [
      "Top 10 from user-based CF are: \n",
      "[ 5206 19286 11172   116 19422  5322 19088  9305   175 11661]\n"
     ]
    }
   ],
   "source": [
    "print('Top 10 from user-based CF are: \\n' + str(np.argsort(user_prediction[userid,:])[::-1][0:10]))"
   ]
  },
  {
   "cell_type": "code",
   "execution_count": 278,
   "metadata": {},
   "outputs": [
    {
     "name": "stdout",
     "output_type": "stream",
     "text": [
      "Top 10 from model-based CF are: \n",
      "[ 5206 19286  4809 19422  7785  9960  1478 17983  5567  9893]\n"
     ]
    }
   ],
   "source": [
    "print('Top 10 from model-based CF are: \\n' + str(np.argsort(model_prediction[userid,:])[::-1][0:10]))"
   ]
  },
  {
   "cell_type": "code",
   "execution_count": 279,
   "metadata": {},
   "outputs": [
    {
     "name": "stdout",
     "output_type": "stream",
     "text": [
      "Top 10 from model-based CF with regularization are: \n",
      "[ 5206 12340 11172  4315 19286 19422 17419 13932  4786 13342]\n"
     ]
    }
   ],
   "source": [
    "print('Top 10 from model-based CF with regularization are: \\n' + str(np.argsort(model_r_prediction[userid,:])[::-1][0:10]))"
   ]
  },
  {
   "cell_type": "code",
   "execution_count": 280,
   "metadata": {},
   "outputs": [
    {
     "name": "stdout",
     "output_type": "stream",
     "text": [
      "Top 10 from item-based CF are: \n",
      "[  175 17198 28926 12116 26202 25125 20167 24877 11919 25615]\n"
     ]
    }
   ],
   "source": [
    "print('Top 10 from item-based CF are: \\n' + str(np.argsort(item_prediction[userid,:])[::-1][0:10]))"
   ]
  },
  {
   "cell_type": "code",
   "execution_count": 281,
   "metadata": {},
   "outputs": [
    {
     "name": "stdout",
     "output_type": "stream",
     "text": [
      "Top 10 from train matrix are: \n",
      "[18457  5206 28073 24915 18300 10164  8140 18163 14434 19422]\n"
     ]
    }
   ],
   "source": [
    "print('Top 10 from train matrix are: \\n' + str(np.argsort(train_data_matrix[userid,:])[::-1][0:10]))"
   ]
  },
  {
   "cell_type": "markdown",
   "metadata": {
    "collapsed": true
   },
   "source": [
    "### Conclusions:\n",
    "\n",
    "Although the item-based CF gives relatively low RMSE, actually user-based CF and model-based CF gives similar and better predictions. Due to the nature of recommender systems, it is hard to quantify the prediction error. \n",
    "\n",
    "Discussion on sparsity: the rating matrix we are dealing with is very sparse, which will result in zero rows in the user-similarity and item-similarity matrces. Thus we are not able to recommend correctly books for this users, which is essentially recommending randomly. So one advantage of model based regularization is the ability to handle very sparse matrix."
   ]
  },
  {
   "cell_type": "markdown",
   "metadata": {
    "collapsed": true
   },
   "source": [
    "#### Future Work:\n",
    "\n",
    "One reason that these recommendations being not accurate would be the fact that more data (user-item) ratings are needed. So we should further proceed on running the same recommender system on the whole dataset on AWS. \n",
    "\n",
    "Also, we should combine the recommendations from different method, which may give a better recommendation (similar item as random forest).\n"
   ]
  }
 ],
 "metadata": {
  "kernelspec": {
   "display_name": "Python 3",
   "language": "python",
   "name": "python3"
  },
  "language_info": {
   "codemirror_mode": {
    "name": "ipython",
    "version": 2
   },
   "file_extension": ".py",
   "mimetype": "text/x-python",
   "name": "python",
   "nbconvert_exporter": "python",
   "pygments_lexer": "ipython2",
   "version": "2.7.12"
  }
 },
 "nbformat": 4,
 "nbformat_minor": 2
}
