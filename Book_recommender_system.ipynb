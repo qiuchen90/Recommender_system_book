{
 "cells": [
  {
   "cell_type": "markdown",
   "metadata": {},
   "source": [
    "# Recommender System with Book Rating Data\n",
    "\n",
    "In this notebook, we focuses on visualizing the book rating data, as well as prepare the data for a recommender system based on collaborative filtering. This notebook is split into three parts:\n",
    "\n",
    "**Section I:** explores the dataset to find interesting patterns <br />\n",
    "**Section II:** prepare the dataset for collaborative filtering <br />\n",
    "**Section III:** introduce and demonstrate collaborative filtering"
   ]
  },
  {
   "cell_type": "markdown",
   "metadata": {},
   "source": [
    "### Section I:   \n",
    "### Data Visualization and Exploratory Analysis"
   ]
  },
  {
   "cell_type": "markdown",
   "metadata": {},
   "source": [
    "#### Load library\n",
    "We start by loading some libraries"
   ]
  },
  {
   "cell_type": "code",
   "execution_count": 111,
   "metadata": {
    "collapsed": true
   },
   "outputs": [],
   "source": [
    "import numpy as np\n",
    "import pandas as pd\n",
    "import seaborn as sns\n",
    "import matplotlib.pyplot as plt\n",
    "%matplotlib inline"
   ]
  },
  {
   "cell_type": "code",
   "execution_count": 112,
   "metadata": {
    "collapsed": true
   },
   "outputs": [],
   "source": [
    "import json\n",
    "from pandas.io.json import json_normalize"
   ]
  },
  {
   "cell_type": "markdown",
   "metadata": {},
   "source": [
    "#### Read data\n",
    "\n",
    "We read three datafiles as dataframes. Where\n",
    "\n",
    "*'BX-CSV-Dump/book-crossing_users.json'* has the user information <br />\n",
    "*'BX-CSV-Dump/book-crossing_books.json'* has the book information <br />\n",
    "*'BX-CSV-Dump/book-crossing_explicit_ratings.json'* has the users' ratings on books <br />\n",
    "\n",
    "The describtions of the dataset can be found [Here](http://www2.informatik.uni-freiburg.de/~cziegler/BX/)"
   ]
  },
  {
   "cell_type": "code",
   "execution_count": 113,
   "metadata": {
    "collapsed": true
   },
   "outputs": [],
   "source": [
    "# Import Users file as dataframe\n",
    "with open('BX-CSV-Dump/book-crossing_users.json') as data_file:\n",
    "    data = data_file.readlines()\n",
    "# remove the trailing \"\\n\" from each line\n",
    "data = map(lambda x: x.rstrip(), data)\n",
    "\n",
    "# each element of 'data' is an individual JSON object.\n",
    "# i want to convert it into an *array* of JSON objects\n",
    "# which, in and of itself, is one large JSON object\n",
    "# basically... add square brackets to the beginning\n",
    "# and end, and have all the individual business JSON objects\n",
    "# separated by a comma\n",
    "data_json_str = \"[\" + ','.join(data) + \"]\"\n",
    "\n",
    "# now, load it into pandas\n",
    "User = pd.read_json(data_json_str)"
   ]
  },
  {
   "cell_type": "code",
   "execution_count": 114,
   "metadata": {
    "collapsed": true
   },
   "outputs": [],
   "source": [
    "# Import Books file as dataframe\n",
    "with open('BX-CSV-Dump/book-crossing_books.json') as data_file:\n",
    "        data = data_file.readlines()\n",
    "# remove the trailing \"\\n\" from each line\n",
    "data = map(lambda x: x.rstrip(), data)\n",
    "\n",
    "# each element of 'data' is an individual JSON object.\n",
    "# i want to convert it into an *array* of JSON objects\n",
    "# which, in and of itself, is one large JSON object\n",
    "# basically... add square brackets to the beginning\n",
    "# and end, and have all the individual business JSON objects\n",
    "# separated by a comma\n",
    "data_json_str = \"[\" + ','.join(data) + \"]\"\n",
    "\n",
    "# now, load it into pandas\n",
    "Books = pd.read_json(data_json_str)"
   ]
  },
  {
   "cell_type": "code",
   "execution_count": 115,
   "metadata": {
    "collapsed": true
   },
   "outputs": [],
   "source": [
    "# Import Ratings file as dataframe\n",
    "# Note that duplicate entries of ratings have already been removed\n",
    "# Also users who do not rate at least one book has been removed\n",
    "# Books not receiving as least one review have been removed from rating matrix\n",
    "# Only Explicit Ratings are loaded and analysed\n",
    "with open('BX-CSV-Dump/book-crossing_explicit_ratings.json') as data_file:\n",
    "        data = data_file.readlines()\n",
    "# remove the trailing \"\\n\" from each line\n",
    "data = map(lambda x: x.rstrip(), data)\n",
    "\n",
    "# each element of 'data' is an individual JSON object.\n",
    "# i want to convert it into an *array* of JSON objects\n",
    "# which, in and of itself, is one large JSON object\n",
    "# basically... add square brackets to the beginning\n",
    "# and end, and have all the individual business JSON objects\n",
    "# separated by a comma\n",
    "data_json_str = \"[\" + ','.join(data) + \"]\"\n",
    "\n",
    "# now, load it into pandas\n",
    "df = pd.read_json(data_json_str)"
   ]
  },
  {
   "cell_type": "markdown",
   "metadata": {},
   "source": [
    "#### Have a look at the dataset\n",
    "\n",
    "First, let's have a look at the dataset. Dataframe **df** contains users' ratings of books (a total of 383852 ratings, for 149842 books, from 68092 users). <br />\n",
    "\n",
    "While dataframe **Books** contains more information on the books such as title, autor, year and publisher. \n",
    "\n",
    "The dataframe **User** has other user information, such as location and age <br />\n",
    "\n",
    "Here we print out heads of ratings, Books, and User dataframe "
   ]
  },
  {
   "cell_type": "code",
   "execution_count": 116,
   "metadata": {},
   "outputs": [
    {
     "data": {
      "text/html": [
       "<div>\n",
       "<style>\n",
       "    .dataframe thead tr:only-child th {\n",
       "        text-align: right;\n",
       "    }\n",
       "\n",
       "    .dataframe thead th {\n",
       "        text-align: left;\n",
       "    }\n",
       "\n",
       "    .dataframe tbody tr th {\n",
       "        vertical-align: top;\n",
       "    }\n",
       "</style>\n",
       "<table border=\"1\" class=\"dataframe\">\n",
       "  <thead>\n",
       "    <tr style=\"text-align: right;\">\n",
       "      <th></th>\n",
       "      <th>book_id</th>\n",
       "      <th>implicit</th>\n",
       "      <th>rating</th>\n",
       "      <th>user_id</th>\n",
       "    </tr>\n",
       "  </thead>\n",
       "  <tbody>\n",
       "    <tr>\n",
       "      <th>0</th>\n",
       "      <td>0155061224</td>\n",
       "      <td>NaN</td>\n",
       "      <td>5</td>\n",
       "      <td>276726</td>\n",
       "    </tr>\n",
       "    <tr>\n",
       "      <th>1</th>\n",
       "      <td>052165615X</td>\n",
       "      <td>NaN</td>\n",
       "      <td>3</td>\n",
       "      <td>276729</td>\n",
       "    </tr>\n",
       "    <tr>\n",
       "      <th>2</th>\n",
       "      <td>0521795028</td>\n",
       "      <td>NaN</td>\n",
       "      <td>6</td>\n",
       "      <td>276729</td>\n",
       "    </tr>\n",
       "    <tr>\n",
       "      <th>3</th>\n",
       "      <td>038550120X</td>\n",
       "      <td>NaN</td>\n",
       "      <td>7</td>\n",
       "      <td>276744</td>\n",
       "    </tr>\n",
       "    <tr>\n",
       "      <th>4</th>\n",
       "      <td>0060517794</td>\n",
       "      <td>NaN</td>\n",
       "      <td>9</td>\n",
       "      <td>276747</td>\n",
       "    </tr>\n",
       "  </tbody>\n",
       "</table>\n",
       "</div>"
      ],
      "text/plain": [
       "      book_id  implicit  rating  user_id\n",
       "0  0155061224       NaN       5   276726\n",
       "1  052165615X       NaN       3   276729\n",
       "2  0521795028       NaN       6   276729\n",
       "3  038550120X       NaN       7   276744\n",
       "4  0060517794       NaN       9   276747"
      ]
     },
     "execution_count": 116,
     "metadata": {},
     "output_type": "execute_result"
    }
   ],
   "source": [
    "df.head()"
   ]
  },
  {
   "cell_type": "code",
   "execution_count": 117,
   "metadata": {},
   "outputs": [
    {
     "name": "stdout",
     "output_type": "stream",
     "text": [
      "<class 'pandas.core.frame.DataFrame'>\n",
      "RangeIndex: 383852 entries, 0 to 383851\n",
      "Data columns (total 4 columns):\n",
      "book_id     383852 non-null object\n",
      "implicit    0 non-null float64\n",
      "rating      383852 non-null int64\n",
      "user_id     383852 non-null int64\n",
      "dtypes: float64(1), int64(2), object(1)\n",
      "memory usage: 11.7+ MB\n",
      "None\n"
     ]
    }
   ],
   "source": [
    "print(df.info())"
   ]
  },
  {
   "cell_type": "markdown",
   "metadata": {},
   "source": [
    "##### Number of books and number of users"
   ]
  },
  {
   "cell_type": "code",
   "execution_count": 118,
   "metadata": {},
   "outputs": [
    {
     "name": "stdout",
     "output_type": "stream",
     "text": [
      "Num. of Users: 68092\n",
      "Num of Books: 149842\n"
     ]
    }
   ],
   "source": [
    "# Get Number of Users and Number of Books\n",
    "n_users = df.user_id.nunique()\n",
    "n_books = df.book_id.nunique()\n",
    "\n",
    "print('Num. of Users: ' + str(n_users))\n",
    "print('Num of Books: ' + str(n_books))"
   ]
  },
  {
   "cell_type": "markdown",
   "metadata": {},
   "source": [
    "##### Books and User dataframe"
   ]
  },
  {
   "cell_type": "code",
   "execution_count": 119,
   "metadata": {},
   "outputs": [
    {
     "data": {
      "text/html": [
       "<div>\n",
       "<style>\n",
       "    .dataframe thead tr:only-child th {\n",
       "        text-align: right;\n",
       "    }\n",
       "\n",
       "    .dataframe thead th {\n",
       "        text-align: left;\n",
       "    }\n",
       "\n",
       "    .dataframe tbody tr th {\n",
       "        vertical-align: top;\n",
       "    }\n",
       "</style>\n",
       "<table border=\"1\" class=\"dataframe\">\n",
       "  <thead>\n",
       "    <tr style=\"text-align: right;\">\n",
       "      <th></th>\n",
       "      <th>author</th>\n",
       "      <th>book_id</th>\n",
       "      <th>publisher</th>\n",
       "      <th>title</th>\n",
       "      <th>year</th>\n",
       "    </tr>\n",
       "  </thead>\n",
       "  <tbody>\n",
       "    <tr>\n",
       "      <th>0</th>\n",
       "      <td>Mark P. O. Morford</td>\n",
       "      <td>0195153448</td>\n",
       "      <td>Oxford University Press</td>\n",
       "      <td>Classical Mythology</td>\n",
       "      <td>2002</td>\n",
       "    </tr>\n",
       "    <tr>\n",
       "      <th>1</th>\n",
       "      <td>Richard Bruce Wright</td>\n",
       "      <td>0002005018</td>\n",
       "      <td>HarperFlamingo Canada</td>\n",
       "      <td>Clara Callan</td>\n",
       "      <td>2001</td>\n",
       "    </tr>\n",
       "    <tr>\n",
       "      <th>2</th>\n",
       "      <td>Carlo D'Este</td>\n",
       "      <td>0060973129</td>\n",
       "      <td>HarperPerennial</td>\n",
       "      <td>Decision in Normandy</td>\n",
       "      <td>1991</td>\n",
       "    </tr>\n",
       "    <tr>\n",
       "      <th>3</th>\n",
       "      <td>Gina Bari Kolata</td>\n",
       "      <td>0374157065</td>\n",
       "      <td>Farrar Straus Giroux</td>\n",
       "      <td>Flu: The Story of the Great Influenza Pandemic...</td>\n",
       "      <td>1999</td>\n",
       "    </tr>\n",
       "    <tr>\n",
       "      <th>4</th>\n",
       "      <td>E. J. W. Barber</td>\n",
       "      <td>0393045218</td>\n",
       "      <td>W. W. Norton &amp;amp; Company</td>\n",
       "      <td>The Mummies of Urumchi</td>\n",
       "      <td>1999</td>\n",
       "    </tr>\n",
       "  </tbody>\n",
       "</table>\n",
       "</div>"
      ],
      "text/plain": [
       "                 author     book_id                   publisher  \\\n",
       "0    Mark P. O. Morford  0195153448     Oxford University Press   \n",
       "1  Richard Bruce Wright  0002005018       HarperFlamingo Canada   \n",
       "2          Carlo D'Este  0060973129             HarperPerennial   \n",
       "3      Gina Bari Kolata  0374157065        Farrar Straus Giroux   \n",
       "4       E. J. W. Barber  0393045218  W. W. Norton &amp; Company   \n",
       "\n",
       "                                               title  year  \n",
       "0                                Classical Mythology  2002  \n",
       "1                                       Clara Callan  2001  \n",
       "2                               Decision in Normandy  1991  \n",
       "3  Flu: The Story of the Great Influenza Pandemic...  1999  \n",
       "4                             The Mummies of Urumchi  1999  "
      ]
     },
     "execution_count": 119,
     "metadata": {},
     "output_type": "execute_result"
    }
   ],
   "source": [
    "Books.head()"
   ]
  },
  {
   "cell_type": "code",
   "execution_count": 120,
   "metadata": {},
   "outputs": [
    {
     "data": {
      "text/html": [
       "<div>\n",
       "<style>\n",
       "    .dataframe thead tr:only-child th {\n",
       "        text-align: right;\n",
       "    }\n",
       "\n",
       "    .dataframe thead th {\n",
       "        text-align: left;\n",
       "    }\n",
       "\n",
       "    .dataframe tbody tr th {\n",
       "        vertical-align: top;\n",
       "    }\n",
       "</style>\n",
       "<table border=\"1\" class=\"dataframe\">\n",
       "  <thead>\n",
       "    <tr style=\"text-align: right;\">\n",
       "      <th></th>\n",
       "      <th>age</th>\n",
       "      <th>location</th>\n",
       "      <th>user_id</th>\n",
       "    </tr>\n",
       "  </thead>\n",
       "  <tbody>\n",
       "    <tr>\n",
       "      <th>0</th>\n",
       "      <td>18.0</td>\n",
       "      <td>stockton, california, usa</td>\n",
       "      <td>2</td>\n",
       "    </tr>\n",
       "    <tr>\n",
       "      <th>1</th>\n",
       "      <td>NaN</td>\n",
       "      <td>timmins, ontario, canada</td>\n",
       "      <td>8</td>\n",
       "    </tr>\n",
       "    <tr>\n",
       "      <th>2</th>\n",
       "      <td>NaN</td>\n",
       "      <td>germantown, tennessee, usa</td>\n",
       "      <td>9</td>\n",
       "    </tr>\n",
       "    <tr>\n",
       "      <th>3</th>\n",
       "      <td>26.0</td>\n",
       "      <td>albacete, wisconsin, spain</td>\n",
       "      <td>10</td>\n",
       "    </tr>\n",
       "    <tr>\n",
       "      <th>4</th>\n",
       "      <td>NaN</td>\n",
       "      <td>fort bragg, california, usa</td>\n",
       "      <td>12</td>\n",
       "    </tr>\n",
       "  </tbody>\n",
       "</table>\n",
       "</div>"
      ],
      "text/plain": [
       "    age                     location  user_id\n",
       "0  18.0    stockton, california, usa        2\n",
       "1   NaN     timmins, ontario, canada        8\n",
       "2   NaN   germantown, tennessee, usa        9\n",
       "3  26.0   albacete, wisconsin, spain       10\n",
       "4   NaN  fort bragg, california, usa       12"
      ]
     },
     "execution_count": 120,
     "metadata": {},
     "output_type": "execute_result"
    }
   ],
   "source": [
    "User.head()"
   ]
  },
  {
   "cell_type": "markdown",
   "metadata": {},
   "source": [
    "#### Select a subset of ratings\n",
    "\n",
    "To reduce calculation times in this kernel, I select only a subset of ratings. (e.g., 20%) Now the subset has **24128 Users** and **43280 Books**"
   ]
  },
  {
   "cell_type": "code",
   "execution_count": 121,
   "metadata": {},
   "outputs": [],
   "source": [
    "fraction = 0.2\n",
    "size = User['user_id'].count()\n",
    "index = np.random.randint(0, size, int(size*fraction))\n",
    "User = User.iloc[index]"
   ]
  },
  {
   "cell_type": "code",
   "execution_count": 123,
   "metadata": {},
   "outputs": [
    {
     "name": "stdout",
     "output_type": "stream",
     "text": [
      "<class 'pandas.core.frame.DataFrame'>\n",
      "Int64Index: 77859 entries, 0 to 77858\n",
      "Data columns (total 6 columns):\n",
      "book_id     77859 non-null object\n",
      "implicit    0 non-null float64\n",
      "rating      77859 non-null int64\n",
      "user_id     77859 non-null int64\n",
      "age         54385 non-null float64\n",
      "location    77859 non-null object\n",
      "dtypes: float64(2), int64(2), object(2)\n",
      "memory usage: 4.2+ MB\n"
     ]
    }
   ],
   "source": [
    "df = df.merge(User)\n",
    "df.info()"
   ]
  },
  {
   "cell_type": "code",
   "execution_count": 124,
   "metadata": {},
   "outputs": [
    {
     "name": "stdout",
     "output_type": "stream",
     "text": [
      "Num. of Users: 12330\n",
      "Num of Books: 44518\n"
     ]
    }
   ],
   "source": [
    "# Get Number of Users and Number of Books\n",
    "n_users = df.user_id.nunique()\n",
    "n_books = df.book_id.nunique()\n",
    "\n",
    "print('Num. of Users: ' + str(n_users))\n",
    "print('Num of Books: ' + str(n_books))"
   ]
  },
  {
   "cell_type": "markdown",
   "metadata": {},
   "source": [
    "#### Now let's start exploring the dataset by visualize them!\n",
    "\n",
    "##### Q1: What is the distribution of ratings?\n",
    "\n",
    "We see that most of the ratings are quite positive in 6-9 range. We also observed that there are several peaks at rating score 5, 6, 7, 8, 9, 10. This is simply because many of the books only receive one rating, and its rating is an integer. So we have so many ratings that are integers instead of a mean value of many ratings."
   ]
  },
  {
   "cell_type": "code",
   "execution_count": 125,
   "metadata": {},
   "outputs": [
    {
     "data": {
      "text/html": [
       "<div>\n",
       "<style>\n",
       "    .dataframe thead tr:only-child th {\n",
       "        text-align: right;\n",
       "    }\n",
       "\n",
       "    .dataframe thead th {\n",
       "        text-align: left;\n",
       "    }\n",
       "\n",
       "    .dataframe tbody tr th {\n",
       "        vertical-align: top;\n",
       "    }\n",
       "</style>\n",
       "<table border=\"1\" class=\"dataframe\">\n",
       "  <thead>\n",
       "    <tr style=\"text-align: right;\">\n",
       "      <th></th>\n",
       "      <th>rating</th>\n",
       "      <th>num of ratings</th>\n",
       "    </tr>\n",
       "    <tr>\n",
       "      <th>book_id</th>\n",
       "      <th></th>\n",
       "      <th></th>\n",
       "    </tr>\n",
       "  </thead>\n",
       "  <tbody>\n",
       "    <tr>\n",
       "      <th>0001046438</th>\n",
       "      <td>9.0</td>\n",
       "      <td>1</td>\n",
       "    </tr>\n",
       "    <tr>\n",
       "      <th>000104687X</th>\n",
       "      <td>6.0</td>\n",
       "      <td>1</td>\n",
       "    </tr>\n",
       "    <tr>\n",
       "      <th>0001047213</th>\n",
       "      <td>9.0</td>\n",
       "      <td>1</td>\n",
       "    </tr>\n",
       "    <tr>\n",
       "      <th>0001047973</th>\n",
       "      <td>9.0</td>\n",
       "      <td>1</td>\n",
       "    </tr>\n",
       "    <tr>\n",
       "      <th>0001048082</th>\n",
       "      <td>8.0</td>\n",
       "      <td>1</td>\n",
       "    </tr>\n",
       "  </tbody>\n",
       "</table>\n",
       "</div>"
      ],
      "text/plain": [
       "            rating  num of ratings\n",
       "book_id                           \n",
       "0001046438     9.0               1\n",
       "000104687X     6.0               1\n",
       "0001047213     9.0               1\n",
       "0001047973     9.0               1\n",
       "0001048082     8.0               1"
      ]
     },
     "execution_count": 125,
     "metadata": {},
     "output_type": "execute_result"
    }
   ],
   "source": [
    "# Group the books and their ratings in the dataframe ratings\n",
    "sns.set_style('white')\n",
    "ratings = pd.DataFrame(df.groupby('book_id')['rating'].mean())\n",
    "ratings['num of ratings'] = pd.DataFrame(df.groupby('book_id')['rating'].count())\n",
    "ratings.head()"
   ]
  },
  {
   "cell_type": "code",
   "execution_count": 126,
   "metadata": {},
   "outputs": [
    {
     "data": {
      "image/png": "[encoded data removed]",
      "text/plain": [
       "<matplotlib.figure.Figure at 0x1d19e6e80b8>"
      ]
     },
     "metadata": {},
     "output_type": "display_data"
    }
   ],
   "source": [
    "plt.figure(figsize=(10,4))\n",
    "ratings['rating'].hist(bins=50)\n",
    "plt.xlabel('Rating')\n",
    "plt.ylabel('Count')\n",
    "plt.show()"
   ]
  },
  {
   "cell_type": "markdown",
   "metadata": {},
   "source": [
    "##### Q2: How does the number of ratings per book distribute?\n",
    "\n",
    "We can see that most of the books only receive one rating. This makes sence because many books receive only one rating. "
   ]
  },
  {
   "cell_type": "code",
   "execution_count": 127,
   "metadata": {},
   "outputs": [
    {
     "data": {
      "image/png": "[encoded data removed]",
      "text/plain": [
       "<matplotlib.figure.Figure at 0x1d19e6ebd68>"
      ]
     },
     "metadata": {},
     "output_type": "display_data"
    }
   ],
   "source": [
    "plt.figure(figsize=(10,4))\n",
    "ratings['num of ratings'].hist(bins=100)\n",
    "plt.xlabel('Number of ratings')\n",
    "plt.ylabel('Count')\n",
    "plt.show()"
   ]
  },
  {
   "cell_type": "markdown",
   "metadata": {},
   "source": [
    "A jointplot shows how ratings and num of ratings distribute"
   ]
  },
  {
   "cell_type": "code",
   "execution_count": 128,
   "metadata": {},
   "outputs": [
    {
     "data": {
      "text/plain": [
       "<seaborn.axisgrid.JointGrid at 0x1d19f9b1f28>"
      ]
     },
     "execution_count": 128,
     "metadata": {},
     "output_type": "execute_result"
    },
    {
     "data": {
      "image/png": "[encoded data removed]",
      "text/plain": [
       "<matplotlib.figure.Figure at 0x1d19b6fe710>"
      ]
     },
     "metadata": {},
     "output_type": "display_data"
    }
   ],
   "source": [
    "sns.set_style('darkgrid')\n",
    "sns.set_palette('coolwarm')\n",
    "sns.jointplot(x='rating',y='num of ratings',data=ratings, alpha=0.5, xlim = (0,11), ylim = (0, 800))"
   ]
  },
  {
   "cell_type": "markdown",
   "metadata": {},
   "source": [
    "#### Q3: What is the number of ratings per user?\n",
    "\n",
    "Most of the users only give one rating. The number of ratings per user seems to exponentially decaying. The users who only rate 1 or 2 books do not provide much information on recommending. So I will filter out these users have less than 3 ratings later."
   ]
  },
  {
   "cell_type": "code",
   "execution_count": 129,
   "metadata": {},
   "outputs": [
    {
     "data": {
      "text/html": [
       "<div>\n",
       "<style>\n",
       "    .dataframe thead tr:only-child th {\n",
       "        text-align: right;\n",
       "    }\n",
       "\n",
       "    .dataframe thead th {\n",
       "        text-align: left;\n",
       "    }\n",
       "\n",
       "    .dataframe tbody tr th {\n",
       "        vertical-align: top;\n",
       "    }\n",
       "</style>\n",
       "<table border=\"1\" class=\"dataframe\">\n",
       "  <thead>\n",
       "    <tr style=\"text-align: right;\">\n",
       "      <th></th>\n",
       "      <th>num of ratings</th>\n",
       "      <th>rating</th>\n",
       "    </tr>\n",
       "    <tr>\n",
       "      <th>user_id</th>\n",
       "      <th></th>\n",
       "      <th></th>\n",
       "    </tr>\n",
       "  </thead>\n",
       "  <tbody>\n",
       "    <tr>\n",
       "      <th>8</th>\n",
       "      <td>7</td>\n",
       "      <td>5.571429</td>\n",
       "    </tr>\n",
       "    <tr>\n",
       "      <th>12</th>\n",
       "      <td>1</td>\n",
       "      <td>10.000000</td>\n",
       "    </tr>\n",
       "    <tr>\n",
       "      <th>67</th>\n",
       "      <td>1</td>\n",
       "      <td>7.000000</td>\n",
       "    </tr>\n",
       "    <tr>\n",
       "      <th>102</th>\n",
       "      <td>1</td>\n",
       "      <td>7.000000</td>\n",
       "    </tr>\n",
       "    <tr>\n",
       "      <th>107</th>\n",
       "      <td>1</td>\n",
       "      <td>8.000000</td>\n",
       "    </tr>\n",
       "  </tbody>\n",
       "</table>\n",
       "</div>"
      ],
      "text/plain": [
       "         num of ratings     rating\n",
       "user_id                           \n",
       "8                     7   5.571429\n",
       "12                    1  10.000000\n",
       "67                    1   7.000000\n",
       "102                   1   7.000000\n",
       "107                   1   8.000000"
      ]
     },
     "execution_count": 129,
     "metadata": {},
     "output_type": "execute_result"
    }
   ],
   "source": [
    "userrating = pd.DataFrame(columns=['num of ratings'])\n",
    "userrating['rating'] = df.groupby('user_id')['rating'].mean()\n",
    "userrating['num of ratings'] = df.groupby('user_id')['rating'].count()\n",
    "userrating.head()"
   ]
  },
  {
   "cell_type": "code",
   "execution_count": 130,
   "metadata": {},
   "outputs": [
    {
     "name": "stdout",
     "output_type": "stream",
     "text": [
      "The maximum number of ratings from one user is: 1180\n",
      "The minimum number of ratings from one user is: 1\n"
     ]
    },
    {
     "data": {
      "image/png": "[encoded data removed]",
      "text/plain": [
       "<matplotlib.figure.Figure at 0x1d1a04e1ba8>"
      ]
     },
     "metadata": {},
     "output_type": "display_data"
    }
   ],
   "source": [
    "nummax = userrating['num of ratings'].max()\n",
    "nummin = userrating['num of ratings'].min()\n",
    "print('The maximum number of ratings from one user is: ' + str(nummax))\n",
    "print('The minimum number of ratings from one user is: ' + str(nummin))\n",
    "# Visualize users and their ratings\n",
    "# Plot the count of number of ratings from all users\n",
    "f, (ax1, ax2) = plt.subplots(ncols=2, figsize=(10,4))\n",
    "ax1.set_xlabel('Number of ratings')\n",
    "ax1.set_ylabel('Count')\n",
    "hist1 = ax1.hist(x = userrating['num of ratings'], bins =100)\n",
    "ax2.set_xlabel('Number of ratings')\n",
    "ax2.set_ylabel('Count')\n",
    "hist2 = ax2.hist(x = userrating['num of ratings'], bins =100, range=(0,20))"
   ]
  },
  {
   "cell_type": "markdown",
   "metadata": {
    "collapsed": true
   },
   "source": [
    "#### Q4: Distribution of mean user ratings\n",
    "Most of the ratings fall between 6 to 9. Still there are peaks at ratings = integer because there are many users who only give one rating. "
   ]
  },
  {
   "cell_type": "code",
   "execution_count": 131,
   "metadata": {},
   "outputs": [
    {
     "data": {
      "text/plain": [
       "<matplotlib.axes._subplots.AxesSubplot at 0x1d1a042db00>"
      ]
     },
     "execution_count": 131,
     "metadata": {},
     "output_type": "execute_result"
    },
    {
     "data": {
      "image/png": "[encoded data removed]",
      "text/plain": [
       "<matplotlib.figure.Figure at 0x1d1a09add30>"
      ]
     },
     "metadata": {},
     "output_type": "display_data"
    }
   ],
   "source": [
    "# Visualize the count of ratings from all users.\n",
    "# It makes sence that there are several peaks which is probably from the many users \n",
    "# that only give one rating. \n",
    "plt.figure(figsize=(10,4))\n",
    "plt.xlabel('Meab User Rating')\n",
    "plt.ylabel('Count')\n",
    "userrating['rating'].hist(bins=50)"
   ]
  },
  {
   "cell_type": "code",
   "execution_count": 132,
   "metadata": {},
   "outputs": [
    {
     "data": {
      "text/plain": [
       "<seaborn.axisgrid.JointGrid at 0x1d19e6e89e8>"
      ]
     },
     "execution_count": 132,
     "metadata": {},
     "output_type": "execute_result"
    },
    {
     "data": {
      "image/png": "[encoded data removed]",
      "text/plain": [
       "<matplotlib.figure.Figure at 0x1d19e6e8978>"
      ]
     },
     "metadata": {},
     "output_type": "display_data"
    }
   ],
   "source": [
    "sns.jointplot(x='rating',y='num of ratings',data=userrating,alpha=0.5)"
   ]
  },
  {
   "cell_type": "markdown",
   "metadata": {},
   "source": [
    "#### Filter out the users with less than 4 rating\n",
    "\n",
    "People have different tendencies to rate books. Some already give 10 to a mediocre book, while others do not give 10 unless it is the perfect book for them. Such tendencies can be seen in the figure below. On the right side there is a bump from users with a mean rating of 10, indicating that they really liked all books (or they only rated books they really like…). We can also see that there are nearly no notoriuous downvoters rating all books with a 1. Such tendencies are going to be important for collaborative filtering later, and are typically dealt with by subtracting the user’s mean rating from their ratings."
   ]
  },
  {
   "cell_type": "code",
   "execution_count": 133,
   "metadata": {},
   "outputs": [
    {
     "data": {
      "text/plain": [
       "<matplotlib.axes._subplots.AxesSubplot at 0x1d19b9c2fd0>"
      ]
     },
     "execution_count": 133,
     "metadata": {},
     "output_type": "execute_result"
    },
    {
     "data": {
      "image/png": "[encoded data removed]",
      "text/plain": [
       "<matplotlib.figure.Figure at 0x1d19b687a58>"
      ]
     },
     "metadata": {},
     "output_type": "display_data"
    }
   ],
   "source": [
    "userrating[userrating['num of ratings']>3]['rating'].hist(bins=50)"
   ]
  },
  {
   "cell_type": "code",
   "execution_count": 134,
   "metadata": {
    "collapsed": true
   },
   "outputs": [],
   "source": [
    "# Drop rating column\n",
    "userrating.drop('rating', axis =1, inplace=True)"
   ]
  },
  {
   "cell_type": "markdown",
   "metadata": {},
   "source": [
    "### Section II:\n",
    "### Prepare the data for the recommender system\n",
    "\n",
    "In this section. We further process the data in the following two steps:\n",
    "\n",
    "1. Filter out the users with less than 4 ratings in df dataframe\n",
    "2. Map the user id to [0, num_users) and book id to [0, num_books). So that the user id and book is can be directly used as indexes of Rating matrix. Where the rows represent different user and the columns represent different books. "
   ]
  },
  {
   "cell_type": "code",
   "execution_count": 135,
   "metadata": {},
   "outputs": [
    {
     "data": {
      "text/html": [
       "<div>\n",
       "<style>\n",
       "    .dataframe thead tr:only-child th {\n",
       "        text-align: right;\n",
       "    }\n",
       "\n",
       "    .dataframe thead th {\n",
       "        text-align: left;\n",
       "    }\n",
       "\n",
       "    .dataframe tbody tr th {\n",
       "        vertical-align: top;\n",
       "    }\n",
       "</style>\n",
       "<table border=\"1\" class=\"dataframe\">\n",
       "  <thead>\n",
       "    <tr style=\"text-align: right;\">\n",
       "      <th></th>\n",
       "      <th>book_id</th>\n",
       "      <th>implicit</th>\n",
       "      <th>rating</th>\n",
       "      <th>user_id</th>\n",
       "      <th>age</th>\n",
       "      <th>location</th>\n",
       "      <th>num of ratings</th>\n",
       "    </tr>\n",
       "  </thead>\n",
       "  <tbody>\n",
       "    <tr>\n",
       "      <th>0</th>\n",
       "      <td>052165615X</td>\n",
       "      <td>NaN</td>\n",
       "      <td>3</td>\n",
       "      <td>276729</td>\n",
       "      <td>16.0</td>\n",
       "      <td>rijeka, n/a, croatia</td>\n",
       "      <td>2</td>\n",
       "    </tr>\n",
       "    <tr>\n",
       "      <th>1</th>\n",
       "      <td>0521795028</td>\n",
       "      <td>NaN</td>\n",
       "      <td>6</td>\n",
       "      <td>276729</td>\n",
       "      <td>16.0</td>\n",
       "      <td>rijeka, n/a, croatia</td>\n",
       "      <td>2</td>\n",
       "    </tr>\n",
       "    <tr>\n",
       "      <th>2</th>\n",
       "      <td>0747558167</td>\n",
       "      <td>NaN</td>\n",
       "      <td>6</td>\n",
       "      <td>276748</td>\n",
       "      <td>39.0</td>\n",
       "      <td>jubail ind.-city, eastern province, saudi arabia</td>\n",
       "      <td>2</td>\n",
       "    </tr>\n",
       "    <tr>\n",
       "      <th>3</th>\n",
       "      <td>0747558167</td>\n",
       "      <td>NaN</td>\n",
       "      <td>6</td>\n",
       "      <td>276748</td>\n",
       "      <td>39.0</td>\n",
       "      <td>jubail ind.-city, eastern province, saudi arabia</td>\n",
       "      <td>2</td>\n",
       "    </tr>\n",
       "    <tr>\n",
       "      <th>4</th>\n",
       "      <td>0451166892</td>\n",
       "      <td>NaN</td>\n",
       "      <td>5</td>\n",
       "      <td>276755</td>\n",
       "      <td>32.0</td>\n",
       "      <td>frankfurt am main, hessen, germany</td>\n",
       "      <td>1</td>\n",
       "    </tr>\n",
       "  </tbody>\n",
       "</table>\n",
       "</div>"
      ],
      "text/plain": [
       "      book_id  implicit  rating  user_id   age  \\\n",
       "0  052165615X       NaN       3   276729  16.0   \n",
       "1  0521795028       NaN       6   276729  16.0   \n",
       "2  0747558167       NaN       6   276748  39.0   \n",
       "3  0747558167       NaN       6   276748  39.0   \n",
       "4  0451166892       NaN       5   276755  32.0   \n",
       "\n",
       "                                           location  num of ratings  \n",
       "0                              rijeka, n/a, croatia               2  \n",
       "1                              rijeka, n/a, croatia               2  \n",
       "2  jubail ind.-city, eastern province, saudi arabia               2  \n",
       "3  jubail ind.-city, eastern province, saudi arabia               2  \n",
       "4                frankfurt am main, hessen, germany               1  "
      ]
     },
     "execution_count": 135,
     "metadata": {},
     "output_type": "execute_result"
    }
   ],
   "source": [
    "# From the histograms, we can see that more than 35,000 users in \n",
    "# total 68092 users only gives one rating \n",
    "userrating['user_id']=userrating.index\n",
    "df = df.merge(userrating, on = 'user_id')\n",
    "df.head()"
   ]
  },
  {
   "cell_type": "code",
   "execution_count": 136,
   "metadata": {},
   "outputs": [
    {
     "data": {
      "text/html": [
       "<div>\n",
       "<style>\n",
       "    .dataframe thead tr:only-child th {\n",
       "        text-align: right;\n",
       "    }\n",
       "\n",
       "    .dataframe thead th {\n",
       "        text-align: left;\n",
       "    }\n",
       "\n",
       "    .dataframe tbody tr th {\n",
       "        vertical-align: top;\n",
       "    }\n",
       "</style>\n",
       "<table border=\"1\" class=\"dataframe\">\n",
       "  <thead>\n",
       "    <tr style=\"text-align: right;\">\n",
       "      <th></th>\n",
       "      <th>book_id</th>\n",
       "      <th>implicit</th>\n",
       "      <th>rating</th>\n",
       "      <th>user_id</th>\n",
       "      <th>age</th>\n",
       "      <th>location</th>\n",
       "      <th>num of ratings</th>\n",
       "    </tr>\n",
       "  </thead>\n",
       "  <tbody>\n",
       "    <tr>\n",
       "      <th>12</th>\n",
       "      <td>3257218516</td>\n",
       "      <td>NaN</td>\n",
       "      <td>3</td>\n",
       "      <td>276866</td>\n",
       "      <td>27.0</td>\n",
       "      <td>mönchengladbach, nordrhein-westfalen, germany</td>\n",
       "      <td>11</td>\n",
       "    </tr>\n",
       "    <tr>\n",
       "      <th>13</th>\n",
       "      <td>3404126343</td>\n",
       "      <td>NaN</td>\n",
       "      <td>8</td>\n",
       "      <td>276866</td>\n",
       "      <td>27.0</td>\n",
       "      <td>mönchengladbach, nordrhein-westfalen, germany</td>\n",
       "      <td>11</td>\n",
       "    </tr>\n",
       "    <tr>\n",
       "      <th>14</th>\n",
       "      <td>3404139178</td>\n",
       "      <td>NaN</td>\n",
       "      <td>9</td>\n",
       "      <td>276866</td>\n",
       "      <td>27.0</td>\n",
       "      <td>mönchengladbach, nordrhein-westfalen, germany</td>\n",
       "      <td>11</td>\n",
       "    </tr>\n",
       "    <tr>\n",
       "      <th>15</th>\n",
       "      <td>3404143299</td>\n",
       "      <td>NaN</td>\n",
       "      <td>7</td>\n",
       "      <td>276866</td>\n",
       "      <td>27.0</td>\n",
       "      <td>mönchengladbach, nordrhein-westfalen, germany</td>\n",
       "      <td>11</td>\n",
       "    </tr>\n",
       "    <tr>\n",
       "      <th>16</th>\n",
       "      <td>340645724X</td>\n",
       "      <td>NaN</td>\n",
       "      <td>3</td>\n",
       "      <td>276866</td>\n",
       "      <td>27.0</td>\n",
       "      <td>mönchengladbach, nordrhein-westfalen, germany</td>\n",
       "      <td>11</td>\n",
       "    </tr>\n",
       "  </tbody>\n",
       "</table>\n",
       "</div>"
      ],
      "text/plain": [
       "       book_id  implicit  rating  user_id   age  \\\n",
       "12  3257218516       NaN       3   276866  27.0   \n",
       "13  3404126343       NaN       8   276866  27.0   \n",
       "14  3404139178       NaN       9   276866  27.0   \n",
       "15  3404143299       NaN       7   276866  27.0   \n",
       "16  340645724X       NaN       3   276866  27.0   \n",
       "\n",
       "                                         location  num of ratings  \n",
       "12  mönchengladbach, nordrhein-westfalen, germany              11  \n",
       "13  mönchengladbach, nordrhein-westfalen, germany              11  \n",
       "14  mönchengladbach, nordrhein-westfalen, germany              11  \n",
       "15  mönchengladbach, nordrhein-westfalen, germany              11  \n",
       "16  mönchengladbach, nordrhein-westfalen, germany              11  "
      ]
     },
     "execution_count": 136,
     "metadata": {},
     "output_type": "execute_result"
    }
   ],
   "source": [
    "# We removed users who rated fewer than 4 books\n",
    "df = df[df['num of ratings']>3]\n",
    "df.head()"
   ]
  },
  {
   "cell_type": "markdown",
   "metadata": {
    "collapsed": true
   },
   "source": [
    "Print the number of books and number of users after filtering"
   ]
  },
  {
   "cell_type": "code",
   "execution_count": 137,
   "metadata": {},
   "outputs": [
    {
     "name": "stdout",
     "output_type": "stream",
     "text": [
      "Num. of Users: 3069\n",
      "Num of Books: 39179\n"
     ]
    }
   ],
   "source": [
    "# Get Number of Users and Number of Books in Filtered Data\n",
    "n_users = df.user_id.nunique()\n",
    "n_books = df.book_id.nunique()\n",
    "\n",
    "print('Num. of Users: ' + str(n_users))\n",
    "print('Num of Books: ' + str(n_books))"
   ]
  },
  {
   "cell_type": "markdown",
   "metadata": {},
   "source": [
    "##### Sparsity of rating  matrix\n",
    "\n",
    "The matrix has sparsity > 99%, so very sparse with most entries 0. We need be careful with this when we later do collaboritive filtering. "
   ]
  },
  {
   "cell_type": "code",
   "execution_count": 138,
   "metadata": {},
   "outputs": [
    {
     "name": "stdout",
     "output_type": "stream",
     "text": [
      "The sparsity level of BooksRecomender Dataset is 99.946%\n"
     ]
    }
   ],
   "source": [
    "# Calculate the sparsity for ratings of books dataset\n",
    "sparsity = round(1.0-len(df)/float(n_users*n_books), 5)\n",
    "print('The sparsity level of BooksRecomender Dataset is ' + str(sparsity*100) + '%')"
   ]
  },
  {
   "cell_type": "markdown",
   "metadata": {},
   "source": [
    "Map user id from 1 to n_users and map book_id from 1 to n_books"
   ]
  },
  {
   "cell_type": "code",
   "execution_count": 139,
   "metadata": {},
   "outputs": [],
   "source": [
    "# Map user_id from 1 to n_users\n",
    "user_index = pd.DataFrame(df['user_id'].unique(), columns=['user_id'])\n",
    "user_index.sort_values(by='user_id', axis=0, inplace= True)\n",
    "user_index.reset_index(drop=True, inplace=True)\n",
    "user_index['user_index']=user_index.index\n",
    "\n",
    "# Map book_id from 1 to n_books\n",
    "book_index = pd.DataFrame(df['book_id'].unique(), columns=['book_id'])\n",
    "book_index.sort_values(by='book_id', axis=0, inplace= True)\n",
    "book_index.reset_index(drop=True, inplace=True)\n",
    "book_index['book_index']=book_index.index"
   ]
  },
  {
   "cell_type": "markdown",
   "metadata": {},
   "source": [
    "Merge the user_id and book_id columns to df dataframe"
   ]
  },
  {
   "cell_type": "code",
   "execution_count": 140,
   "metadata": {
    "collapsed": true
   },
   "outputs": [],
   "source": [
    "df = df.merge(user_index, on ='user_id')\n",
    "df = df.merge(book_index, on = 'book_id')"
   ]
  },
  {
   "cell_type": "markdown",
   "metadata": {
    "collapsed": true
   },
   "source": [
    "Print out the first 5 rows of df dataframe"
   ]
  },
  {
   "cell_type": "code",
   "execution_count": 141,
   "metadata": {},
   "outputs": [
    {
     "data": {
      "text/html": [
       "<div>\n",
       "<style>\n",
       "    .dataframe thead tr:only-child th {\n",
       "        text-align: right;\n",
       "    }\n",
       "\n",
       "    .dataframe thead th {\n",
       "        text-align: left;\n",
       "    }\n",
       "\n",
       "    .dataframe tbody tr th {\n",
       "        vertical-align: top;\n",
       "    }\n",
       "</style>\n",
       "<table border=\"1\" class=\"dataframe\">\n",
       "  <thead>\n",
       "    <tr style=\"text-align: right;\">\n",
       "      <th></th>\n",
       "      <th>book_id</th>\n",
       "      <th>implicit</th>\n",
       "      <th>rating</th>\n",
       "      <th>user_id</th>\n",
       "      <th>age</th>\n",
       "      <th>location</th>\n",
       "      <th>num of ratings</th>\n",
       "      <th>user_index</th>\n",
       "      <th>book_index</th>\n",
       "    </tr>\n",
       "  </thead>\n",
       "  <tbody>\n",
       "    <tr>\n",
       "      <th>0</th>\n",
       "      <td>3257218516</td>\n",
       "      <td>NaN</td>\n",
       "      <td>3</td>\n",
       "      <td>276866</td>\n",
       "      <td>27.0</td>\n",
       "      <td>mönchengladbach, nordrhein-westfalen, germany</td>\n",
       "      <td>11</td>\n",
       "      <td>3050</td>\n",
       "      <td>37174</td>\n",
       "    </tr>\n",
       "    <tr>\n",
       "      <th>1</th>\n",
       "      <td>3404126343</td>\n",
       "      <td>NaN</td>\n",
       "      <td>8</td>\n",
       "      <td>276866</td>\n",
       "      <td>27.0</td>\n",
       "      <td>mönchengladbach, nordrhein-westfalen, germany</td>\n",
       "      <td>11</td>\n",
       "      <td>3050</td>\n",
       "      <td>37236</td>\n",
       "    </tr>\n",
       "    <tr>\n",
       "      <th>2</th>\n",
       "      <td>3404139178</td>\n",
       "      <td>NaN</td>\n",
       "      <td>9</td>\n",
       "      <td>276866</td>\n",
       "      <td>27.0</td>\n",
       "      <td>mönchengladbach, nordrhein-westfalen, germany</td>\n",
       "      <td>11</td>\n",
       "      <td>3050</td>\n",
       "      <td>37258</td>\n",
       "    </tr>\n",
       "    <tr>\n",
       "      <th>3</th>\n",
       "      <td>3404139178</td>\n",
       "      <td>NaN</td>\n",
       "      <td>10</td>\n",
       "      <td>66483</td>\n",
       "      <td>16.0</td>\n",
       "      <td>berlin, berlin, germany</td>\n",
       "      <td>53</td>\n",
       "      <td>717</td>\n",
       "      <td>37258</td>\n",
       "    </tr>\n",
       "    <tr>\n",
       "      <th>4</th>\n",
       "      <td>3404139178</td>\n",
       "      <td>NaN</td>\n",
       "      <td>9</td>\n",
       "      <td>86583</td>\n",
       "      <td>31.0</td>\n",
       "      <td>stuttgart, , germany</td>\n",
       "      <td>16</td>\n",
       "      <td>939</td>\n",
       "      <td>37258</td>\n",
       "    </tr>\n",
       "  </tbody>\n",
       "</table>\n",
       "</div>"
      ],
      "text/plain": [
       "      book_id  implicit  rating  user_id   age  \\\n",
       "0  3257218516       NaN       3   276866  27.0   \n",
       "1  3404126343       NaN       8   276866  27.0   \n",
       "2  3404139178       NaN       9   276866  27.0   \n",
       "3  3404139178       NaN      10    66483  16.0   \n",
       "4  3404139178       NaN       9    86583  31.0   \n",
       "\n",
       "                                        location  num of ratings  user_index  \\\n",
       "0  mönchengladbach, nordrhein-westfalen, germany              11        3050   \n",
       "1  mönchengladbach, nordrhein-westfalen, germany              11        3050   \n",
       "2  mönchengladbach, nordrhein-westfalen, germany              11        3050   \n",
       "3                        berlin, berlin, germany              53         717   \n",
       "4                           stuttgart, , germany              16         939   \n",
       "\n",
       "   book_index  \n",
       "0       37174  \n",
       "1       37236  \n",
       "2       37258  \n",
       "3       37258  \n",
       "4       37258  "
      ]
     },
     "execution_count": 141,
     "metadata": {},
     "output_type": "execute_result"
    }
   ],
   "source": [
    "df.head()"
   ]
  },
  {
   "cell_type": "markdown",
   "metadata": {},
   "source": [
    "##### Q5: What is the top 10 rated books with more than 50 reviews?\n",
    "\n",
    "Here we only show books with more than 50 views because a book is not necessarily good with a 10 rating if only 1 userrated it. \n",
    "\n",
    "It is very interesting that 5 of the top 10 books come from Harry Potter Series. So we may have the trend that if a user likes a series book, he/she may other likes other book in the same series."
   ]
  },
  {
   "cell_type": "code",
   "execution_count": 142,
   "metadata": {},
   "outputs": [
    {
     "data": {
      "text/html": [
       "<div>\n",
       "<style>\n",
       "    .dataframe thead tr:only-child th {\n",
       "        text-align: right;\n",
       "    }\n",
       "\n",
       "    .dataframe thead th {\n",
       "        text-align: left;\n",
       "    }\n",
       "\n",
       "    .dataframe tbody tr th {\n",
       "        vertical-align: top;\n",
       "    }\n",
       "</style>\n",
       "<table border=\"1\" class=\"dataframe\">\n",
       "  <thead>\n",
       "    <tr style=\"text-align: right;\">\n",
       "      <th></th>\n",
       "      <th>rating</th>\n",
       "      <th>num of ratings</th>\n",
       "      <th>book_id</th>\n",
       "      <th>author</th>\n",
       "      <th>publisher</th>\n",
       "      <th>year</th>\n",
       "    </tr>\n",
       "    <tr>\n",
       "      <th>title</th>\n",
       "      <th></th>\n",
       "      <th></th>\n",
       "      <th></th>\n",
       "      <th></th>\n",
       "      <th></th>\n",
       "      <th></th>\n",
       "    </tr>\n",
       "  </thead>\n",
       "  <tbody>\n",
       "    <tr>\n",
       "      <th>Harry Potter and the Sorcerer's Stone (Book 1)</th>\n",
       "      <td>9.384615</td>\n",
       "      <td>26</td>\n",
       "      <td>0590353403</td>\n",
       "      <td>J. K. Rowling</td>\n",
       "      <td>Scholastic</td>\n",
       "      <td>1998</td>\n",
       "    </tr>\n",
       "    <tr>\n",
       "      <th>Harry Potter and the Prisoner of Azkaban (Book 3)</th>\n",
       "      <td>9.235294</td>\n",
       "      <td>34</td>\n",
       "      <td>0439136350</td>\n",
       "      <td>J. K. Rowling</td>\n",
       "      <td>Scholastic</td>\n",
       "      <td>1999</td>\n",
       "    </tr>\n",
       "    <tr>\n",
       "      <th>Harry Potter and the Prisoner of Azkaban (Book 3)</th>\n",
       "      <td>9.148148</td>\n",
       "      <td>27</td>\n",
       "      <td>0439136369</td>\n",
       "      <td>J. K. Rowling</td>\n",
       "      <td>Scholastic</td>\n",
       "      <td>2001</td>\n",
       "    </tr>\n",
       "    <tr>\n",
       "      <th>To Kill a Mockingbird</th>\n",
       "      <td>9.125000</td>\n",
       "      <td>48</td>\n",
       "      <td>0446310786</td>\n",
       "      <td>Harper Lee</td>\n",
       "      <td>Little Brown &amp;amp; Company</td>\n",
       "      <td>1988</td>\n",
       "    </tr>\n",
       "    <tr>\n",
       "      <th>A Wrinkle In Time</th>\n",
       "      <td>9.120000</td>\n",
       "      <td>25</td>\n",
       "      <td>0440498058</td>\n",
       "      <td>MADELEINE L'ENGLE</td>\n",
       "      <td>Yearling</td>\n",
       "      <td>1998</td>\n",
       "    </tr>\n",
       "    <tr>\n",
       "      <th>Harry Potter and the Goblet of Fire (Book 4)</th>\n",
       "      <td>9.105263</td>\n",
       "      <td>38</td>\n",
       "      <td>0439139597</td>\n",
       "      <td>J. K. Rowling</td>\n",
       "      <td>Scholastic</td>\n",
       "      <td>2000</td>\n",
       "    </tr>\n",
       "    <tr>\n",
       "      <th>The Fellowship of the Ring (The Lord of the Rings, Part 1)</th>\n",
       "      <td>9.090909</td>\n",
       "      <td>22</td>\n",
       "      <td>0345339703</td>\n",
       "      <td>J.R.R. TOLKIEN</td>\n",
       "      <td>Del Rey</td>\n",
       "      <td>1986</td>\n",
       "    </tr>\n",
       "    <tr>\n",
       "      <th>Harry Potter and the Sorcerer's Stone (Harry Potter (Paperback))</th>\n",
       "      <td>9.085714</td>\n",
       "      <td>70</td>\n",
       "      <td>059035342X</td>\n",
       "      <td>J. K. Rowling</td>\n",
       "      <td>Arthur A. Levine Books</td>\n",
       "      <td>1999</td>\n",
       "    </tr>\n",
       "    <tr>\n",
       "      <th>The Princess Bride: S Morgenstern's Classic Tale of True Love and High Adventure</th>\n",
       "      <td>9.000000</td>\n",
       "      <td>21</td>\n",
       "      <td>0345348036</td>\n",
       "      <td>WILLIAM GOLDMAN</td>\n",
       "      <td>Del Rey</td>\n",
       "      <td>1987</td>\n",
       "    </tr>\n",
       "    <tr>\n",
       "      <th>Watership Down</th>\n",
       "      <td>8.923077</td>\n",
       "      <td>26</td>\n",
       "      <td>0380002930</td>\n",
       "      <td>Richard Adams</td>\n",
       "      <td>Avon</td>\n",
       "      <td>1976</td>\n",
       "    </tr>\n",
       "  </tbody>\n",
       "</table>\n",
       "</div>"
      ],
      "text/plain": [
       "                                                      rating  num of ratings  \\\n",
       "title                                                                          \n",
       "Harry Potter and the Sorcerer's Stone (Book 1)      9.384615              26   \n",
       "Harry Potter and the Prisoner of Azkaban (Book 3)   9.235294              34   \n",
       "Harry Potter and the Prisoner of Azkaban (Book 3)   9.148148              27   \n",
       "To Kill a Mockingbird                               9.125000              48   \n",
       "A Wrinkle In Time                                   9.120000              25   \n",
       "Harry Potter and the Goblet of Fire (Book 4)        9.105263              38   \n",
       "The Fellowship of the Ring (The Lord of the Rin...  9.090909              22   \n",
       "Harry Potter and the Sorcerer's Stone (Harry Po...  9.085714              70   \n",
       "The Princess Bride: S Morgenstern's Classic Tal...  9.000000              21   \n",
       "Watership Down                                      8.923077              26   \n",
       "\n",
       "                                                       book_id  \\\n",
       "title                                                            \n",
       "Harry Potter and the Sorcerer's Stone (Book 1)      0590353403   \n",
       "Harry Potter and the Prisoner of Azkaban (Book 3)   0439136350   \n",
       "Harry Potter and the Prisoner of Azkaban (Book 3)   0439136369   \n",
       "To Kill a Mockingbird                               0446310786   \n",
       "A Wrinkle In Time                                   0440498058   \n",
       "Harry Potter and the Goblet of Fire (Book 4)        0439139597   \n",
       "The Fellowship of the Ring (The Lord of the Rin...  0345339703   \n",
       "Harry Potter and the Sorcerer's Stone (Harry Po...  059035342X   \n",
       "The Princess Bride: S Morgenstern's Classic Tal...  0345348036   \n",
       "Watership Down                                      0380002930   \n",
       "\n",
       "                                                               author  \\\n",
       "title                                                                   \n",
       "Harry Potter and the Sorcerer's Stone (Book 1)          J. K. Rowling   \n",
       "Harry Potter and the Prisoner of Azkaban (Book 3)       J. K. Rowling   \n",
       "Harry Potter and the Prisoner of Azkaban (Book 3)       J. K. Rowling   \n",
       "To Kill a Mockingbird                                      Harper Lee   \n",
       "A Wrinkle In Time                                   MADELEINE L'ENGLE   \n",
       "Harry Potter and the Goblet of Fire (Book 4)            J. K. Rowling   \n",
       "The Fellowship of the Ring (The Lord of the Rin...     J.R.R. TOLKIEN   \n",
       "Harry Potter and the Sorcerer's Stone (Harry Po...      J. K. Rowling   \n",
       "The Princess Bride: S Morgenstern's Classic Tal...    WILLIAM GOLDMAN   \n",
       "Watership Down                                          Richard Adams   \n",
       "\n",
       "                                                                     publisher  \\\n",
       "title                                                                            \n",
       "Harry Potter and the Sorcerer's Stone (Book 1)                      Scholastic   \n",
       "Harry Potter and the Prisoner of Azkaban (Book 3)                   Scholastic   \n",
       "Harry Potter and the Prisoner of Azkaban (Book 3)                   Scholastic   \n",
       "To Kill a Mockingbird                               Little Brown &amp; Company   \n",
       "A Wrinkle In Time                                                     Yearling   \n",
       "Harry Potter and the Goblet of Fire (Book 4)                        Scholastic   \n",
       "The Fellowship of the Ring (The Lord of the Rin...                     Del Rey   \n",
       "Harry Potter and the Sorcerer's Stone (Harry Po...      Arthur A. Levine Books   \n",
       "The Princess Bride: S Morgenstern's Classic Tal...                     Del Rey   \n",
       "Watership Down                                                            Avon   \n",
       "\n",
       "                                                    year  \n",
       "title                                                     \n",
       "Harry Potter and the Sorcerer's Stone (Book 1)      1998  \n",
       "Harry Potter and the Prisoner of Azkaban (Book 3)   1999  \n",
       "Harry Potter and the Prisoner of Azkaban (Book 3)   2001  \n",
       "To Kill a Mockingbird                               1988  \n",
       "A Wrinkle In Time                                   1998  \n",
       "Harry Potter and the Goblet of Fire (Book 4)        2000  \n",
       "The Fellowship of the Ring (The Lord of the Rin...  1986  \n",
       "Harry Potter and the Sorcerer's Stone (Harry Po...  1999  \n",
       "The Princess Bride: S Morgenstern's Classic Tal...  1987  \n",
       "Watership Down                                      1976  "
      ]
     },
     "execution_count": 142,
     "metadata": {},
     "output_type": "execute_result"
    }
   ],
   "source": [
    "# Get the top 10 rated books with more than 50 reviews\n",
    "ratings['book_id'] = ratings.index\n",
    "book_ratings = ratings.merge(Books, on='book_id').set_index('title')\n",
    "book_ratings[book_ratings['num of ratings']>20].sort_values('rating', ascending=False).head(10)"
   ]
  },
  {
   "cell_type": "markdown",
   "metadata": {},
   "source": [
    "##### Q6: What are the most popular books?\n",
    "\n",
    "We showed top 10 books that received most ratings. "
   ]
  },
  {
   "cell_type": "code",
   "execution_count": 143,
   "metadata": {},
   "outputs": [
    {
     "data": {
      "text/html": [
       "<div>\n",
       "<style>\n",
       "    .dataframe thead tr:only-child th {\n",
       "        text-align: right;\n",
       "    }\n",
       "\n",
       "    .dataframe thead th {\n",
       "        text-align: left;\n",
       "    }\n",
       "\n",
       "    .dataframe tbody tr th {\n",
       "        vertical-align: top;\n",
       "    }\n",
       "</style>\n",
       "<table border=\"1\" class=\"dataframe\">\n",
       "  <thead>\n",
       "    <tr style=\"text-align: right;\">\n",
       "      <th></th>\n",
       "      <th>rating</th>\n",
       "      <th>num of ratings</th>\n",
       "      <th>book_id</th>\n",
       "      <th>author</th>\n",
       "      <th>publisher</th>\n",
       "      <th>year</th>\n",
       "    </tr>\n",
       "    <tr>\n",
       "      <th>title</th>\n",
       "      <th></th>\n",
       "      <th></th>\n",
       "      <th></th>\n",
       "      <th></th>\n",
       "      <th></th>\n",
       "      <th></th>\n",
       "    </tr>\n",
       "  </thead>\n",
       "  <tbody>\n",
       "    <tr>\n",
       "      <th>The Lovely Bones: A Novel</th>\n",
       "      <td>8.138158</td>\n",
       "      <td>152</td>\n",
       "      <td>0316666343</td>\n",
       "      <td>Alice Sebold</td>\n",
       "      <td>Little, Brown</td>\n",
       "      <td>2002</td>\n",
       "    </tr>\n",
       "    <tr>\n",
       "      <th>Wild Animus</th>\n",
       "      <td>4.537190</td>\n",
       "      <td>121</td>\n",
       "      <td>0971880107</td>\n",
       "      <td>Rich Shapero</td>\n",
       "      <td>Too Far</td>\n",
       "      <td>2004</td>\n",
       "    </tr>\n",
       "    <tr>\n",
       "      <th>The Da Vinci Code</th>\n",
       "      <td>8.343434</td>\n",
       "      <td>99</td>\n",
       "      <td>0385504209</td>\n",
       "      <td>Dan Brown</td>\n",
       "      <td>Doubleday</td>\n",
       "      <td>2003</td>\n",
       "    </tr>\n",
       "    <tr>\n",
       "      <th>The Red Tent (Bestselling Backlist)</th>\n",
       "      <td>8.179487</td>\n",
       "      <td>78</td>\n",
       "      <td>0312195516</td>\n",
       "      <td>Anita Diamant</td>\n",
       "      <td>Picador USA</td>\n",
       "      <td>1998</td>\n",
       "    </tr>\n",
       "    <tr>\n",
       "      <th>The Secret Life of Bees</th>\n",
       "      <td>8.413333</td>\n",
       "      <td>75</td>\n",
       "      <td>0142001740</td>\n",
       "      <td>Sue Monk Kidd</td>\n",
       "      <td>Penguin Books</td>\n",
       "      <td>2003</td>\n",
       "    </tr>\n",
       "    <tr>\n",
       "      <th>Divine Secrets of the Ya-Ya Sisterhood: A Novel</th>\n",
       "      <td>7.863014</td>\n",
       "      <td>73</td>\n",
       "      <td>0060928336</td>\n",
       "      <td>Rebecca Wells</td>\n",
       "      <td>Perennial</td>\n",
       "      <td>1997</td>\n",
       "    </tr>\n",
       "    <tr>\n",
       "      <th>Harry Potter and the Sorcerer's Stone (Harry Potter (Paperback))</th>\n",
       "      <td>9.085714</td>\n",
       "      <td>70</td>\n",
       "      <td>059035342X</td>\n",
       "      <td>J. K. Rowling</td>\n",
       "      <td>Arthur A. Levine Books</td>\n",
       "      <td>1999</td>\n",
       "    </tr>\n",
       "    <tr>\n",
       "      <th>Where the Heart Is (Oprah's Book Club (Paperback))</th>\n",
       "      <td>8.125000</td>\n",
       "      <td>64</td>\n",
       "      <td>0446672211</td>\n",
       "      <td>Billie Letts</td>\n",
       "      <td>Warner Books</td>\n",
       "      <td>1998</td>\n",
       "    </tr>\n",
       "    <tr>\n",
       "      <th>A Painted House</th>\n",
       "      <td>7.114754</td>\n",
       "      <td>61</td>\n",
       "      <td>044023722X</td>\n",
       "      <td>John Grisham</td>\n",
       "      <td>Dell Publishing Company</td>\n",
       "      <td>2001</td>\n",
       "    </tr>\n",
       "    <tr>\n",
       "      <th>The Firm</th>\n",
       "      <td>8.350877</td>\n",
       "      <td>57</td>\n",
       "      <td>044021145X</td>\n",
       "      <td>John Grisham</td>\n",
       "      <td>Bantam Dell Publishing Group</td>\n",
       "      <td>1992</td>\n",
       "    </tr>\n",
       "  </tbody>\n",
       "</table>\n",
       "</div>"
      ],
      "text/plain": [
       "                                                      rating  num of ratings  \\\n",
       "title                                                                          \n",
       "The Lovely Bones: A Novel                           8.138158             152   \n",
       "Wild Animus                                         4.537190             121   \n",
       "The Da Vinci Code                                   8.343434              99   \n",
       "The Red Tent (Bestselling Backlist)                 8.179487              78   \n",
       "The Secret Life of Bees                             8.413333              75   \n",
       "Divine Secrets of the Ya-Ya Sisterhood: A Novel     7.863014              73   \n",
       "Harry Potter and the Sorcerer's Stone (Harry Po...  9.085714              70   \n",
       "Where the Heart Is (Oprah's Book Club (Paperback))  8.125000              64   \n",
       "A Painted House                                     7.114754              61   \n",
       "The Firm                                            8.350877              57   \n",
       "\n",
       "                                                       book_id         author  \\\n",
       "title                                                                           \n",
       "The Lovely Bones: A Novel                           0316666343   Alice Sebold   \n",
       "Wild Animus                                         0971880107   Rich Shapero   \n",
       "The Da Vinci Code                                   0385504209      Dan Brown   \n",
       "The Red Tent (Bestselling Backlist)                 0312195516  Anita Diamant   \n",
       "The Secret Life of Bees                             0142001740  Sue Monk Kidd   \n",
       "Divine Secrets of the Ya-Ya Sisterhood: A Novel     0060928336  Rebecca Wells   \n",
       "Harry Potter and the Sorcerer's Stone (Harry Po...  059035342X  J. K. Rowling   \n",
       "Where the Heart Is (Oprah's Book Club (Paperback))  0446672211   Billie Letts   \n",
       "A Painted House                                     044023722X   John Grisham   \n",
       "The Firm                                            044021145X   John Grisham   \n",
       "\n",
       "                                                                       publisher  \\\n",
       "title                                                                              \n",
       "The Lovely Bones: A Novel                                          Little, Brown   \n",
       "Wild Animus                                                              Too Far   \n",
       "The Da Vinci Code                                                      Doubleday   \n",
       "The Red Tent (Bestselling Backlist)                                  Picador USA   \n",
       "The Secret Life of Bees                                            Penguin Books   \n",
       "Divine Secrets of the Ya-Ya Sisterhood: A Novel                        Perennial   \n",
       "Harry Potter and the Sorcerer's Stone (Harry Po...        Arthur A. Levine Books   \n",
       "Where the Heart Is (Oprah's Book Club (Paperback))                  Warner Books   \n",
       "A Painted House                                          Dell Publishing Company   \n",
       "The Firm                                            Bantam Dell Publishing Group   \n",
       "\n",
       "                                                    year  \n",
       "title                                                     \n",
       "The Lovely Bones: A Novel                           2002  \n",
       "Wild Animus                                         2004  \n",
       "The Da Vinci Code                                   2003  \n",
       "The Red Tent (Bestselling Backlist)                 1998  \n",
       "The Secret Life of Bees                             2003  \n",
       "Divine Secrets of the Ya-Ya Sisterhood: A Novel     1997  \n",
       "Harry Potter and the Sorcerer's Stone (Harry Po...  1999  \n",
       "Where the Heart Is (Oprah's Book Club (Paperback))  1998  \n",
       "A Painted House                                     2001  \n",
       "The Firm                                            1992  "
      ]
     },
     "execution_count": 143,
     "metadata": {},
     "output_type": "execute_result"
    }
   ],
   "source": [
    "# Get the top 10 popular books\n",
    "book_ratings.sort_values('num of ratings', ascending=False).head(10)"
   ]
  },
  {
   "cell_type": "markdown",
   "metadata": {},
   "source": [
    "##### Q7: Is there any correlation between number of ratings and the rating of books?\n",
    "\n",
    "Next, we can see, whether we can find any associations of features with a book’s rating. "
   ]
  },
  {
   "cell_type": "code",
   "execution_count": 144,
   "metadata": {},
   "outputs": [
    {
     "name": "stdout",
     "output_type": "stream",
     "text": [
      "The correlation between number of ratings and average rating of books is: 0.0291609400007\n"
     ]
    }
   ],
   "source": [
    "# Is there any correlation between number of ratings \n",
    "# and the rating of books\n",
    "m = np.corrcoef(x=book_ratings['rating'], y=book_ratings['num of ratings'])\n",
    "print('The correlation between number of ratings and average rating of books is: ' + str(m[0,1]))"
   ]
  },
  {
   "cell_type": "markdown",
   "metadata": {},
   "source": [
    "We found that the number of ratings of does not affect the rating of books\n",
    "Hopefully other factors we don't have explicitly are affecting the ratings\n",
    "i.e. the quality of the book.\n",
    "\n",
    "\n",
    "#### Section Summary: \n",
    "\n",
    "In this section, We identified some interesting aspects of this book datasets. In summary, observed effects on book rating are rather small, suggesting that book rating is mainly driven by other aspects, hopefully including the quality of the book itself.\n"
   ]
  },
  {
   "cell_type": "markdown",
   "metadata": {},
   "source": [
    "### Section III:\n",
    "### Recommender System: Collaborative filtering\n",
    "\n",
    "Collaboritve filtering is a standard method for product recommendations. We implemented two kinds of collorarive filtering: **Content-based** CF and **Model-based CF**. The main idea of thse two CF are explained below.\n",
    "\n",
    "1. Content-based CF:"
   ]
  },
  {
   "cell_type": "code",
   "execution_count": 163,
   "metadata": {
    "collapsed": true
   },
   "outputs": [],
   "source": [
    "# Change the datatype of ratings to int8 (-128 to 127)\n",
    "# This has enough bits to hold the rating 0 to 10\n",
    "# And most importantly, this significantly reduce the RAM needed when \n",
    "# calculating matrix multiplication\n",
    "# subdf['rating'] = subdf['rating'].astype('int8')"
   ]
  },
  {
   "cell_type": "code",
   "execution_count": 164,
   "metadata": {
    "collapsed": true
   },
   "outputs": [],
   "source": [
    "#import scipy.sparse as sp\n",
    "#from scipy.sparse import lil_matrix\n",
    "#from scipy.sparse import csr_matrix\n",
    "#from scipy.sparse.linalg import svds"
   ]
  },
  {
   "cell_type": "code",
   "execution_count": 165,
   "metadata": {
    "collapsed": true
   },
   "outputs": [],
   "source": [
    "# A model-based Collaborative Filtering system\n",
    "# Train Test split\n",
    "from sklearn.model_selection import train_test_split\n",
    "train_data, test_data = train_test_split(subdf, test_size=0.25)\n",
    "\n",
    "#Create two user-item matrices, one for training and another for testing\n",
    "train_data_matrix = np.zeros((n_users, n_books))\n",
    "for line in train_data.itertuples():\n",
    "    train_data_matrix[line[6], line[7]] = line[3]  \n",
    "    \n",
    "test_data_matrix = np.zeros((n_users, n_books))\n",
    "for line in test_data.itertuples():\n",
    "    test_data_matrix[line[6], line[7]] = line[3]"
   ]
  },
  {
   "cell_type": "code",
   "execution_count": null,
   "metadata": {
    "collapsed": true
   },
   "outputs": [],
   "source": []
  },
  {
   "cell_type": "markdown",
   "metadata": {
    "collapsed": true
   },
   "source": [
    "### Make predictions using content based collaboritive filtering\n"
   ]
  },
  {
   "cell_type": "code",
   "execution_count": 167,
   "metadata": {
    "collapsed": true
   },
   "outputs": [],
   "source": [
    "import recommender_system\n",
    "import imp\n",
    "imp.reload(recommender_system)\n",
    "from recommender_system import recommender_system\n",
    "# Initialize a recommender system\n",
    "RS = recommender_system();\n",
    "\n",
    "# Matrix \n",
    "user_prediction = np.zeros((n_users, n_books))\n",
    "# User-item prediction\n",
    "for i in range(n_users):\n",
    "    user_prediction[i,:] = RS.predict_content(train_data_matrix, uid = i, d = 5, type='user')\n",
    "#print('User-based CF RMSE: ' + str(RS.rmse(user_prediction, test_data_matrix)))"
   ]
  },
  {
   "cell_type": "code",
   "execution_count": 168,
   "metadata": {
    "collapsed": true
   },
   "outputs": [],
   "source": [
    "#import recommender_system\n",
    "#import imp\n",
    "#imp.reload(recommender_system)\n",
    "#from recommender_system import recommender_system\n",
    "## Item-item prediction\n",
    "#item_prediction = np.zeros((n_users, n_books))\n",
    "#for i in range(n_books):\n",
    "#    item_prediction[i,:] = RS.predict_content(train_data_matrix, uid = i, type='item')"
   ]
  },
  {
   "cell_type": "code",
   "execution_count": 169,
   "metadata": {
    "collapsed": true
   },
   "outputs": [],
   "source": [
    "item_prediction = RS.predict_content(train_data_matrix, type='item')\n",
    "user_prediction = RS.predict_content(train_data_matrix, type='user')"
   ]
  },
  {
   "cell_type": "code",
   "execution_count": 170,
   "metadata": {},
   "outputs": [
    {
     "name": "stdout",
     "output_type": "stream",
     "text": [
      "User-based CF RMSE: 7.846171197104405\n"
     ]
    }
   ],
   "source": [
    "print('User-based CF RMSE: ' + str(RS.rmse(user_prediction, test_data_matrix)))"
   ]
  },
  {
   "cell_type": "code",
   "execution_count": 171,
   "metadata": {},
   "outputs": [
    {
     "name": "stdout",
     "output_type": "stream",
     "text": [
      "Item-based CF RMSE: 7.845135147358469\n"
     ]
    }
   ],
   "source": [
    "print('Item-based CF RMSE: ' + str(RS.rmse(item_prediction, test_data_matrix)))"
   ]
  },
  {
   "cell_type": "code",
   "execution_count": null,
   "metadata": {
    "collapsed": true
   },
   "outputs": [],
   "source": [
    "# Here is a prediction for spefic users. \n",
    "# Here we made predictions for user with uid = 100\n",
    "from recommender_system import recommender_system\n",
    "RS = recommender_system();\n",
    "uid = np.int8(100)\n",
    "user_pred = RS.predict_content(train_data_matrix, uid = uid, type='user')\n",
    "item_pred = RS.predict_content(train_data_matrix, uid = uid, type='item')"
   ]
  },
  {
   "cell_type": "code",
   "execution_count": null,
   "metadata": {
    "collapsed": true
   },
   "outputs": [],
   "source": [
    "print(user_prediction[test_data_matrix.nonzero()].flatten())\n",
    "print(item_prediction[test_data_matrix.nonzero()].flatten())"
   ]
  },
  {
   "cell_type": "code",
   "execution_count": null,
   "metadata": {
    "collapsed": true
   },
   "outputs": [],
   "source": [
    "user_pred[test_data_matrix[uid,:].nonzero()]=0\n",
    "udf = pd.DataFrame(data = user_pred, columns=['pred rating'])"
   ]
  },
  {
   "cell_type": "code",
   "execution_count": null,
   "metadata": {
    "collapsed": true
   },
   "outputs": [],
   "source": [
    "udf['book_index'] = udf.index"
   ]
  },
  {
   "cell_type": "code",
   "execution_count": null,
   "metadata": {
    "collapsed": true
   },
   "outputs": [],
   "source": [
    "u100=udf.merge(subdf[['book_index','book_id']], on = 'book_index')"
   ]
  },
  {
   "cell_type": "code",
   "execution_count": null,
   "metadata": {
    "collapsed": true
   },
   "outputs": [],
   "source": [
    "u100 = u100.drop_duplicates(subset=['book_index'], keep=False)\n",
    "u100.sort_values(by='pred rating', ascending=False).head(5)"
   ]
  },
  {
   "cell_type": "markdown",
   "metadata": {},
   "source": [
    "### Make predictions using model based collaboritive filtering"
   ]
  },
  {
   "cell_type": "code",
   "execution_count": null,
   "metadata": {
    "collapsed": true
   },
   "outputs": [],
   "source": [
    "# The model based collaborative filtering is based on matrix factorization\n",
    "# It has generally better scalability and sparsity than memory-based CF"
   ]
  },
  {
   "cell_type": "code",
   "execution_count": null,
   "metadata": {
    "collapsed": true
   },
   "outputs": [],
   "source": [
    "# Calculate the sparsity for ratings of books dataset\n",
    "sparsity = round(1.0-len(subdf)/float(n_users*n_books), 5)\n",
    "print('The sparsity level of BooksRecomender Dataset is ' + str(sparsity*100) + '%')"
   ]
  },
  {
   "cell_type": "code",
   "execution_count": null,
   "metadata": {
    "collapsed": true
   },
   "outputs": [],
   "source": [
    "# A model-based Collaborative Filtering system\n",
    "# Train Test split\n",
    "from scipy.sparse import lil_matrix\n",
    "from sklearn.model_selection import train_test_split\n",
    "train_data, test_data = train_test_split(subdf, test_size=0.25)\n",
    "\n",
    "#Create two user-item matrices, one for training and another for testing\n",
    "train_data_matrix = lil_matrix((n_users, n_books))\n",
    "for line in train_data.itertuples():\n",
    "    train_data_matrix[line[6], line[7]] = line[3]  \n",
    "    \n",
    "test_data_matrix = lil_matrix((n_users, n_books))\n",
    "for line in test_data.itertuples():\n",
    "    test_data_matrix[line[6], line[7]] = line[3]"
   ]
  },
  {
   "cell_type": "code",
   "execution_count": 118,
   "metadata": {
    "collapsed": true
   },
   "outputs": [],
   "source": [
    "from scipy.sparse import lil_matrix\n",
    "import scipy.sparse as sp\n",
    "from scipy.sparse.linalg import svds\n",
    "# Test matrix index\n",
    "lists = test_data_matrix.nonzero()\n",
    "u, s, vt = svds(train_data_matrix, k = 100)\n",
    "s_diag_matrix=np.diag(s)\n",
    "row = lists[0]\n",
    "col = lists[1]\n",
    "pred = np.zeros((n_users, n_books))\n",
    "for i in range(len(lists[0])):\n",
    "    pred[row[i], col[i]] = np.dot(np.dot(u[row[i],:], s_diag_matrix), vt[:, col[i]])"
   ]
  },
  {
   "cell_type": "code",
   "execution_count": 149,
   "metadata": {},
   "outputs": [
    {
     "name": "stdout",
     "output_type": "stream",
     "text": [
      "User-based CF MSE: 6.237562013848951\n"
     ]
    }
   ],
   "source": [
    "import scipy.sparse as sp\n",
    "from scipy.sparse.linalg import svds\n",
    "\n",
    "#get SVD components from train matrix. Choose k.\n",
    "u, s, vt = svds(train_data_matrix, k = 200)\n",
    "s_diag_matrix=np.diag(s)\n",
    "X_pred = np.dot(np.dot(u, s_diag_matrix), vt)\n",
    "print('User-based CF MSE: ' + str(RS.rmse(X_pred, train_data_matrix)))"
   ]
  },
  {
   "cell_type": "code",
   "execution_count": 120,
   "metadata": {},
   "outputs": [
    {
     "name": "stdout",
     "output_type": "stream",
     "text": [
      "Model -based CF RMSE: 7.7853584045012125\n"
     ]
    }
   ],
   "source": [
    "print('Model -based CF RMSE: ' + str(RS.rmse(pred, test_data_matrix)))"
   ]
  },
  {
   "cell_type": "code",
   "execution_count": null,
   "metadata": {
    "collapsed": true
   },
   "outputs": [],
   "source": []
  },
  {
   "cell_type": "markdown",
   "metadata": {},
   "source": [
    "### In the previous model-based CF, we used the rmse as the loss function where we need to minimize on. We can further include a penalty term (i.e. l2 regularization)\n",
    "\n"
   ]
  },
  {
   "cell_type": "code",
   "execution_count": null,
   "metadata": {
    "collapsed": true
   },
   "outputs": [],
   "source": []
  },
  {
   "cell_type": "code",
   "execution_count": null,
   "metadata": {
    "collapsed": true
   },
   "outputs": [],
   "source": []
  }
 ],
 "metadata": {
  "kernelspec": {
   "display_name": "Python 3",
   "language": "python",
   "name": "python3"
  },
  "language_info": {
   "codemirror_mode": {
    "name": "ipython",
    "version": 3
   },
   "file_extension": ".py",
   "mimetype": "text/x-python",
   "name": "python",
   "nbconvert_exporter": "python",
   "pygments_lexer": "ipython3",
   "version": "3.6.2"
  }
 },
 "nbformat": 4,
 "nbformat_minor": 2
}
